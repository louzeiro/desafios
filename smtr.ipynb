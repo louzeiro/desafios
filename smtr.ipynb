{
  "nbformat": 4,
  "nbformat_minor": 0,
  "metadata": {
    "colab": {
      "name": "smtr.ipynb",
      "provenance": [],
      "collapsed_sections": [],
      "authorship_tag": "ABX9TyMbfSYZphJPFh81KG+eBYD4",
      "include_colab_link": true
    },
    "kernelspec": {
      "name": "python3",
      "display_name": "Python 3"
    },
    "language_info": {
      "name": "python"
    }
  },
  "cells": [
    {
      "cell_type": "markdown",
      "metadata": {
        "id": "view-in-github",
        "colab_type": "text"
      },
      "source": [
        "<a href=\"https://colab.research.google.com/github/louzeiro/desafios/blob/main/smtr.ipynb\" target=\"_parent\"><img src=\"https://colab.research.google.com/assets/colab-badge.svg\" alt=\"Open In Colab\"/></a>"
      ]
    },
    {
      "cell_type": "code",
      "source": [
        "import requests\n",
        "import json\n",
        "import pandas as pd\n",
        "import datetime\n",
        "import time\n",
        "import pytz\n",
        "tz = pytz.timezone('America/Sao_Paulo')\n",
        "\n",
        "url_api = \"http://citgisbrj.tacom.srv.br:9977/gtfs-realtime-exporter/findAll/json\"\n",
        "tempo = 60"
      ],
      "metadata": {
        "id": "wYLEYk5crGf2"
      },
      "execution_count": 12,
      "outputs": []
    },
    {
      "cell_type": "code",
      "execution_count": 65,
      "metadata": {
        "colab": {
          "base_uri": "https://localhost:8080/",
          "height": 476
        },
        "id": "6yWV_gmmpWdq",
        "outputId": "0138ea2b-84fe-407e-90f7-0d6ab953ad49"
      },
      "outputs": [
        {
          "output_type": "execute_result",
          "data": {
            "text/plain": [
              "   longitude   latitude vei_nro_gestor  direcao  velocidade inicio_viagem  \\\n",
              "0 -43.394143 -22.963703          13428        0          47    1660593424   \n",
              "1 -43.361862 -22.915712          47031        0          31    1660601662   \n",
              "2 -43.365157 -23.001053          47026        5          29    1660605281   \n",
              "3 -43.335785 -22.869882          47011        7           9    1660592457   \n",
              "4 -43.366600 -23.001145          86811        3           0    1660602561   \n",
              "\n",
              "  linha                                  nomeLinha  \\\n",
              "0    51  VILA MILITAR X TERMINAL RECREIO (PARADOR)   \n",
              "1    41    MADUREIRA X TERMINAL RECREIO (EXPRESSO)   \n",
              "2   53A     TERMINAL SULACAP X ALVORADA (EXPRESSO)   \n",
              "3    46                PENHA X ALVORADA (EXPRESSO)   \n",
              "4   25A             MATO ALTO X ALVORADA (PARADOR)   \n",
              "\n",
              "                                      nomeItinerario comunicacao  \\\n",
              "0  ITI VOLTA - 51 VILA MILITAR X TERMINAL RECREIO...  1660606287   \n",
              "1  ITI VOLTA - 41 MADUREIRA X TERMINAL RECREIO (E...  1660606316   \n",
              "2  ITI VOLTA - 53A TERMINAL SULACAP X ALVORADA (E...  1660606289   \n",
              "3           ITI IDA - 46 PENHA X ALVORADA (EXPRESSO)  1660606293   \n",
              "4       ITI IDA - 25A MATO ALTO X ALVORADA (PARADOR)  1660606303   \n",
              "\n",
              "                coleta_atual  \n",
              "0 2022-08-15 23:31:59.745827  \n",
              "1 2022-08-15 23:31:59.745827  \n",
              "2 2022-08-15 23:31:59.745827  \n",
              "3 2022-08-15 23:31:59.745827  \n",
              "4 2022-08-15 23:31:59.745827  "
            ],
            "text/html": [
              "\n",
              "  <div id=\"df-2cc35735-5a77-4f42-b441-e7f0902d116e\">\n",
              "    <div class=\"colab-df-container\">\n",
              "      <div>\n",
              "<style scoped>\n",
              "    .dataframe tbody tr th:only-of-type {\n",
              "        vertical-align: middle;\n",
              "    }\n",
              "\n",
              "    .dataframe tbody tr th {\n",
              "        vertical-align: top;\n",
              "    }\n",
              "\n",
              "    .dataframe thead th {\n",
              "        text-align: right;\n",
              "    }\n",
              "</style>\n",
              "<table border=\"1\" class=\"dataframe\">\n",
              "  <thead>\n",
              "    <tr style=\"text-align: right;\">\n",
              "      <th></th>\n",
              "      <th>longitude</th>\n",
              "      <th>latitude</th>\n",
              "      <th>vei_nro_gestor</th>\n",
              "      <th>direcao</th>\n",
              "      <th>velocidade</th>\n",
              "      <th>inicio_viagem</th>\n",
              "      <th>linha</th>\n",
              "      <th>nomeLinha</th>\n",
              "      <th>nomeItinerario</th>\n",
              "      <th>comunicacao</th>\n",
              "      <th>coleta_atual</th>\n",
              "    </tr>\n",
              "  </thead>\n",
              "  <tbody>\n",
              "    <tr>\n",
              "      <th>0</th>\n",
              "      <td>-43.394143</td>\n",
              "      <td>-22.963703</td>\n",
              "      <td>13428</td>\n",
              "      <td>0</td>\n",
              "      <td>47</td>\n",
              "      <td>1660593424</td>\n",
              "      <td>51</td>\n",
              "      <td>VILA MILITAR X TERMINAL RECREIO (PARADOR)</td>\n",
              "      <td>ITI VOLTA - 51 VILA MILITAR X TERMINAL RECREIO...</td>\n",
              "      <td>1660606287</td>\n",
              "      <td>2022-08-15 23:31:59.745827</td>\n",
              "    </tr>\n",
              "    <tr>\n",
              "      <th>1</th>\n",
              "      <td>-43.361862</td>\n",
              "      <td>-22.915712</td>\n",
              "      <td>47031</td>\n",
              "      <td>0</td>\n",
              "      <td>31</td>\n",
              "      <td>1660601662</td>\n",
              "      <td>41</td>\n",
              "      <td>MADUREIRA X TERMINAL RECREIO (EXPRESSO)</td>\n",
              "      <td>ITI VOLTA - 41 MADUREIRA X TERMINAL RECREIO (E...</td>\n",
              "      <td>1660606316</td>\n",
              "      <td>2022-08-15 23:31:59.745827</td>\n",
              "    </tr>\n",
              "    <tr>\n",
              "      <th>2</th>\n",
              "      <td>-43.365157</td>\n",
              "      <td>-23.001053</td>\n",
              "      <td>47026</td>\n",
              "      <td>5</td>\n",
              "      <td>29</td>\n",
              "      <td>1660605281</td>\n",
              "      <td>53A</td>\n",
              "      <td>TERMINAL SULACAP X ALVORADA (EXPRESSO)</td>\n",
              "      <td>ITI VOLTA - 53A TERMINAL SULACAP X ALVORADA (E...</td>\n",
              "      <td>1660606289</td>\n",
              "      <td>2022-08-15 23:31:59.745827</td>\n",
              "    </tr>\n",
              "    <tr>\n",
              "      <th>3</th>\n",
              "      <td>-43.335785</td>\n",
              "      <td>-22.869882</td>\n",
              "      <td>47011</td>\n",
              "      <td>7</td>\n",
              "      <td>9</td>\n",
              "      <td>1660592457</td>\n",
              "      <td>46</td>\n",
              "      <td>PENHA X ALVORADA (EXPRESSO)</td>\n",
              "      <td>ITI IDA - 46 PENHA X ALVORADA (EXPRESSO)</td>\n",
              "      <td>1660606293</td>\n",
              "      <td>2022-08-15 23:31:59.745827</td>\n",
              "    </tr>\n",
              "    <tr>\n",
              "      <th>4</th>\n",
              "      <td>-43.366600</td>\n",
              "      <td>-23.001145</td>\n",
              "      <td>86811</td>\n",
              "      <td>3</td>\n",
              "      <td>0</td>\n",
              "      <td>1660602561</td>\n",
              "      <td>25A</td>\n",
              "      <td>MATO ALTO X ALVORADA (PARADOR)</td>\n",
              "      <td>ITI IDA - 25A MATO ALTO X ALVORADA (PARADOR)</td>\n",
              "      <td>1660606303</td>\n",
              "      <td>2022-08-15 23:31:59.745827</td>\n",
              "    </tr>\n",
              "  </tbody>\n",
              "</table>\n",
              "</div>\n",
              "      <button class=\"colab-df-convert\" onclick=\"convertToInteractive('df-2cc35735-5a77-4f42-b441-e7f0902d116e')\"\n",
              "              title=\"Convert this dataframe to an interactive table.\"\n",
              "              style=\"display:none;\">\n",
              "        \n",
              "  <svg xmlns=\"http://www.w3.org/2000/svg\" height=\"24px\"viewBox=\"0 0 24 24\"\n",
              "       width=\"24px\">\n",
              "    <path d=\"M0 0h24v24H0V0z\" fill=\"none\"/>\n",
              "    <path d=\"M18.56 5.44l.94 2.06.94-2.06 2.06-.94-2.06-.94-.94-2.06-.94 2.06-2.06.94zm-11 1L8.5 8.5l.94-2.06 2.06-.94-2.06-.94L8.5 2.5l-.94 2.06-2.06.94zm10 10l.94 2.06.94-2.06 2.06-.94-2.06-.94-.94-2.06-.94 2.06-2.06.94z\"/><path d=\"M17.41 7.96l-1.37-1.37c-.4-.4-.92-.59-1.43-.59-.52 0-1.04.2-1.43.59L10.3 9.45l-7.72 7.72c-.78.78-.78 2.05 0 2.83L4 21.41c.39.39.9.59 1.41.59.51 0 1.02-.2 1.41-.59l7.78-7.78 2.81-2.81c.8-.78.8-2.07 0-2.86zM5.41 20L4 18.59l7.72-7.72 1.47 1.35L5.41 20z\"/>\n",
              "  </svg>\n",
              "      </button>\n",
              "      \n",
              "  <style>\n",
              "    .colab-df-container {\n",
              "      display:flex;\n",
              "      flex-wrap:wrap;\n",
              "      gap: 12px;\n",
              "    }\n",
              "\n",
              "    .colab-df-convert {\n",
              "      background-color: #E8F0FE;\n",
              "      border: none;\n",
              "      border-radius: 50%;\n",
              "      cursor: pointer;\n",
              "      display: none;\n",
              "      fill: #1967D2;\n",
              "      height: 32px;\n",
              "      padding: 0 0 0 0;\n",
              "      width: 32px;\n",
              "    }\n",
              "\n",
              "    .colab-df-convert:hover {\n",
              "      background-color: #E2EBFA;\n",
              "      box-shadow: 0px 1px 2px rgba(60, 64, 67, 0.3), 0px 1px 3px 1px rgba(60, 64, 67, 0.15);\n",
              "      fill: #174EA6;\n",
              "    }\n",
              "\n",
              "    [theme=dark] .colab-df-convert {\n",
              "      background-color: #3B4455;\n",
              "      fill: #D2E3FC;\n",
              "    }\n",
              "\n",
              "    [theme=dark] .colab-df-convert:hover {\n",
              "      background-color: #434B5C;\n",
              "      box-shadow: 0px 1px 3px 1px rgba(0, 0, 0, 0.15);\n",
              "      filter: drop-shadow(0px 1px 2px rgba(0, 0, 0, 0.3));\n",
              "      fill: #FFFFFF;\n",
              "    }\n",
              "  </style>\n",
              "\n",
              "      <script>\n",
              "        const buttonEl =\n",
              "          document.querySelector('#df-2cc35735-5a77-4f42-b441-e7f0902d116e button.colab-df-convert');\n",
              "        buttonEl.style.display =\n",
              "          google.colab.kernel.accessAllowed ? 'block' : 'none';\n",
              "\n",
              "        async function convertToInteractive(key) {\n",
              "          const element = document.querySelector('#df-2cc35735-5a77-4f42-b441-e7f0902d116e');\n",
              "          const dataTable =\n",
              "            await google.colab.kernel.invokeFunction('convertToInteractive',\n",
              "                                                     [key], {});\n",
              "          if (!dataTable) return;\n",
              "\n",
              "          const docLinkHtml = 'Like what you see? Visit the ' +\n",
              "            '<a target=\"_blank\" href=https://colab.research.google.com/notebooks/data_table.ipynb>data table notebook</a>'\n",
              "            + ' to learn more about interactive tables.';\n",
              "          element.innerHTML = '';\n",
              "          dataTable['output_type'] = 'display_data';\n",
              "          await google.colab.output.renderOutput(dataTable, element);\n",
              "          const docLink = document.createElement('div');\n",
              "          docLink.innerHTML = docLinkHtml;\n",
              "          element.appendChild(docLink);\n",
              "        }\n",
              "      </script>\n",
              "    </div>\n",
              "  </div>\n",
              "  "
            ]
          },
          "metadata": {},
          "execution_count": 65
        }
      ],
      "source": [
        "\n",
        "instante = datetime.datetime.now()\n",
        "url_api = \"http://citgisbrj.tacom.srv.br:9977/gtfs-realtime-exporter/findAll/json\"\n",
        "r = requests.get(url_api)\n",
        "json_request = json.loads(r.text)\n",
        "\n",
        "data = pd.DataFrame.from_dict(json_request, orient='columns')\n",
        "data['coleta_atual'] = pd.to_datetime(instante)\n",
        "\n",
        "data.head(5)"
      ]
    },
    {
      "cell_type": "code",
      "source": [
        "instante_atual"
      ],
      "metadata": {
        "colab": {
          "base_uri": "https://localhost:8080/"
        },
        "id": "Aj6FL4ldn5YV",
        "outputId": "298d8208-6048-4650-9c27-346ae0690ff9"
      },
      "execution_count": 19,
      "outputs": [
        {
          "output_type": "execute_result",
          "data": {
            "text/plain": [
              "datetime.datetime(2022, 8, 15, 22, 48, 14, 67667)"
            ]
          },
          "metadata": {},
          "execution_count": 19
        }
      ]
    },
    {
      "cell_type": "code",
      "source": [
        "tempo = 60\n",
        "print('Aguardando {} minutos.'.format(tempo/60))\n",
        "time.sleep(tempo) \n",
        "\n",
        "#data['coleta_antiga'] = data['coleta_atual']\n",
        "\n",
        "instante = datetime.datetime.now()\n",
        "\n",
        "r = requests.get(url_api)\n",
        "json_request = json.loads(r.text)\n",
        "\n",
        "data2 = pd.DataFrame.from_dict(json_request, orient='columns')\n",
        "data2['coleta_atual'] = pd.to_datetime(instante)\n",
        "dim = data.shape\n",
        "new_vei = 0\n",
        "for idx in data2.index:\n",
        "\n",
        "  # se o veiculo não está no dataframe, então add\n",
        "  if not data2['vei_nro_gestor'][idx] in data.vei_nro_gestor.values: #verificando se o veiculo ja esta na BD\n",
        "    #print('O veículo {} já esta está na BD'.format(data2['vei_nro_gestor'][idx]))\n",
        "    #print(idx)\n",
        "    #print('---------Add novo veiculo ao df----------------------------------------------------')\n",
        "    novo_veiculo = data2.loc[data2['vei_nro_gestor']==data2['vei_nro_gestor'][idx]]\n",
        "    data = data.append(novo_veiculo, ignore_index=True)\n",
        "    new_vei = new_vei+1\n",
        "  \n",
        "  #veículo já está no df\n",
        "  \n",
        "  else:\n",
        "    veiculo = data.loc[data['vei_nro_gestor']==data2['vei_nro_gestor'][idx]]\n",
        "    idx_vei = data[data['vei_nro_gestor']==data2['vei_nro_gestor'][idx]].index.values\n",
        "\n",
        "    #verificando se as coordenadas são diferentes\n",
        "    if (veiculo.longitude.values != data2.loc[idx].longitude or \n",
        "        veiculo.latitude.values != data2.loc[idx].latitude):\n",
        "      # então atualiza o veiculo no df\n",
        "      #print(idx)\n",
        "      #print('--------- Atualizando a posição do veículo {}--------------------------'.format(data2['vei_nro_gestor'][idx]))\n",
        "      data.loc[idx_vei] = data2.loc[idx].values\n",
        "    \n",
        "    #as coordenadas são as mesma, verificando se a mais de 1 min\n",
        "    else:\n",
        "      tempo = data2.loc[idx].coleta_atual - veiculo.coleta_atual\n",
        "      if (tempo.dt.seconds > 60).all():\n",
        "        print('----------------------------------')\n",
        "        print('O veiculo {} foi atualizado a {} segundos, logo seus dados não serão atualizados na base'.format(data2['vei_nro_gestor'][idx], tempo))\n",
        "        print(veiculo.values)\n",
        "        print('----------------------------------')\n",
        "        print(data2.loc[idx].values)\n",
        "        print()\n",
        "        print('Index do vei no data ===> {}'.format(idx_vei))\n",
        "        print(data.loc[idx_vei].values)\n",
        "        print(data.shape)\n",
        "        data.drop(idx_vei, axis=0, inplace=True)\n",
        "        print(data.shape)\n",
        "#        data.drop([idx_vei], inplace=True)\n",
        "\n",
        "        #data.drop([idx_vei], axis=0, inplace=True)\n",
        "        #data.loc[idx_vei] = data2.loc[idx].values\n"
      ],
      "metadata": {
        "colab": {
          "base_uri": "https://localhost:8080/"
        },
        "id": "9oxSeBMttfXb",
        "outputId": "4984b85c-fce4-43ba-e743-a5b2fc72444c"
      },
      "execution_count": 132,
      "outputs": [
        {
          "output_type": "stream",
          "name": "stdout",
          "text": [
            "Aguardando 1.0 minutos.\n",
            "----------------------------------\n",
            "O veiculo 47002 foi atualizado a 65   0 days 00:02:07.100151\n",
            "Name: coleta_atual, dtype: timedelta64[ns] segundos, logo seus dados não serão atualizados na base\n",
            "[[-43.366377 -23.000713 '47002' 2 0 '1660605726' '53A'\n",
            "  'TERMINAL SULACAP X ALVORADA (EXPRESSO)'\n",
            "  'ITI VOLTA - 53A TERMINAL SULACAP X ALVORADA (EXPRESSO)' '1660615075'\n",
            "  Timestamp('2022-08-16 01:58:11.149116')]]\n",
            "----------------------------------\n",
            "[-43.366377 -23.000713 '47002' 4 0 '1660605726' '53A'\n",
            " 'TERMINAL SULACAP X ALVORADA (EXPRESSO)'\n",
            " 'ITI VOLTA - 53A TERMINAL SULACAP X ALVORADA (EXPRESSO)' '1660615197'\n",
            " Timestamp('2022-08-16 02:00:18.249267')]\n",
            "\n",
            "Index do vei no data ===> [65]\n",
            "[[-43.366377 -23.000713 '47002' 2 0 '1660605726' '53A'\n",
            "  'TERMINAL SULACAP X ALVORADA (EXPRESSO)'\n",
            "  'ITI VOLTA - 53A TERMINAL SULACAP X ALVORADA (EXPRESSO)' '1660615075'\n",
            "  Timestamp('2022-08-16 01:58:11.149116')]]\n",
            "(66, 11)\n",
            "(65, 11)\n",
            "----------------------------------\n",
            "O veiculo 86840 foi atualizado a 64   0 days 00:02:07.100151\n",
            "Name: coleta_atual, dtype: timedelta64[ns] segundos, logo seus dados não serão atualizados na base\n",
            "[[-43.47104 -23.015663 '86840' 3 0 '1660610948' '20'\n",
            "  'SANTA CRUZ X SALVADOR ALLENDE (EXPRESSO)' 'Iti Default' '1660615075'\n",
            "  Timestamp('2022-08-16 01:58:11.149116')]]\n",
            "----------------------------------\n",
            "[-43.47104 -23.015663 '86840' 6 0 '1660610948' '20'\n",
            " 'SANTA CRUZ X SALVADOR ALLENDE (EXPRESSO)' 'Iti Default' '1660615197'\n",
            " Timestamp('2022-08-16 02:00:18.249267')]\n",
            "\n",
            "Index do vei no data ===> [64]\n",
            "[[-43.47104 -23.015663 '86840' 3 0 '1660610948' '20'\n",
            "  'SANTA CRUZ X SALVADOR ALLENDE (EXPRESSO)' 'Iti Default' '1660615075'\n",
            "  Timestamp('2022-08-16 01:58:11.149116')]]\n",
            "(65, 11)\n",
            "(64, 11)\n"
          ]
        }
      ]
    },
    {
      "cell_type": "markdown",
      "source": [
        "# Completo"
      ],
      "metadata": {
        "id": "7OT-s47fp9tp"
      }
    },
    {
      "cell_type": "code",
      "source": [
        "instante = datetime.datetime.now(tz=tz)\n",
        "r = requests.get(url_api)\n",
        "json_request = json.loads(r.text)\n",
        "\n",
        "data = pd.DataFrame.from_dict(json_request, orient='columns')\n",
        "data['coleta_atual'] = instante\n",
        "\n",
        "for i in range(50):\n",
        "  print('Aguardando {} minutos.'.format(tempo/60))\n",
        "  time.sleep(tempo) \n",
        "\n",
        "  #data['coleta_antiga'] = data['coleta_atual']\n",
        "\n",
        "  instante = datetime.datetime.now(tz=tz)\n",
        "\n",
        "\n",
        "  r = requests.get(url_api)\n",
        "  json_request = json.loads(r.text)\n",
        "\n",
        "  data2 = pd.DataFrame.from_dict(json_request, orient='columns')\n",
        "  data2['coleta_atual'] = instante\n",
        "  dim = data.shape\n",
        "  new_vei = 0\n",
        "  for idx in data2.index:\n",
        "\n",
        "    # se o veiculo não está no dataframe, então add\n",
        "    if not data2['vei_nro_gestor'][idx] in data.vei_nro_gestor.values: #verificando se o veiculo ja esta na BD\n",
        "      #print('O veículo {} já esta está na BD'.format(data2['vei_nro_gestor'][idx]))\n",
        "      #print(idx)\n",
        "      #print('---------Add novo veiculo ao df----------------------------------------------------')\n",
        "      novo_veiculo = data2.loc[data2['vei_nro_gestor']==data2['vei_nro_gestor'][idx]]\n",
        "      data = data.append(novo_veiculo, ignore_index=True)\n",
        "      new_vei = new_vei+1\n",
        "\n",
        "    #veículo já está no df\n",
        "\n",
        "    else:\n",
        "      veiculo = data.loc[data['vei_nro_gestor']==data2['vei_nro_gestor'][idx]]\n",
        "      idx_vei = data[data['vei_nro_gestor']==data2['vei_nro_gestor'][idx]].index.values\n",
        "\n",
        "      #verificando se as coordenadas são diferentes\n",
        "      if (veiculo.longitude.values != data2.loc[idx].longitude or \n",
        "          veiculo.latitude.values != data2.loc[idx].latitude):\n",
        "        # então atualiza o veiculo no df\n",
        "        #print(idx)\n",
        "        #print('--------- Atualizando a posição do veículo {}--------------------------'.format(data2['vei_nro_gestor'][idx]))\n",
        "        data.loc[idx_vei] = data2.loc[idx].values\n",
        "\n",
        "      #as coordenadas são as mesma, verificando se a mais de 1 min\n",
        "      else:\n",
        "        dif_tempo = data2.loc[idx].coleta_atual - veiculo.coleta_atual\n",
        "        if (dif_tempo.dt.seconds > 60).all():\n",
        "          print('----------------------------------')\n",
        "          print('O veiculo {} foi atualizado a {} segundos, logo seus dados não serão atualizados na base'.format(data2['vei_nro_gestor'][idx], dif_tempo))\n",
        "          #print(veiculo.values)\n",
        "          #print('----------------------------------')\n",
        "          #print(data2.loc[idx].values)\n",
        "          print()\n",
        "          #print('Index do vei no data ===> {}'.format(idx_vei))\n",
        "          #print(data.loc[idx_vei].values)\n",
        "          #print(data.shape)\n",
        "          data.drop(idx_vei, axis=0, inplace=True)\n",
        "          #print(data.shape)\n",
        "  #        data.drop([idx_vei], inplace=True)\n",
        "\n",
        "          #data.drop([idx_vei], axis=0, inplace=True)\n",
        "          #data.loc[idx_vei] = data2.loc[idx].values\n",
        "\n",
        "data.to_csv('infos.csv', index=False)"
      ],
      "metadata": {
        "colab": {
          "base_uri": "https://localhost:8080/"
        },
        "id": "Cby3IS4tEZO8",
        "outputId": "3718073c-144f-413e-a43d-058568833062"
      },
      "execution_count": null,
      "outputs": [
        {
          "output_type": "stream",
          "name": "stdout",
          "text": [
            "Aguardando 1.0 minutos.\n",
            "Aguardando 1.0 minutos.\n",
            "Aguardando 1.0 minutos.\n",
            "Aguardando 1.0 minutos.\n",
            "----------------------------------\n",
            "O veiculo 90005 foi atualizado a 1   0 days 00:02:01.270397\n",
            "Name: coleta_atual, dtype: timedelta64[ns] segundos, logo seus dados não serão atualizados na base\n",
            "\n",
            "Aguardando 1.0 minutos.\n",
            "Aguardando 1.0 minutos.\n",
            "Aguardando 1.0 minutos.\n",
            "Aguardando 1.0 minutos.\n",
            "Aguardando 1.0 minutos.\n",
            "Aguardando 1.0 minutos.\n"
          ]
        }
      ]
    },
    {
      "cell_type": "code",
      "source": [
        "instante2=datetime.datetime.now(tz=tz)\n",
        "time.sleep(6)\n",
        "instante3=datetime.datetime.now(tz=tz)\n",
        "print(instante2)\n",
        "print(instante3)\n",
        "print(instante2-instante3)\n",
        "instante3.timestamp() - instante2.timestamp()\n",
        "\n",
        "#outra maneira\n",
        "data['teste'] = instante2\n",
        "data['teste2'] = instante3\n",
        "a = data['teste2'][0] - data['teste'][0]\n",
        "print(a.total_seconds())\n",
        "a"
      ],
      "metadata": {
        "id": "xQE005Q7kc2c"
      },
      "execution_count": null,
      "outputs": []
    },
    {
      "cell_type": "code",
      "source": [
        ""
      ],
      "metadata": {
        "id": "ZM_ttT_zzcX1"
      },
      "execution_count": null,
      "outputs": []
    },
    {
      "cell_type": "code",
      "source": [
        "print(data2.loc[idx].coleta_atual)\n",
        "print(veiculo.coleta_atual)"
      ],
      "metadata": {
        "colab": {
          "base_uri": "https://localhost:8080/"
        },
        "id": "InNbQWHFyWMg",
        "outputId": "64c2792a-61f3-424f-d223-1064c3b1b032"
      },
      "execution_count": 217,
      "outputs": [
        {
          "output_type": "stream",
          "name": "stdout",
          "text": [
            "2022-08-16 00:50:22.601119-03:00\n",
            "8   2022-08-16 00:49:21.813974-03:00\n",
            "Name: coleta_atual, dtype: datetime64[ns, America/Sao_Paulo]\n"
          ]
        }
      ]
    },
    {
      "cell_type": "code",
      "source": [
        " dif_tempo = data2.loc[idx].coleta_atual - veiculo.coleta_atual\n",
        " print(dif_tempo)"
      ],
      "metadata": {
        "colab": {
          "base_uri": "https://localhost:8080/"
        },
        "id": "c7jFp9VfwYJg",
        "outputId": "1bf21389-33df-426e-f4e8-0790c4adada2"
      },
      "execution_count": 218,
      "outputs": [
        {
          "output_type": "stream",
          "name": "stdout",
          "text": [
            "8   0 days 00:01:00.787145\n",
            "Name: coleta_atual, dtype: timedelta64[ns]\n"
          ]
        }
      ]
    },
    {
      "cell_type": "markdown",
      "source": [
        "# Prefect"
      ],
      "metadata": {
        "id": "Y6Wuc6fzzqBd"
      }
    },
    {
      "cell_type": "code",
      "source": [
        "!pip3 install prefect\n"
      ],
      "metadata": {
        "id": "MYzKEBidl1C3"
      },
      "execution_count": null,
      "outputs": []
    },
    {
      "cell_type": "code",
      "source": [
        "import prefect"
      ],
      "metadata": {
        "id": "Vb9xP77n7qcx"
      },
      "execution_count": 8,
      "outputs": []
    },
    {
      "cell_type": "code",
      "source": [
        "prefect.Flow"
      ],
      "metadata": {
        "colab": {
          "base_uri": "https://localhost:8080/"
        },
        "id": "oH5UZAS86Q0S",
        "outputId": "28f0989c-0bd9-46c2-c84d-060a9c38e9aa"
      },
      "execution_count": 10,
      "outputs": [
        {
          "output_type": "execute_result",
          "data": {
            "text/plain": [
              "prefect.flows.Flow"
            ]
          },
          "metadata": {},
          "execution_count": 10
        }
      ]
    },
    {
      "cell_type": "code",
      "source": [
        "#data['coleta_atual'] =\n",
        "pd.to_datetime(data['coleta_atual'], unit='ms').dt.tz_localize('UTC').dt.tz_convert('America/Sao_Paulo') - instante"
      ],
      "metadata": {
        "colab": {
          "base_uri": "https://localhost:8080/",
          "height": 330
        },
        "id": "mat0OA3WL4Lv",
        "outputId": "72662637-b234-4f48-ff56-d59756648d54"
      },
      "execution_count": 144,
      "outputs": [
        {
          "output_type": "error",
          "ename": "TypeError",
          "evalue": "ignored",
          "traceback": [
            "\u001b[0;31m---------------------------------------------------------------------------\u001b[0m",
            "\u001b[0;31mTypeError\u001b[0m                                 Traceback (most recent call last)",
            "\u001b[0;32m<ipython-input-144-32112b11f95a>\u001b[0m in \u001b[0;36m<module>\u001b[0;34m\u001b[0m\n\u001b[1;32m      1\u001b[0m \u001b[0;31m#data['coleta_atual'] =\u001b[0m\u001b[0;34m\u001b[0m\u001b[0;34m\u001b[0m\u001b[0;34m\u001b[0m\u001b[0m\n\u001b[0;32m----> 2\u001b[0;31m \u001b[0mpd\u001b[0m\u001b[0;34m.\u001b[0m\u001b[0mto_datetime\u001b[0m\u001b[0;34m(\u001b[0m\u001b[0mdata\u001b[0m\u001b[0;34m[\u001b[0m\u001b[0;34m'coleta_atual'\u001b[0m\u001b[0;34m]\u001b[0m\u001b[0;34m,\u001b[0m \u001b[0munit\u001b[0m\u001b[0;34m=\u001b[0m\u001b[0;34m'ms'\u001b[0m\u001b[0;34m)\u001b[0m\u001b[0;34m.\u001b[0m\u001b[0mdt\u001b[0m\u001b[0;34m.\u001b[0m\u001b[0mtz_localize\u001b[0m\u001b[0;34m(\u001b[0m\u001b[0;34m'UTC'\u001b[0m\u001b[0;34m)\u001b[0m\u001b[0;34m.\u001b[0m\u001b[0mdt\u001b[0m\u001b[0;34m.\u001b[0m\u001b[0mtz_convert\u001b[0m\u001b[0;34m(\u001b[0m\u001b[0;34m'America/Sao_Paulo'\u001b[0m\u001b[0;34m)\u001b[0m \u001b[0;34m-\u001b[0m \u001b[0minstante\u001b[0m\u001b[0;34m\u001b[0m\u001b[0;34m\u001b[0m\u001b[0m\n\u001b[0m",
            "\u001b[0;32m/usr/local/lib/python3.7/dist-packages/pandas/core/ops/common.py\u001b[0m in \u001b[0;36mnew_method\u001b[0;34m(self, other)\u001b[0m\n\u001b[1;32m     67\u001b[0m         \u001b[0mother\u001b[0m \u001b[0;34m=\u001b[0m \u001b[0mitem_from_zerodim\u001b[0m\u001b[0;34m(\u001b[0m\u001b[0mother\u001b[0m\u001b[0;34m)\u001b[0m\u001b[0;34m\u001b[0m\u001b[0;34m\u001b[0m\u001b[0m\n\u001b[1;32m     68\u001b[0m \u001b[0;34m\u001b[0m\u001b[0m\n\u001b[0;32m---> 69\u001b[0;31m         \u001b[0;32mreturn\u001b[0m \u001b[0mmethod\u001b[0m\u001b[0;34m(\u001b[0m\u001b[0mself\u001b[0m\u001b[0;34m,\u001b[0m \u001b[0mother\u001b[0m\u001b[0;34m)\u001b[0m\u001b[0;34m\u001b[0m\u001b[0;34m\u001b[0m\u001b[0m\n\u001b[0m\u001b[1;32m     70\u001b[0m \u001b[0;34m\u001b[0m\u001b[0m\n\u001b[1;32m     71\u001b[0m     \u001b[0;32mreturn\u001b[0m \u001b[0mnew_method\u001b[0m\u001b[0;34m\u001b[0m\u001b[0;34m\u001b[0m\u001b[0m\n",
            "\u001b[0;32m/usr/local/lib/python3.7/dist-packages/pandas/core/arraylike.py\u001b[0m in \u001b[0;36m__sub__\u001b[0;34m(self, other)\u001b[0m\n\u001b[1;32m     98\u001b[0m     \u001b[0;34m@\u001b[0m\u001b[0munpack_zerodim_and_defer\u001b[0m\u001b[0;34m(\u001b[0m\u001b[0;34m\"__sub__\"\u001b[0m\u001b[0;34m)\u001b[0m\u001b[0;34m\u001b[0m\u001b[0;34m\u001b[0m\u001b[0m\n\u001b[1;32m     99\u001b[0m     \u001b[0;32mdef\u001b[0m \u001b[0m__sub__\u001b[0m\u001b[0;34m(\u001b[0m\u001b[0mself\u001b[0m\u001b[0;34m,\u001b[0m \u001b[0mother\u001b[0m\u001b[0;34m)\u001b[0m\u001b[0;34m:\u001b[0m\u001b[0;34m\u001b[0m\u001b[0;34m\u001b[0m\u001b[0m\n\u001b[0;32m--> 100\u001b[0;31m         \u001b[0;32mreturn\u001b[0m \u001b[0mself\u001b[0m\u001b[0;34m.\u001b[0m\u001b[0m_arith_method\u001b[0m\u001b[0;34m(\u001b[0m\u001b[0mother\u001b[0m\u001b[0;34m,\u001b[0m \u001b[0moperator\u001b[0m\u001b[0;34m.\u001b[0m\u001b[0msub\u001b[0m\u001b[0;34m)\u001b[0m\u001b[0;34m\u001b[0m\u001b[0;34m\u001b[0m\u001b[0m\n\u001b[0m\u001b[1;32m    101\u001b[0m \u001b[0;34m\u001b[0m\u001b[0m\n\u001b[1;32m    102\u001b[0m     \u001b[0;34m@\u001b[0m\u001b[0munpack_zerodim_and_defer\u001b[0m\u001b[0;34m(\u001b[0m\u001b[0;34m\"__rsub__\"\u001b[0m\u001b[0;34m)\u001b[0m\u001b[0;34m\u001b[0m\u001b[0;34m\u001b[0m\u001b[0m\n",
            "\u001b[0;32m/usr/local/lib/python3.7/dist-packages/pandas/core/series.py\u001b[0m in \u001b[0;36m_arith_method\u001b[0;34m(self, other, op)\u001b[0m\n\u001b[1;32m   5524\u001b[0m \u001b[0;34m\u001b[0m\u001b[0m\n\u001b[1;32m   5525\u001b[0m         \u001b[0;32mwith\u001b[0m \u001b[0mnp\u001b[0m\u001b[0;34m.\u001b[0m\u001b[0merrstate\u001b[0m\u001b[0;34m(\u001b[0m\u001b[0mall\u001b[0m\u001b[0;34m=\u001b[0m\u001b[0;34m\"ignore\"\u001b[0m\u001b[0;34m)\u001b[0m\u001b[0;34m:\u001b[0m\u001b[0;34m\u001b[0m\u001b[0;34m\u001b[0m\u001b[0m\n\u001b[0;32m-> 5526\u001b[0;31m             \u001b[0mresult\u001b[0m \u001b[0;34m=\u001b[0m \u001b[0mops\u001b[0m\u001b[0;34m.\u001b[0m\u001b[0marithmetic_op\u001b[0m\u001b[0;34m(\u001b[0m\u001b[0mlvalues\u001b[0m\u001b[0;34m,\u001b[0m \u001b[0mrvalues\u001b[0m\u001b[0;34m,\u001b[0m \u001b[0mop\u001b[0m\u001b[0;34m)\u001b[0m\u001b[0;34m\u001b[0m\u001b[0;34m\u001b[0m\u001b[0m\n\u001b[0m\u001b[1;32m   5527\u001b[0m \u001b[0;34m\u001b[0m\u001b[0m\n\u001b[1;32m   5528\u001b[0m         \u001b[0;32mreturn\u001b[0m \u001b[0mself\u001b[0m\u001b[0;34m.\u001b[0m\u001b[0m_construct_result\u001b[0m\u001b[0;34m(\u001b[0m\u001b[0mresult\u001b[0m\u001b[0;34m,\u001b[0m \u001b[0mname\u001b[0m\u001b[0;34m=\u001b[0m\u001b[0mres_name\u001b[0m\u001b[0;34m)\u001b[0m\u001b[0;34m\u001b[0m\u001b[0;34m\u001b[0m\u001b[0m\n",
            "\u001b[0;32m/usr/local/lib/python3.7/dist-packages/pandas/core/ops/array_ops.py\u001b[0m in \u001b[0;36marithmetic_op\u001b[0;34m(left, right, op)\u001b[0m\n\u001b[1;32m    216\u001b[0m         \u001b[0;31m# Timedelta/Timestamp and other custom scalars are included in the check\u001b[0m\u001b[0;34m\u001b[0m\u001b[0;34m\u001b[0m\u001b[0;34m\u001b[0m\u001b[0m\n\u001b[1;32m    217\u001b[0m         \u001b[0;31m# because numexpr will fail on it, see GH#31457\u001b[0m\u001b[0;34m\u001b[0m\u001b[0;34m\u001b[0m\u001b[0;34m\u001b[0m\u001b[0m\n\u001b[0;32m--> 218\u001b[0;31m         \u001b[0mres_values\u001b[0m \u001b[0;34m=\u001b[0m \u001b[0mop\u001b[0m\u001b[0;34m(\u001b[0m\u001b[0mleft\u001b[0m\u001b[0;34m,\u001b[0m \u001b[0mright\u001b[0m\u001b[0;34m)\u001b[0m\u001b[0;34m\u001b[0m\u001b[0;34m\u001b[0m\u001b[0m\n\u001b[0m\u001b[1;32m    219\u001b[0m     \u001b[0;32melse\u001b[0m\u001b[0;34m:\u001b[0m\u001b[0;34m\u001b[0m\u001b[0;34m\u001b[0m\u001b[0m\n\u001b[1;32m    220\u001b[0m         \u001b[0;31m# TODO we should handle EAs consistently and move this check before the if/else\u001b[0m\u001b[0;34m\u001b[0m\u001b[0;34m\u001b[0m\u001b[0;34m\u001b[0m\u001b[0m\n",
            "\u001b[0;32m/usr/local/lib/python3.7/dist-packages/pandas/core/ops/common.py\u001b[0m in \u001b[0;36mnew_method\u001b[0;34m(self, other)\u001b[0m\n\u001b[1;32m     67\u001b[0m         \u001b[0mother\u001b[0m \u001b[0;34m=\u001b[0m \u001b[0mitem_from_zerodim\u001b[0m\u001b[0;34m(\u001b[0m\u001b[0mother\u001b[0m\u001b[0;34m)\u001b[0m\u001b[0;34m\u001b[0m\u001b[0;34m\u001b[0m\u001b[0m\n\u001b[1;32m     68\u001b[0m \u001b[0;34m\u001b[0m\u001b[0m\n\u001b[0;32m---> 69\u001b[0;31m         \u001b[0;32mreturn\u001b[0m \u001b[0mmethod\u001b[0m\u001b[0;34m(\u001b[0m\u001b[0mself\u001b[0m\u001b[0;34m,\u001b[0m \u001b[0mother\u001b[0m\u001b[0;34m)\u001b[0m\u001b[0;34m\u001b[0m\u001b[0;34m\u001b[0m\u001b[0m\n\u001b[0m\u001b[1;32m     70\u001b[0m \u001b[0;34m\u001b[0m\u001b[0m\n\u001b[1;32m     71\u001b[0m     \u001b[0;32mreturn\u001b[0m \u001b[0mnew_method\u001b[0m\u001b[0;34m\u001b[0m\u001b[0;34m\u001b[0m\u001b[0m\n",
            "\u001b[0;32m/usr/local/lib/python3.7/dist-packages/pandas/core/arrays/datetimelike.py\u001b[0m in \u001b[0;36m__sub__\u001b[0;34m(self, other)\u001b[0m\n\u001b[1;32m   1314\u001b[0m             \u001b[0mresult\u001b[0m \u001b[0;34m=\u001b[0m \u001b[0mself\u001b[0m\u001b[0;34m.\u001b[0m\u001b[0m_add_offset\u001b[0m\u001b[0;34m(\u001b[0m\u001b[0;34m-\u001b[0m\u001b[0mother\u001b[0m\u001b[0;34m)\u001b[0m\u001b[0;34m\u001b[0m\u001b[0;34m\u001b[0m\u001b[0m\n\u001b[1;32m   1315\u001b[0m         \u001b[0;32melif\u001b[0m \u001b[0misinstance\u001b[0m\u001b[0;34m(\u001b[0m\u001b[0mother\u001b[0m\u001b[0;34m,\u001b[0m \u001b[0;34m(\u001b[0m\u001b[0mdatetime\u001b[0m\u001b[0;34m,\u001b[0m \u001b[0mnp\u001b[0m\u001b[0;34m.\u001b[0m\u001b[0mdatetime64\u001b[0m\u001b[0;34m)\u001b[0m\u001b[0;34m)\u001b[0m\u001b[0;34m:\u001b[0m\u001b[0;34m\u001b[0m\u001b[0;34m\u001b[0m\u001b[0m\n\u001b[0;32m-> 1316\u001b[0;31m             \u001b[0mresult\u001b[0m \u001b[0;34m=\u001b[0m \u001b[0mself\u001b[0m\u001b[0;34m.\u001b[0m\u001b[0m_sub_datetimelike_scalar\u001b[0m\u001b[0;34m(\u001b[0m\u001b[0mother\u001b[0m\u001b[0;34m)\u001b[0m\u001b[0;34m\u001b[0m\u001b[0;34m\u001b[0m\u001b[0m\n\u001b[0m\u001b[1;32m   1317\u001b[0m         \u001b[0;32melif\u001b[0m \u001b[0mlib\u001b[0m\u001b[0;34m.\u001b[0m\u001b[0mis_integer\u001b[0m\u001b[0;34m(\u001b[0m\u001b[0mother\u001b[0m\u001b[0;34m)\u001b[0m\u001b[0;34m:\u001b[0m\u001b[0;34m\u001b[0m\u001b[0;34m\u001b[0m\u001b[0m\n\u001b[1;32m   1318\u001b[0m             \u001b[0;31m# This check must come after the check for np.timedelta64\u001b[0m\u001b[0;34m\u001b[0m\u001b[0;34m\u001b[0m\u001b[0;34m\u001b[0m\u001b[0m\n",
            "\u001b[0;32m/usr/local/lib/python3.7/dist-packages/pandas/core/arrays/datetimes.py\u001b[0m in \u001b[0;36m_sub_datetimelike_scalar\u001b[0;34m(self, other)\u001b[0m\n\u001b[1;32m    763\u001b[0m             \u001b[0;31m# require tz compat\u001b[0m\u001b[0;34m\u001b[0m\u001b[0;34m\u001b[0m\u001b[0;34m\u001b[0m\u001b[0m\n\u001b[1;32m    764\u001b[0m             raise TypeError(\n\u001b[0;32m--> 765\u001b[0;31m                 \u001b[0;34m\"Timestamp subtraction must have the same timezones or no timezones\"\u001b[0m\u001b[0;34m\u001b[0m\u001b[0;34m\u001b[0m\u001b[0m\n\u001b[0m\u001b[1;32m    766\u001b[0m             )\n\u001b[1;32m    767\u001b[0m \u001b[0;34m\u001b[0m\u001b[0m\n",
            "\u001b[0;31mTypeError\u001b[0m: Timestamp subtraction must have the same timezones or no timezones"
          ]
        }
      ]
    },
    {
      "cell_type": "code",
      "source": [
        "pd.to_datetime(instante).dt.tz_convert('America/Sao_Paulo')"
      ],
      "metadata": {
        "colab": {
          "base_uri": "https://localhost:8080/",
          "height": 167
        },
        "id": "8MxbruCBj_hI",
        "outputId": "6e97d398-82e4-48d7-d556-c8426347ab4b"
      },
      "execution_count": 142,
      "outputs": [
        {
          "output_type": "error",
          "ename": "AttributeError",
          "evalue": "ignored",
          "traceback": [
            "\u001b[0;31m---------------------------------------------------------------------------\u001b[0m",
            "\u001b[0;31mAttributeError\u001b[0m                            Traceback (most recent call last)",
            "\u001b[0;32m<ipython-input-142-db0fe4c1c7b2>\u001b[0m in \u001b[0;36m<module>\u001b[0;34m\u001b[0m\n\u001b[0;32m----> 1\u001b[0;31m \u001b[0mpd\u001b[0m\u001b[0;34m.\u001b[0m\u001b[0mto_datetime\u001b[0m\u001b[0;34m(\u001b[0m\u001b[0minstante\u001b[0m\u001b[0;34m)\u001b[0m\u001b[0;34m.\u001b[0m\u001b[0mdt\u001b[0m\u001b[0;34m.\u001b[0m\u001b[0mtz_convert\u001b[0m\u001b[0;34m(\u001b[0m\u001b[0;34m'America/Sao_Paulo'\u001b[0m\u001b[0;34m)\u001b[0m\u001b[0;34m\u001b[0m\u001b[0;34m\u001b[0m\u001b[0m\n\u001b[0m",
            "\u001b[0;31mAttributeError\u001b[0m: 'Timestamp' object has no attribute 'dt'"
          ]
        }
      ]
    },
    {
      "cell_type": "code",
      "source": [
        "pd.to_datetime(instante)"
      ],
      "metadata": {
        "colab": {
          "base_uri": "https://localhost:8080/"
        },
        "id": "SHH-LQWvjlcP",
        "outputId": "9a23d0f4-ca3b-433e-9deb-335e091037a7"
      },
      "execution_count": 138,
      "outputs": [
        {
          "output_type": "execute_result",
          "data": {
            "text/plain": [
              "Timestamp('2022-08-16 02:46:59.105065')"
            ]
          },
          "metadata": {},
          "execution_count": 138
        }
      ]
    },
    {
      "cell_type": "code",
      "source": [
        "data.drop([22], axis=0, inplace=True)"
      ],
      "metadata": {
        "id": "2jUO59jKECF0"
      },
      "execution_count": 111,
      "outputs": []
    },
    {
      "cell_type": "code",
      "source": [
        "dim = data.shape\n",
        "dim"
      ],
      "metadata": {
        "colab": {
          "base_uri": "https://localhost:8080/"
        },
        "id": "Voz6NDZaCjHQ",
        "outputId": "76deb598-6f90-4df1-8ed5-3ec190526f87"
      },
      "execution_count": 106,
      "outputs": [
        {
          "output_type": "execute_result",
          "data": {
            "text/plain": [
              "(66, 11)"
            ]
          },
          "metadata": {},
          "execution_count": 106
        }
      ]
    },
    {
      "cell_type": "code",
      "source": [
        "data.loc[22].values"
      ],
      "metadata": {
        "colab": {
          "base_uri": "https://localhost:8080/"
        },
        "id": "1YmcNSmH_0BQ",
        "outputId": "ca54da1e-369e-47eb-8afc-1340fc52c8a3"
      },
      "execution_count": 103,
      "outputs": [
        {
          "output_type": "execute_result",
          "data": {
            "text/plain": [
              "array([-43.391992, -22.964722, '13412', 6, 0, '1660594978', '12',\n",
              "       'PINGO DAGUA X ALVORADA (EXPRESSO)', 'Iti Default', '1660604228',\n",
              "       Timestamp('2022-08-15 23:33:19.033218')], dtype=object)"
            ]
          },
          "metadata": {},
          "execution_count": 103
        }
      ]
    },
    {
      "cell_type": "code",
      "source": [
        "data.drop([0], axis=0, inplace=True)\n",
        "data.head()"
      ],
      "metadata": {
        "colab": {
          "base_uri": "https://localhost:8080/",
          "height": 476
        },
        "id": "Og38e8cf_HU_",
        "outputId": "5405233a-acb5-410a-e132-f0e369e54bc5"
      },
      "execution_count": 98,
      "outputs": [
        {
          "output_type": "execute_result",
          "data": {
            "text/plain": [
              "   longitude   latitude vei_nro_gestor  direcao  velocidade inicio_viagem  \\\n",
              "1 -43.372608 -22.941678          47031        3          44    1660601662   \n",
              "2 -43.400770 -22.886433          47026        4          32    1660607894   \n",
              "3 -43.334903 -22.867047          47011        4          35    1660592457   \n",
              "4 -43.466297 -23.014148          86811        5          45    1660602561   \n",
              "5 -43.312563 -23.006857          13420        2           0    1660599901   \n",
              "\n",
              "  linha                                nomeLinha  \\\n",
              "1    41  MADUREIRA X TERMINAL RECREIO (EXPRESSO)   \n",
              "2   53A   TERMINAL SULACAP X ALVORADA (EXPRESSO)   \n",
              "3    46              PENHA X ALVORADA (EXPRESSO)   \n",
              "4   25A           MATO ALTO X ALVORADA (PARADOR)   \n",
              "5    18     RECREIO X JARDIM OCEÂNICO (EXPRESSO)   \n",
              "\n",
              "                                      nomeItinerario comunicacao  \\\n",
              "1  ITI VOLTA - 41 MADUREIRA X TERMINAL RECREIO (E...  1660608449   \n",
              "2  ITI IDA - 53A TERMINAL SULACAP X ALVORADA (EXP...  1660608443   \n",
              "3           ITI IDA - 46 PENHA X ALVORADA (EXPRESSO)  1660608425   \n",
              "4       ITI IDA - 25A MATO ALTO X ALVORADA (PARADOR)  1660608439   \n",
              "5  ITI IDA - 18 RECREIO X JARDIM OCEÂNICO (EXPRESSO)  1660606497   \n",
              "\n",
              "                coleta_atual  \n",
              "1 2022-08-16 00:07:53.258370  \n",
              "2 2022-08-16 00:07:53.258370  \n",
              "3 2022-08-16 00:07:53.258370  \n",
              "4 2022-08-16 00:07:53.258370  \n",
              "5 2022-08-15 23:35:49.830301  "
            ],
            "text/html": [
              "\n",
              "  <div id=\"df-8448fbe0-833f-4424-b433-ae5bbbf896cb\">\n",
              "    <div class=\"colab-df-container\">\n",
              "      <div>\n",
              "<style scoped>\n",
              "    .dataframe tbody tr th:only-of-type {\n",
              "        vertical-align: middle;\n",
              "    }\n",
              "\n",
              "    .dataframe tbody tr th {\n",
              "        vertical-align: top;\n",
              "    }\n",
              "\n",
              "    .dataframe thead th {\n",
              "        text-align: right;\n",
              "    }\n",
              "</style>\n",
              "<table border=\"1\" class=\"dataframe\">\n",
              "  <thead>\n",
              "    <tr style=\"text-align: right;\">\n",
              "      <th></th>\n",
              "      <th>longitude</th>\n",
              "      <th>latitude</th>\n",
              "      <th>vei_nro_gestor</th>\n",
              "      <th>direcao</th>\n",
              "      <th>velocidade</th>\n",
              "      <th>inicio_viagem</th>\n",
              "      <th>linha</th>\n",
              "      <th>nomeLinha</th>\n",
              "      <th>nomeItinerario</th>\n",
              "      <th>comunicacao</th>\n",
              "      <th>coleta_atual</th>\n",
              "    </tr>\n",
              "  </thead>\n",
              "  <tbody>\n",
              "    <tr>\n",
              "      <th>1</th>\n",
              "      <td>-43.372608</td>\n",
              "      <td>-22.941678</td>\n",
              "      <td>47031</td>\n",
              "      <td>3</td>\n",
              "      <td>44</td>\n",
              "      <td>1660601662</td>\n",
              "      <td>41</td>\n",
              "      <td>MADUREIRA X TERMINAL RECREIO (EXPRESSO)</td>\n",
              "      <td>ITI VOLTA - 41 MADUREIRA X TERMINAL RECREIO (E...</td>\n",
              "      <td>1660608449</td>\n",
              "      <td>2022-08-16 00:07:53.258370</td>\n",
              "    </tr>\n",
              "    <tr>\n",
              "      <th>2</th>\n",
              "      <td>-43.400770</td>\n",
              "      <td>-22.886433</td>\n",
              "      <td>47026</td>\n",
              "      <td>4</td>\n",
              "      <td>32</td>\n",
              "      <td>1660607894</td>\n",
              "      <td>53A</td>\n",
              "      <td>TERMINAL SULACAP X ALVORADA (EXPRESSO)</td>\n",
              "      <td>ITI IDA - 53A TERMINAL SULACAP X ALVORADA (EXP...</td>\n",
              "      <td>1660608443</td>\n",
              "      <td>2022-08-16 00:07:53.258370</td>\n",
              "    </tr>\n",
              "    <tr>\n",
              "      <th>3</th>\n",
              "      <td>-43.334903</td>\n",
              "      <td>-22.867047</td>\n",
              "      <td>47011</td>\n",
              "      <td>4</td>\n",
              "      <td>35</td>\n",
              "      <td>1660592457</td>\n",
              "      <td>46</td>\n",
              "      <td>PENHA X ALVORADA (EXPRESSO)</td>\n",
              "      <td>ITI IDA - 46 PENHA X ALVORADA (EXPRESSO)</td>\n",
              "      <td>1660608425</td>\n",
              "      <td>2022-08-16 00:07:53.258370</td>\n",
              "    </tr>\n",
              "    <tr>\n",
              "      <th>4</th>\n",
              "      <td>-43.466297</td>\n",
              "      <td>-23.014148</td>\n",
              "      <td>86811</td>\n",
              "      <td>5</td>\n",
              "      <td>45</td>\n",
              "      <td>1660602561</td>\n",
              "      <td>25A</td>\n",
              "      <td>MATO ALTO X ALVORADA (PARADOR)</td>\n",
              "      <td>ITI IDA - 25A MATO ALTO X ALVORADA (PARADOR)</td>\n",
              "      <td>1660608439</td>\n",
              "      <td>2022-08-16 00:07:53.258370</td>\n",
              "    </tr>\n",
              "    <tr>\n",
              "      <th>5</th>\n",
              "      <td>-43.312563</td>\n",
              "      <td>-23.006857</td>\n",
              "      <td>13420</td>\n",
              "      <td>2</td>\n",
              "      <td>0</td>\n",
              "      <td>1660599901</td>\n",
              "      <td>18</td>\n",
              "      <td>RECREIO X JARDIM OCEÂNICO (EXPRESSO)</td>\n",
              "      <td>ITI IDA - 18 RECREIO X JARDIM OCEÂNICO (EXPRESSO)</td>\n",
              "      <td>1660606497</td>\n",
              "      <td>2022-08-15 23:35:49.830301</td>\n",
              "    </tr>\n",
              "  </tbody>\n",
              "</table>\n",
              "</div>\n",
              "      <button class=\"colab-df-convert\" onclick=\"convertToInteractive('df-8448fbe0-833f-4424-b433-ae5bbbf896cb')\"\n",
              "              title=\"Convert this dataframe to an interactive table.\"\n",
              "              style=\"display:none;\">\n",
              "        \n",
              "  <svg xmlns=\"http://www.w3.org/2000/svg\" height=\"24px\"viewBox=\"0 0 24 24\"\n",
              "       width=\"24px\">\n",
              "    <path d=\"M0 0h24v24H0V0z\" fill=\"none\"/>\n",
              "    <path d=\"M18.56 5.44l.94 2.06.94-2.06 2.06-.94-2.06-.94-.94-2.06-.94 2.06-2.06.94zm-11 1L8.5 8.5l.94-2.06 2.06-.94-2.06-.94L8.5 2.5l-.94 2.06-2.06.94zm10 10l.94 2.06.94-2.06 2.06-.94-2.06-.94-.94-2.06-.94 2.06-2.06.94z\"/><path d=\"M17.41 7.96l-1.37-1.37c-.4-.4-.92-.59-1.43-.59-.52 0-1.04.2-1.43.59L10.3 9.45l-7.72 7.72c-.78.78-.78 2.05 0 2.83L4 21.41c.39.39.9.59 1.41.59.51 0 1.02-.2 1.41-.59l7.78-7.78 2.81-2.81c.8-.78.8-2.07 0-2.86zM5.41 20L4 18.59l7.72-7.72 1.47 1.35L5.41 20z\"/>\n",
              "  </svg>\n",
              "      </button>\n",
              "      \n",
              "  <style>\n",
              "    .colab-df-container {\n",
              "      display:flex;\n",
              "      flex-wrap:wrap;\n",
              "      gap: 12px;\n",
              "    }\n",
              "\n",
              "    .colab-df-convert {\n",
              "      background-color: #E8F0FE;\n",
              "      border: none;\n",
              "      border-radius: 50%;\n",
              "      cursor: pointer;\n",
              "      display: none;\n",
              "      fill: #1967D2;\n",
              "      height: 32px;\n",
              "      padding: 0 0 0 0;\n",
              "      width: 32px;\n",
              "    }\n",
              "\n",
              "    .colab-df-convert:hover {\n",
              "      background-color: #E2EBFA;\n",
              "      box-shadow: 0px 1px 2px rgba(60, 64, 67, 0.3), 0px 1px 3px 1px rgba(60, 64, 67, 0.15);\n",
              "      fill: #174EA6;\n",
              "    }\n",
              "\n",
              "    [theme=dark] .colab-df-convert {\n",
              "      background-color: #3B4455;\n",
              "      fill: #D2E3FC;\n",
              "    }\n",
              "\n",
              "    [theme=dark] .colab-df-convert:hover {\n",
              "      background-color: #434B5C;\n",
              "      box-shadow: 0px 1px 3px 1px rgba(0, 0, 0, 0.15);\n",
              "      filter: drop-shadow(0px 1px 2px rgba(0, 0, 0, 0.3));\n",
              "      fill: #FFFFFF;\n",
              "    }\n",
              "  </style>\n",
              "\n",
              "      <script>\n",
              "        const buttonEl =\n",
              "          document.querySelector('#df-8448fbe0-833f-4424-b433-ae5bbbf896cb button.colab-df-convert');\n",
              "        buttonEl.style.display =\n",
              "          google.colab.kernel.accessAllowed ? 'block' : 'none';\n",
              "\n",
              "        async function convertToInteractive(key) {\n",
              "          const element = document.querySelector('#df-8448fbe0-833f-4424-b433-ae5bbbf896cb');\n",
              "          const dataTable =\n",
              "            await google.colab.kernel.invokeFunction('convertToInteractive',\n",
              "                                                     [key], {});\n",
              "          if (!dataTable) return;\n",
              "\n",
              "          const docLinkHtml = 'Like what you see? Visit the ' +\n",
              "            '<a target=\"_blank\" href=https://colab.research.google.com/notebooks/data_table.ipynb>data table notebook</a>'\n",
              "            + ' to learn more about interactive tables.';\n",
              "          element.innerHTML = '';\n",
              "          dataTable['output_type'] = 'display_data';\n",
              "          await google.colab.output.renderOutput(dataTable, element);\n",
              "          const docLink = document.createElement('div');\n",
              "          docLink.innerHTML = docLinkHtml;\n",
              "          element.appendChild(docLink);\n",
              "        }\n",
              "      </script>\n",
              "    </div>\n",
              "  </div>\n",
              "  "
            ]
          },
          "metadata": {},
          "execution_count": 98
        }
      ]
    },
    {
      "cell_type": "code",
      "source": [
        "data2.loc[idx].values"
      ],
      "metadata": {
        "colab": {
          "base_uri": "https://localhost:8080/"
        },
        "id": "Aa0Nzz9I80kY",
        "outputId": "bc14e6eb-be2c-4db4-b2c8-07891332ff93"
      },
      "execution_count": 90,
      "outputs": [
        {
          "output_type": "execute_result",
          "data": {
            "text/plain": [
              "array([-43.251152, -22.854453, '27205', 6, 0, '1660595123', '42A',\n",
              "       'GALEAO X MADUREIRA (PARADOR)',\n",
              "       'ITI VOLTA - 42A GALEAO X MADUREIRA (PARADOR)', '1660607932',\n",
              "       Timestamp('2022-08-15 23:59:13.456251')], dtype=object)"
            ]
          },
          "metadata": {},
          "execution_count": 90
        }
      ]
    },
    {
      "cell_type": "code",
      "source": [
        "data.loc[data['vei_nro_gestor']==13412]"
      ],
      "metadata": {
        "colab": {
          "base_uri": "https://localhost:8080/",
          "height": 49
        },
        "id": "l8xRQ0OE4mkg",
        "outputId": "32d85936-ef30-49e6-e291-6e7fd0eef961"
      },
      "execution_count": 87,
      "outputs": [
        {
          "output_type": "execute_result",
          "data": {
            "text/plain": [
              "Empty DataFrame\n",
              "Columns: [longitude, latitude, vei_nro_gestor, direcao, velocidade, inicio_viagem, linha, nomeLinha, nomeItinerario, comunicacao, coleta_atual]\n",
              "Index: []"
            ],
            "text/html": [
              "\n",
              "  <div id=\"df-f27f5268-2109-49d5-9cc5-ed14855f6add\">\n",
              "    <div class=\"colab-df-container\">\n",
              "      <div>\n",
              "<style scoped>\n",
              "    .dataframe tbody tr th:only-of-type {\n",
              "        vertical-align: middle;\n",
              "    }\n",
              "\n",
              "    .dataframe tbody tr th {\n",
              "        vertical-align: top;\n",
              "    }\n",
              "\n",
              "    .dataframe thead th {\n",
              "        text-align: right;\n",
              "    }\n",
              "</style>\n",
              "<table border=\"1\" class=\"dataframe\">\n",
              "  <thead>\n",
              "    <tr style=\"text-align: right;\">\n",
              "      <th></th>\n",
              "      <th>longitude</th>\n",
              "      <th>latitude</th>\n",
              "      <th>vei_nro_gestor</th>\n",
              "      <th>direcao</th>\n",
              "      <th>velocidade</th>\n",
              "      <th>inicio_viagem</th>\n",
              "      <th>linha</th>\n",
              "      <th>nomeLinha</th>\n",
              "      <th>nomeItinerario</th>\n",
              "      <th>comunicacao</th>\n",
              "      <th>coleta_atual</th>\n",
              "    </tr>\n",
              "  </thead>\n",
              "  <tbody>\n",
              "  </tbody>\n",
              "</table>\n",
              "</div>\n",
              "      <button class=\"colab-df-convert\" onclick=\"convertToInteractive('df-f27f5268-2109-49d5-9cc5-ed14855f6add')\"\n",
              "              title=\"Convert this dataframe to an interactive table.\"\n",
              "              style=\"display:none;\">\n",
              "        \n",
              "  <svg xmlns=\"http://www.w3.org/2000/svg\" height=\"24px\"viewBox=\"0 0 24 24\"\n",
              "       width=\"24px\">\n",
              "    <path d=\"M0 0h24v24H0V0z\" fill=\"none\"/>\n",
              "    <path d=\"M18.56 5.44l.94 2.06.94-2.06 2.06-.94-2.06-.94-.94-2.06-.94 2.06-2.06.94zm-11 1L8.5 8.5l.94-2.06 2.06-.94-2.06-.94L8.5 2.5l-.94 2.06-2.06.94zm10 10l.94 2.06.94-2.06 2.06-.94-2.06-.94-.94-2.06-.94 2.06-2.06.94z\"/><path d=\"M17.41 7.96l-1.37-1.37c-.4-.4-.92-.59-1.43-.59-.52 0-1.04.2-1.43.59L10.3 9.45l-7.72 7.72c-.78.78-.78 2.05 0 2.83L4 21.41c.39.39.9.59 1.41.59.51 0 1.02-.2 1.41-.59l7.78-7.78 2.81-2.81c.8-.78.8-2.07 0-2.86zM5.41 20L4 18.59l7.72-7.72 1.47 1.35L5.41 20z\"/>\n",
              "  </svg>\n",
              "      </button>\n",
              "      \n",
              "  <style>\n",
              "    .colab-df-container {\n",
              "      display:flex;\n",
              "      flex-wrap:wrap;\n",
              "      gap: 12px;\n",
              "    }\n",
              "\n",
              "    .colab-df-convert {\n",
              "      background-color: #E8F0FE;\n",
              "      border: none;\n",
              "      border-radius: 50%;\n",
              "      cursor: pointer;\n",
              "      display: none;\n",
              "      fill: #1967D2;\n",
              "      height: 32px;\n",
              "      padding: 0 0 0 0;\n",
              "      width: 32px;\n",
              "    }\n",
              "\n",
              "    .colab-df-convert:hover {\n",
              "      background-color: #E2EBFA;\n",
              "      box-shadow: 0px 1px 2px rgba(60, 64, 67, 0.3), 0px 1px 3px 1px rgba(60, 64, 67, 0.15);\n",
              "      fill: #174EA6;\n",
              "    }\n",
              "\n",
              "    [theme=dark] .colab-df-convert {\n",
              "      background-color: #3B4455;\n",
              "      fill: #D2E3FC;\n",
              "    }\n",
              "\n",
              "    [theme=dark] .colab-df-convert:hover {\n",
              "      background-color: #434B5C;\n",
              "      box-shadow: 0px 1px 3px 1px rgba(0, 0, 0, 0.15);\n",
              "      filter: drop-shadow(0px 1px 2px rgba(0, 0, 0, 0.3));\n",
              "      fill: #FFFFFF;\n",
              "    }\n",
              "  </style>\n",
              "\n",
              "      <script>\n",
              "        const buttonEl =\n",
              "          document.querySelector('#df-f27f5268-2109-49d5-9cc5-ed14855f6add button.colab-df-convert');\n",
              "        buttonEl.style.display =\n",
              "          google.colab.kernel.accessAllowed ? 'block' : 'none';\n",
              "\n",
              "        async function convertToInteractive(key) {\n",
              "          const element = document.querySelector('#df-f27f5268-2109-49d5-9cc5-ed14855f6add');\n",
              "          const dataTable =\n",
              "            await google.colab.kernel.invokeFunction('convertToInteractive',\n",
              "                                                     [key], {});\n",
              "          if (!dataTable) return;\n",
              "\n",
              "          const docLinkHtml = 'Like what you see? Visit the ' +\n",
              "            '<a target=\"_blank\" href=https://colab.research.google.com/notebooks/data_table.ipynb>data table notebook</a>'\n",
              "            + ' to learn more about interactive tables.';\n",
              "          element.innerHTML = '';\n",
              "          dataTable['output_type'] = 'display_data';\n",
              "          await google.colab.output.renderOutput(dataTable, element);\n",
              "          const docLink = document.createElement('div');\n",
              "          docLink.innerHTML = docLinkHtml;\n",
              "          element.appendChild(docLink);\n",
              "        }\n",
              "      </script>\n",
              "    </div>\n",
              "  </div>\n",
              "  "
            ]
          },
          "metadata": {},
          "execution_count": 87
        }
      ]
    },
    {
      "cell_type": "code",
      "source": [
        ""
      ],
      "metadata": {
        "colab": {
          "base_uri": "https://localhost:8080/"
        },
        "id": "XR7JdLoQ56fm",
        "outputId": "bad773e2-dbb8-4633-8ba0-516aacdcdc4d"
      },
      "execution_count": 82,
      "outputs": [
        {
          "output_type": "execute_result",
          "data": {
            "text/plain": [
              "dtype('<m8[ns]')"
            ]
          },
          "metadata": {},
          "execution_count": 82
        }
      ]
    },
    {
      "cell_type": "code",
      "source": [
        ""
      ],
      "metadata": {
        "colab": {
          "base_uri": "https://localhost:8080/"
        },
        "id": "J-sw1XA63oUk",
        "outputId": "2a4c822a-0888-46ae-8de9-a28efeb377e4"
      },
      "execution_count": 75,
      "outputs": [
        {
          "output_type": "execute_result",
          "data": {
            "text/plain": [
              "42    True\n",
              "Name: coleta_atual, dtype: bool"
            ]
          },
          "metadata": {},
          "execution_count": 75
        }
      ]
    },
    {
      "cell_type": "code",
      "source": [
        "data"
      ],
      "metadata": {
        "colab": {
          "base_uri": "https://localhost:8080/",
          "height": 919
        },
        "id": "s4ZxyC8l3a4u",
        "outputId": "1c65b9c8-6e81-4cfb-8625-a7d0935c5eac"
      },
      "execution_count": 71,
      "outputs": [
        {
          "output_type": "execute_result",
          "data": {
            "text/plain": [
              "    longitude   latitude vei_nro_gestor  direcao  velocidade inicio_viagem  \\\n",
              "0  -43.389973 -22.949527          13428        7          50    1660593424   \n",
              "1  -43.354070 -22.900207          47031        1          17    1660601662   \n",
              "2  -43.365592 -22.982485          47026        7          43    1660605281   \n",
              "3  -43.326530 -22.856020          47011        1          48    1660592457   \n",
              "4  -43.366652 -23.001065          86811        5           0    1660602561   \n",
              "..        ...        ...            ...      ...         ...           ...   \n",
              "60 -43.393693 -22.946480          47009        3          57    1660597204   \n",
              "61 -43.401813 -23.000192          47007        2          47    1660603345   \n",
              "62 -43.334342 -22.865473          12707        5           0    1660604835   \n",
              "63 -43.430478 -23.005247          47010        1          23    1660603253   \n",
              "64 -43.236668 -22.819192          86802        2          58    1660600476   \n",
              "\n",
              "   linha                                  nomeLinha  \\\n",
              "0     51  VILA MILITAR X TERMINAL RECREIO (PARADOR)   \n",
              "1     41    MADUREIRA X TERMINAL RECREIO (EXPRESSO)   \n",
              "2    53A     TERMINAL SULACAP X ALVORADA (EXPRESSO)   \n",
              "3     46                PENHA X ALVORADA (EXPRESSO)   \n",
              "4    25A             MATO ALTO X ALVORADA (PARADOR)   \n",
              "..   ...                                        ...   \n",
              "60   53A     TERMINAL SULACAP X ALVORADA (EXPRESSO)   \n",
              "61    18       RECREIO X JARDIM OCEÂNICO (EXPRESSO)   \n",
              "62    46                PENHA X ALVORADA (EXPRESSO)   \n",
              "63    10           SANTA CRUZ X ALVORADA (EXPRESSO)   \n",
              "64   42A               GALEAO X MADUREIRA (PARADOR)   \n",
              "\n",
              "                                       nomeItinerario comunicacao  \\\n",
              "0   ITI VOLTA - 51 VILA MILITAR X TERMINAL RECREIO...  1660606500   \n",
              "1   ITI VOLTA - 41 MADUREIRA X TERMINAL RECREIO (E...  1660606506   \n",
              "2   ITI VOLTA - 53A TERMINAL SULACAP X ALVORADA (E...  1660606502   \n",
              "3            ITI IDA - 46 PENHA X ALVORADA (EXPRESSO)  1660606506   \n",
              "4        ITI IDA - 25A MATO ALTO X ALVORADA (PARADOR)  1660606517   \n",
              "..                                                ...         ...   \n",
              "60  ITI IDA - 53A TERMINAL SULACAP X ALVORADA (EXP...  1660606505   \n",
              "61  ITI VOLTA -  18 RECREIO X JARDIM OCEÂNICO (EXP...  1660606516   \n",
              "62           ITI IDA - 46 PENHA X ALVORADA (EXPRESSO)  1660606489   \n",
              "63      ITI IDA - 10 SANTA CRUZ X ALVORADA (EXPRESSO)  1660606502   \n",
              "64         ITI IDA - 42A GALEAO X MADUREIRA (PARADOR)  1660606497   \n",
              "\n",
              "                 coleta_atual  \n",
              "0  2022-08-15 23:35:49.830301  \n",
              "1  2022-08-15 23:35:49.830301  \n",
              "2  2022-08-15 23:35:49.830301  \n",
              "3  2022-08-15 23:35:49.830301  \n",
              "4  2022-08-15 23:35:49.830301  \n",
              "..                        ...  \n",
              "60 2022-08-15 23:35:49.830301  \n",
              "61 2022-08-15 23:35:49.830301  \n",
              "62 2022-08-15 23:35:49.830301  \n",
              "63 2022-08-15 23:35:49.830301  \n",
              "64 2022-08-15 23:35:49.830301  \n",
              "\n",
              "[65 rows x 11 columns]"
            ],
            "text/html": [
              "\n",
              "  <div id=\"df-6a591df0-07f5-426a-af56-25340e3018ef\">\n",
              "    <div class=\"colab-df-container\">\n",
              "      <div>\n",
              "<style scoped>\n",
              "    .dataframe tbody tr th:only-of-type {\n",
              "        vertical-align: middle;\n",
              "    }\n",
              "\n",
              "    .dataframe tbody tr th {\n",
              "        vertical-align: top;\n",
              "    }\n",
              "\n",
              "    .dataframe thead th {\n",
              "        text-align: right;\n",
              "    }\n",
              "</style>\n",
              "<table border=\"1\" class=\"dataframe\">\n",
              "  <thead>\n",
              "    <tr style=\"text-align: right;\">\n",
              "      <th></th>\n",
              "      <th>longitude</th>\n",
              "      <th>latitude</th>\n",
              "      <th>vei_nro_gestor</th>\n",
              "      <th>direcao</th>\n",
              "      <th>velocidade</th>\n",
              "      <th>inicio_viagem</th>\n",
              "      <th>linha</th>\n",
              "      <th>nomeLinha</th>\n",
              "      <th>nomeItinerario</th>\n",
              "      <th>comunicacao</th>\n",
              "      <th>coleta_atual</th>\n",
              "    </tr>\n",
              "  </thead>\n",
              "  <tbody>\n",
              "    <tr>\n",
              "      <th>0</th>\n",
              "      <td>-43.389973</td>\n",
              "      <td>-22.949527</td>\n",
              "      <td>13428</td>\n",
              "      <td>7</td>\n",
              "      <td>50</td>\n",
              "      <td>1660593424</td>\n",
              "      <td>51</td>\n",
              "      <td>VILA MILITAR X TERMINAL RECREIO (PARADOR)</td>\n",
              "      <td>ITI VOLTA - 51 VILA MILITAR X TERMINAL RECREIO...</td>\n",
              "      <td>1660606500</td>\n",
              "      <td>2022-08-15 23:35:49.830301</td>\n",
              "    </tr>\n",
              "    <tr>\n",
              "      <th>1</th>\n",
              "      <td>-43.354070</td>\n",
              "      <td>-22.900207</td>\n",
              "      <td>47031</td>\n",
              "      <td>1</td>\n",
              "      <td>17</td>\n",
              "      <td>1660601662</td>\n",
              "      <td>41</td>\n",
              "      <td>MADUREIRA X TERMINAL RECREIO (EXPRESSO)</td>\n",
              "      <td>ITI VOLTA - 41 MADUREIRA X TERMINAL RECREIO (E...</td>\n",
              "      <td>1660606506</td>\n",
              "      <td>2022-08-15 23:35:49.830301</td>\n",
              "    </tr>\n",
              "    <tr>\n",
              "      <th>2</th>\n",
              "      <td>-43.365592</td>\n",
              "      <td>-22.982485</td>\n",
              "      <td>47026</td>\n",
              "      <td>7</td>\n",
              "      <td>43</td>\n",
              "      <td>1660605281</td>\n",
              "      <td>53A</td>\n",
              "      <td>TERMINAL SULACAP X ALVORADA (EXPRESSO)</td>\n",
              "      <td>ITI VOLTA - 53A TERMINAL SULACAP X ALVORADA (E...</td>\n",
              "      <td>1660606502</td>\n",
              "      <td>2022-08-15 23:35:49.830301</td>\n",
              "    </tr>\n",
              "    <tr>\n",
              "      <th>3</th>\n",
              "      <td>-43.326530</td>\n",
              "      <td>-22.856020</td>\n",
              "      <td>47011</td>\n",
              "      <td>1</td>\n",
              "      <td>48</td>\n",
              "      <td>1660592457</td>\n",
              "      <td>46</td>\n",
              "      <td>PENHA X ALVORADA (EXPRESSO)</td>\n",
              "      <td>ITI IDA - 46 PENHA X ALVORADA (EXPRESSO)</td>\n",
              "      <td>1660606506</td>\n",
              "      <td>2022-08-15 23:35:49.830301</td>\n",
              "    </tr>\n",
              "    <tr>\n",
              "      <th>4</th>\n",
              "      <td>-43.366652</td>\n",
              "      <td>-23.001065</td>\n",
              "      <td>86811</td>\n",
              "      <td>5</td>\n",
              "      <td>0</td>\n",
              "      <td>1660602561</td>\n",
              "      <td>25A</td>\n",
              "      <td>MATO ALTO X ALVORADA (PARADOR)</td>\n",
              "      <td>ITI IDA - 25A MATO ALTO X ALVORADA (PARADOR)</td>\n",
              "      <td>1660606517</td>\n",
              "      <td>2022-08-15 23:35:49.830301</td>\n",
              "    </tr>\n",
              "    <tr>\n",
              "      <th>...</th>\n",
              "      <td>...</td>\n",
              "      <td>...</td>\n",
              "      <td>...</td>\n",
              "      <td>...</td>\n",
              "      <td>...</td>\n",
              "      <td>...</td>\n",
              "      <td>...</td>\n",
              "      <td>...</td>\n",
              "      <td>...</td>\n",
              "      <td>...</td>\n",
              "      <td>...</td>\n",
              "    </tr>\n",
              "    <tr>\n",
              "      <th>60</th>\n",
              "      <td>-43.393693</td>\n",
              "      <td>-22.946480</td>\n",
              "      <td>47009</td>\n",
              "      <td>3</td>\n",
              "      <td>57</td>\n",
              "      <td>1660597204</td>\n",
              "      <td>53A</td>\n",
              "      <td>TERMINAL SULACAP X ALVORADA (EXPRESSO)</td>\n",
              "      <td>ITI IDA - 53A TERMINAL SULACAP X ALVORADA (EXP...</td>\n",
              "      <td>1660606505</td>\n",
              "      <td>2022-08-15 23:35:49.830301</td>\n",
              "    </tr>\n",
              "    <tr>\n",
              "      <th>61</th>\n",
              "      <td>-43.401813</td>\n",
              "      <td>-23.000192</td>\n",
              "      <td>47007</td>\n",
              "      <td>2</td>\n",
              "      <td>47</td>\n",
              "      <td>1660603345</td>\n",
              "      <td>18</td>\n",
              "      <td>RECREIO X JARDIM OCEÂNICO (EXPRESSO)</td>\n",
              "      <td>ITI VOLTA -  18 RECREIO X JARDIM OCEÂNICO (EXP...</td>\n",
              "      <td>1660606516</td>\n",
              "      <td>2022-08-15 23:35:49.830301</td>\n",
              "    </tr>\n",
              "    <tr>\n",
              "      <th>62</th>\n",
              "      <td>-43.334342</td>\n",
              "      <td>-22.865473</td>\n",
              "      <td>12707</td>\n",
              "      <td>5</td>\n",
              "      <td>0</td>\n",
              "      <td>1660604835</td>\n",
              "      <td>46</td>\n",
              "      <td>PENHA X ALVORADA (EXPRESSO)</td>\n",
              "      <td>ITI IDA - 46 PENHA X ALVORADA (EXPRESSO)</td>\n",
              "      <td>1660606489</td>\n",
              "      <td>2022-08-15 23:35:49.830301</td>\n",
              "    </tr>\n",
              "    <tr>\n",
              "      <th>63</th>\n",
              "      <td>-43.430478</td>\n",
              "      <td>-23.005247</td>\n",
              "      <td>47010</td>\n",
              "      <td>1</td>\n",
              "      <td>23</td>\n",
              "      <td>1660603253</td>\n",
              "      <td>10</td>\n",
              "      <td>SANTA CRUZ X ALVORADA (EXPRESSO)</td>\n",
              "      <td>ITI IDA - 10 SANTA CRUZ X ALVORADA (EXPRESSO)</td>\n",
              "      <td>1660606502</td>\n",
              "      <td>2022-08-15 23:35:49.830301</td>\n",
              "    </tr>\n",
              "    <tr>\n",
              "      <th>64</th>\n",
              "      <td>-43.236668</td>\n",
              "      <td>-22.819192</td>\n",
              "      <td>86802</td>\n",
              "      <td>2</td>\n",
              "      <td>58</td>\n",
              "      <td>1660600476</td>\n",
              "      <td>42A</td>\n",
              "      <td>GALEAO X MADUREIRA (PARADOR)</td>\n",
              "      <td>ITI IDA - 42A GALEAO X MADUREIRA (PARADOR)</td>\n",
              "      <td>1660606497</td>\n",
              "      <td>2022-08-15 23:35:49.830301</td>\n",
              "    </tr>\n",
              "  </tbody>\n",
              "</table>\n",
              "<p>65 rows × 11 columns</p>\n",
              "</div>\n",
              "      <button class=\"colab-df-convert\" onclick=\"convertToInteractive('df-6a591df0-07f5-426a-af56-25340e3018ef')\"\n",
              "              title=\"Convert this dataframe to an interactive table.\"\n",
              "              style=\"display:none;\">\n",
              "        \n",
              "  <svg xmlns=\"http://www.w3.org/2000/svg\" height=\"24px\"viewBox=\"0 0 24 24\"\n",
              "       width=\"24px\">\n",
              "    <path d=\"M0 0h24v24H0V0z\" fill=\"none\"/>\n",
              "    <path d=\"M18.56 5.44l.94 2.06.94-2.06 2.06-.94-2.06-.94-.94-2.06-.94 2.06-2.06.94zm-11 1L8.5 8.5l.94-2.06 2.06-.94-2.06-.94L8.5 2.5l-.94 2.06-2.06.94zm10 10l.94 2.06.94-2.06 2.06-.94-2.06-.94-.94-2.06-.94 2.06-2.06.94z\"/><path d=\"M17.41 7.96l-1.37-1.37c-.4-.4-.92-.59-1.43-.59-.52 0-1.04.2-1.43.59L10.3 9.45l-7.72 7.72c-.78.78-.78 2.05 0 2.83L4 21.41c.39.39.9.59 1.41.59.51 0 1.02-.2 1.41-.59l7.78-7.78 2.81-2.81c.8-.78.8-2.07 0-2.86zM5.41 20L4 18.59l7.72-7.72 1.47 1.35L5.41 20z\"/>\n",
              "  </svg>\n",
              "      </button>\n",
              "      \n",
              "  <style>\n",
              "    .colab-df-container {\n",
              "      display:flex;\n",
              "      flex-wrap:wrap;\n",
              "      gap: 12px;\n",
              "    }\n",
              "\n",
              "    .colab-df-convert {\n",
              "      background-color: #E8F0FE;\n",
              "      border: none;\n",
              "      border-radius: 50%;\n",
              "      cursor: pointer;\n",
              "      display: none;\n",
              "      fill: #1967D2;\n",
              "      height: 32px;\n",
              "      padding: 0 0 0 0;\n",
              "      width: 32px;\n",
              "    }\n",
              "\n",
              "    .colab-df-convert:hover {\n",
              "      background-color: #E2EBFA;\n",
              "      box-shadow: 0px 1px 2px rgba(60, 64, 67, 0.3), 0px 1px 3px 1px rgba(60, 64, 67, 0.15);\n",
              "      fill: #174EA6;\n",
              "    }\n",
              "\n",
              "    [theme=dark] .colab-df-convert {\n",
              "      background-color: #3B4455;\n",
              "      fill: #D2E3FC;\n",
              "    }\n",
              "\n",
              "    [theme=dark] .colab-df-convert:hover {\n",
              "      background-color: #434B5C;\n",
              "      box-shadow: 0px 1px 3px 1px rgba(0, 0, 0, 0.15);\n",
              "      filter: drop-shadow(0px 1px 2px rgba(0, 0, 0, 0.3));\n",
              "      fill: #FFFFFF;\n",
              "    }\n",
              "  </style>\n",
              "\n",
              "      <script>\n",
              "        const buttonEl =\n",
              "          document.querySelector('#df-6a591df0-07f5-426a-af56-25340e3018ef button.colab-df-convert');\n",
              "        buttonEl.style.display =\n",
              "          google.colab.kernel.accessAllowed ? 'block' : 'none';\n",
              "\n",
              "        async function convertToInteractive(key) {\n",
              "          const element = document.querySelector('#df-6a591df0-07f5-426a-af56-25340e3018ef');\n",
              "          const dataTable =\n",
              "            await google.colab.kernel.invokeFunction('convertToInteractive',\n",
              "                                                     [key], {});\n",
              "          if (!dataTable) return;\n",
              "\n",
              "          const docLinkHtml = 'Like what you see? Visit the ' +\n",
              "            '<a target=\"_blank\" href=https://colab.research.google.com/notebooks/data_table.ipynb>data table notebook</a>'\n",
              "            + ' to learn more about interactive tables.';\n",
              "          element.innerHTML = '';\n",
              "          dataTable['output_type'] = 'display_data';\n",
              "          await google.colab.output.renderOutput(dataTable, element);\n",
              "          const docLink = document.createElement('div');\n",
              "          docLink.innerHTML = docLinkHtml;\n",
              "          element.appendChild(docLink);\n",
              "        }\n",
              "      </script>\n",
              "    </div>\n",
              "  </div>\n",
              "  "
            ]
          },
          "metadata": {},
          "execution_count": 71
        }
      ]
    },
    {
      "cell_type": "code",
      "source": [
        "data2"
      ],
      "metadata": {
        "colab": {
          "base_uri": "https://localhost:8080/",
          "height": 902
        },
        "id": "f0QHjZO723bo",
        "outputId": "46a9eaf6-a3d0-4375-f377-4ba9d9523232"
      },
      "execution_count": 70,
      "outputs": [
        {
          "output_type": "execute_result",
          "data": {
            "text/plain": [
              "    longitude   latitude vei_nro_gestor  direcao  velocidade inicio_viagem  \\\n",
              "0  -43.671678 -22.932197          47032        6          57    1660602999   \n",
              "1  -43.364868 -23.000672          86887        6           0    1660600844   \n",
              "2  -43.385152 -22.973215          13408        5          14    1660605953   \n",
              "3  -43.312663 -23.006803          44731        4           0    1660605369   \n",
              "4  -43.459302 -23.012717          90002        5           3    1660604337   \n",
              "..        ...        ...            ...      ...         ...           ...   \n",
              "58 -43.359267 -22.909378          13418        4          30    1660592156   \n",
              "59 -43.389973 -22.949527          13428        7          50    1660593424   \n",
              "60 -43.394692 -23.000228          30525        6          57    1660601058   \n",
              "61 -43.387562 -22.959593          47005        5          36    1660598718   \n",
              "62 -43.360930 -22.914980          12706        0           0    1660600663   \n",
              "\n",
              "   linha                                          nomeLinha  \\\n",
              "0     10                   SANTA CRUZ X ALVORADA (EXPRESSO)   \n",
              "1     46                        PENHA X ALVORADA (EXPRESSO)   \n",
              "2     46                        PENHA X ALVORADA (EXPRESSO)   \n",
              "3     22  TERMINAL ALVORADA X TERMINAL JARDIM OCEÂNICO (...   \n",
              "4     10                   SANTA CRUZ X ALVORADA (EXPRESSO)   \n",
              "..   ...                                                ...   \n",
              "58    46                        PENHA X ALVORADA (EXPRESSO)   \n",
              "59    51          VILA MILITAR X TERMINAL RECREIO (PARADOR)   \n",
              "60   25A                     MATO ALTO X ALVORADA (PARADOR)   \n",
              "61   35A              MADUREIRA X JARDIM OCEANICO (PARADOR)   \n",
              "62    46                        PENHA X ALVORADA (EXPRESSO)   \n",
              "\n",
              "                                       nomeItinerario comunicacao  \\\n",
              "0       ITI IDA - 10 SANTA CRUZ X ALVORADA (EXPRESSO)  1660606499   \n",
              "1            ITI IDA - 46 PENHA X ALVORADA (EXPRESSO)  1660606498   \n",
              "2            ITI IDA - 46 PENHA X ALVORADA (EXPRESSO)  1660606495   \n",
              "3   ITI IDA - 22 TERMINAL ALVORADA X TERMINAL JARD...  1660606500   \n",
              "4     ITI VOLTA - 10 SANTA CRUZ X ALVORADA (EXPRESSO)  1660606520   \n",
              "..                                                ...         ...   \n",
              "58         ITI VOLTA - 46 PENHA X ALVORADA (EXPRESSO)  1660606519   \n",
              "59  ITI VOLTA - 51 VILA MILITAR X TERMINAL RECREIO...  1660606500   \n",
              "60       ITI IDA - 25A MATO ALTO X ALVORADA (PARADOR)  1660606492   \n",
              "61  ITI VOLTA - 35A MADUREIRA X JARDIM OCEANICO (P...  1660606492   \n",
              "62                                        Iti Default  1660606500   \n",
              "\n",
              "                 coleta_atual  \n",
              "0  2022-08-15 23:35:49.830301  \n",
              "1  2022-08-15 23:35:49.830301  \n",
              "2  2022-08-15 23:35:49.830301  \n",
              "3  2022-08-15 23:35:49.830301  \n",
              "4  2022-08-15 23:35:49.830301  \n",
              "..                        ...  \n",
              "58 2022-08-15 23:35:49.830301  \n",
              "59 2022-08-15 23:35:49.830301  \n",
              "60 2022-08-15 23:35:49.830301  \n",
              "61 2022-08-15 23:35:49.830301  \n",
              "62 2022-08-15 23:35:49.830301  \n",
              "\n",
              "[63 rows x 11 columns]"
            ],
            "text/html": [
              "\n",
              "  <div id=\"df-ddc49ee5-9adf-444f-9ebd-07ccbaf73ef3\">\n",
              "    <div class=\"colab-df-container\">\n",
              "      <div>\n",
              "<style scoped>\n",
              "    .dataframe tbody tr th:only-of-type {\n",
              "        vertical-align: middle;\n",
              "    }\n",
              "\n",
              "    .dataframe tbody tr th {\n",
              "        vertical-align: top;\n",
              "    }\n",
              "\n",
              "    .dataframe thead th {\n",
              "        text-align: right;\n",
              "    }\n",
              "</style>\n",
              "<table border=\"1\" class=\"dataframe\">\n",
              "  <thead>\n",
              "    <tr style=\"text-align: right;\">\n",
              "      <th></th>\n",
              "      <th>longitude</th>\n",
              "      <th>latitude</th>\n",
              "      <th>vei_nro_gestor</th>\n",
              "      <th>direcao</th>\n",
              "      <th>velocidade</th>\n",
              "      <th>inicio_viagem</th>\n",
              "      <th>linha</th>\n",
              "      <th>nomeLinha</th>\n",
              "      <th>nomeItinerario</th>\n",
              "      <th>comunicacao</th>\n",
              "      <th>coleta_atual</th>\n",
              "    </tr>\n",
              "  </thead>\n",
              "  <tbody>\n",
              "    <tr>\n",
              "      <th>0</th>\n",
              "      <td>-43.671678</td>\n",
              "      <td>-22.932197</td>\n",
              "      <td>47032</td>\n",
              "      <td>6</td>\n",
              "      <td>57</td>\n",
              "      <td>1660602999</td>\n",
              "      <td>10</td>\n",
              "      <td>SANTA CRUZ X ALVORADA (EXPRESSO)</td>\n",
              "      <td>ITI IDA - 10 SANTA CRUZ X ALVORADA (EXPRESSO)</td>\n",
              "      <td>1660606499</td>\n",
              "      <td>2022-08-15 23:35:49.830301</td>\n",
              "    </tr>\n",
              "    <tr>\n",
              "      <th>1</th>\n",
              "      <td>-43.364868</td>\n",
              "      <td>-23.000672</td>\n",
              "      <td>86887</td>\n",
              "      <td>6</td>\n",
              "      <td>0</td>\n",
              "      <td>1660600844</td>\n",
              "      <td>46</td>\n",
              "      <td>PENHA X ALVORADA (EXPRESSO)</td>\n",
              "      <td>ITI IDA - 46 PENHA X ALVORADA (EXPRESSO)</td>\n",
              "      <td>1660606498</td>\n",
              "      <td>2022-08-15 23:35:49.830301</td>\n",
              "    </tr>\n",
              "    <tr>\n",
              "      <th>2</th>\n",
              "      <td>-43.385152</td>\n",
              "      <td>-22.973215</td>\n",
              "      <td>13408</td>\n",
              "      <td>5</td>\n",
              "      <td>14</td>\n",
              "      <td>1660605953</td>\n",
              "      <td>46</td>\n",
              "      <td>PENHA X ALVORADA (EXPRESSO)</td>\n",
              "      <td>ITI IDA - 46 PENHA X ALVORADA (EXPRESSO)</td>\n",
              "      <td>1660606495</td>\n",
              "      <td>2022-08-15 23:35:49.830301</td>\n",
              "    </tr>\n",
              "    <tr>\n",
              "      <th>3</th>\n",
              "      <td>-43.312663</td>\n",
              "      <td>-23.006803</td>\n",
              "      <td>44731</td>\n",
              "      <td>4</td>\n",
              "      <td>0</td>\n",
              "      <td>1660605369</td>\n",
              "      <td>22</td>\n",
              "      <td>TERMINAL ALVORADA X TERMINAL JARDIM OCEÂNICO (...</td>\n",
              "      <td>ITI IDA - 22 TERMINAL ALVORADA X TERMINAL JARD...</td>\n",
              "      <td>1660606500</td>\n",
              "      <td>2022-08-15 23:35:49.830301</td>\n",
              "    </tr>\n",
              "    <tr>\n",
              "      <th>4</th>\n",
              "      <td>-43.459302</td>\n",
              "      <td>-23.012717</td>\n",
              "      <td>90002</td>\n",
              "      <td>5</td>\n",
              "      <td>3</td>\n",
              "      <td>1660604337</td>\n",
              "      <td>10</td>\n",
              "      <td>SANTA CRUZ X ALVORADA (EXPRESSO)</td>\n",
              "      <td>ITI VOLTA - 10 SANTA CRUZ X ALVORADA (EXPRESSO)</td>\n",
              "      <td>1660606520</td>\n",
              "      <td>2022-08-15 23:35:49.830301</td>\n",
              "    </tr>\n",
              "    <tr>\n",
              "      <th>...</th>\n",
              "      <td>...</td>\n",
              "      <td>...</td>\n",
              "      <td>...</td>\n",
              "      <td>...</td>\n",
              "      <td>...</td>\n",
              "      <td>...</td>\n",
              "      <td>...</td>\n",
              "      <td>...</td>\n",
              "      <td>...</td>\n",
              "      <td>...</td>\n",
              "      <td>...</td>\n",
              "    </tr>\n",
              "    <tr>\n",
              "      <th>58</th>\n",
              "      <td>-43.359267</td>\n",
              "      <td>-22.909378</td>\n",
              "      <td>13418</td>\n",
              "      <td>4</td>\n",
              "      <td>30</td>\n",
              "      <td>1660592156</td>\n",
              "      <td>46</td>\n",
              "      <td>PENHA X ALVORADA (EXPRESSO)</td>\n",
              "      <td>ITI VOLTA - 46 PENHA X ALVORADA (EXPRESSO)</td>\n",
              "      <td>1660606519</td>\n",
              "      <td>2022-08-15 23:35:49.830301</td>\n",
              "    </tr>\n",
              "    <tr>\n",
              "      <th>59</th>\n",
              "      <td>-43.389973</td>\n",
              "      <td>-22.949527</td>\n",
              "      <td>13428</td>\n",
              "      <td>7</td>\n",
              "      <td>50</td>\n",
              "      <td>1660593424</td>\n",
              "      <td>51</td>\n",
              "      <td>VILA MILITAR X TERMINAL RECREIO (PARADOR)</td>\n",
              "      <td>ITI VOLTA - 51 VILA MILITAR X TERMINAL RECREIO...</td>\n",
              "      <td>1660606500</td>\n",
              "      <td>2022-08-15 23:35:49.830301</td>\n",
              "    </tr>\n",
              "    <tr>\n",
              "      <th>60</th>\n",
              "      <td>-43.394692</td>\n",
              "      <td>-23.000228</td>\n",
              "      <td>30525</td>\n",
              "      <td>6</td>\n",
              "      <td>57</td>\n",
              "      <td>1660601058</td>\n",
              "      <td>25A</td>\n",
              "      <td>MATO ALTO X ALVORADA (PARADOR)</td>\n",
              "      <td>ITI IDA - 25A MATO ALTO X ALVORADA (PARADOR)</td>\n",
              "      <td>1660606492</td>\n",
              "      <td>2022-08-15 23:35:49.830301</td>\n",
              "    </tr>\n",
              "    <tr>\n",
              "      <th>61</th>\n",
              "      <td>-43.387562</td>\n",
              "      <td>-22.959593</td>\n",
              "      <td>47005</td>\n",
              "      <td>5</td>\n",
              "      <td>36</td>\n",
              "      <td>1660598718</td>\n",
              "      <td>35A</td>\n",
              "      <td>MADUREIRA X JARDIM OCEANICO (PARADOR)</td>\n",
              "      <td>ITI VOLTA - 35A MADUREIRA X JARDIM OCEANICO (P...</td>\n",
              "      <td>1660606492</td>\n",
              "      <td>2022-08-15 23:35:49.830301</td>\n",
              "    </tr>\n",
              "    <tr>\n",
              "      <th>62</th>\n",
              "      <td>-43.360930</td>\n",
              "      <td>-22.914980</td>\n",
              "      <td>12706</td>\n",
              "      <td>0</td>\n",
              "      <td>0</td>\n",
              "      <td>1660600663</td>\n",
              "      <td>46</td>\n",
              "      <td>PENHA X ALVORADA (EXPRESSO)</td>\n",
              "      <td>Iti Default</td>\n",
              "      <td>1660606500</td>\n",
              "      <td>2022-08-15 23:35:49.830301</td>\n",
              "    </tr>\n",
              "  </tbody>\n",
              "</table>\n",
              "<p>63 rows × 11 columns</p>\n",
              "</div>\n",
              "      <button class=\"colab-df-convert\" onclick=\"convertToInteractive('df-ddc49ee5-9adf-444f-9ebd-07ccbaf73ef3')\"\n",
              "              title=\"Convert this dataframe to an interactive table.\"\n",
              "              style=\"display:none;\">\n",
              "        \n",
              "  <svg xmlns=\"http://www.w3.org/2000/svg\" height=\"24px\"viewBox=\"0 0 24 24\"\n",
              "       width=\"24px\">\n",
              "    <path d=\"M0 0h24v24H0V0z\" fill=\"none\"/>\n",
              "    <path d=\"M18.56 5.44l.94 2.06.94-2.06 2.06-.94-2.06-.94-.94-2.06-.94 2.06-2.06.94zm-11 1L8.5 8.5l.94-2.06 2.06-.94-2.06-.94L8.5 2.5l-.94 2.06-2.06.94zm10 10l.94 2.06.94-2.06 2.06-.94-2.06-.94-.94-2.06-.94 2.06-2.06.94z\"/><path d=\"M17.41 7.96l-1.37-1.37c-.4-.4-.92-.59-1.43-.59-.52 0-1.04.2-1.43.59L10.3 9.45l-7.72 7.72c-.78.78-.78 2.05 0 2.83L4 21.41c.39.39.9.59 1.41.59.51 0 1.02-.2 1.41-.59l7.78-7.78 2.81-2.81c.8-.78.8-2.07 0-2.86zM5.41 20L4 18.59l7.72-7.72 1.47 1.35L5.41 20z\"/>\n",
              "  </svg>\n",
              "      </button>\n",
              "      \n",
              "  <style>\n",
              "    .colab-df-container {\n",
              "      display:flex;\n",
              "      flex-wrap:wrap;\n",
              "      gap: 12px;\n",
              "    }\n",
              "\n",
              "    .colab-df-convert {\n",
              "      background-color: #E8F0FE;\n",
              "      border: none;\n",
              "      border-radius: 50%;\n",
              "      cursor: pointer;\n",
              "      display: none;\n",
              "      fill: #1967D2;\n",
              "      height: 32px;\n",
              "      padding: 0 0 0 0;\n",
              "      width: 32px;\n",
              "    }\n",
              "\n",
              "    .colab-df-convert:hover {\n",
              "      background-color: #E2EBFA;\n",
              "      box-shadow: 0px 1px 2px rgba(60, 64, 67, 0.3), 0px 1px 3px 1px rgba(60, 64, 67, 0.15);\n",
              "      fill: #174EA6;\n",
              "    }\n",
              "\n",
              "    [theme=dark] .colab-df-convert {\n",
              "      background-color: #3B4455;\n",
              "      fill: #D2E3FC;\n",
              "    }\n",
              "\n",
              "    [theme=dark] .colab-df-convert:hover {\n",
              "      background-color: #434B5C;\n",
              "      box-shadow: 0px 1px 3px 1px rgba(0, 0, 0, 0.15);\n",
              "      filter: drop-shadow(0px 1px 2px rgba(0, 0, 0, 0.3));\n",
              "      fill: #FFFFFF;\n",
              "    }\n",
              "  </style>\n",
              "\n",
              "      <script>\n",
              "        const buttonEl =\n",
              "          document.querySelector('#df-ddc49ee5-9adf-444f-9ebd-07ccbaf73ef3 button.colab-df-convert');\n",
              "        buttonEl.style.display =\n",
              "          google.colab.kernel.accessAllowed ? 'block' : 'none';\n",
              "\n",
              "        async function convertToInteractive(key) {\n",
              "          const element = document.querySelector('#df-ddc49ee5-9adf-444f-9ebd-07ccbaf73ef3');\n",
              "          const dataTable =\n",
              "            await google.colab.kernel.invokeFunction('convertToInteractive',\n",
              "                                                     [key], {});\n",
              "          if (!dataTable) return;\n",
              "\n",
              "          const docLinkHtml = 'Like what you see? Visit the ' +\n",
              "            '<a target=\"_blank\" href=https://colab.research.google.com/notebooks/data_table.ipynb>data table notebook</a>'\n",
              "            + ' to learn more about interactive tables.';\n",
              "          element.innerHTML = '';\n",
              "          dataTable['output_type'] = 'display_data';\n",
              "          await google.colab.output.renderOutput(dataTable, element);\n",
              "          const docLink = document.createElement('div');\n",
              "          docLink.innerHTML = docLinkHtml;\n",
              "          element.appendChild(docLink);\n",
              "        }\n",
              "      </script>\n",
              "    </div>\n",
              "  </div>\n",
              "  "
            ]
          },
          "metadata": {},
          "execution_count": 70
        }
      ]
    },
    {
      "cell_type": "code",
      "source": [
        "pd.to_datetime(instante)"
      ],
      "metadata": {
        "id": "NxzBtpUn2knO"
      },
      "execution_count": null,
      "outputs": []
    },
    {
      "cell_type": "code",
      "source": [
        "data['coleta_atual'] - instante"
      ],
      "metadata": {
        "colab": {
          "base_uri": "https://localhost:8080/"
        },
        "id": "_IsQEAOl2FRt",
        "outputId": "9229bdb1-4926-4238-ceec-9386ccaee598"
      },
      "execution_count": 64,
      "outputs": [
        {
          "output_type": "execute_result",
          "data": {
            "text/plain": [
              "0             0 days 00:00:00\n",
              "1             0 days 00:00:00\n",
              "2             0 days 00:00:00\n",
              "3             0 days 00:00:00\n",
              "4             0 days 00:00:00\n",
              "               ...           \n",
              "64            0 days 00:00:00\n",
              "65            0 days 00:00:00\n",
              "66   -1 days +23:54:38.651073\n",
              "67            0 days 00:00:00\n",
              "68            0 days 00:00:00\n",
              "Name: coleta_atual, Length: 69, dtype: timedelta64[ns]"
            ]
          },
          "metadata": {},
          "execution_count": 64
        }
      ]
    },
    {
      "cell_type": "code",
      "source": [
        "data.coleta_atual"
      ],
      "metadata": {
        "colab": {
          "base_uri": "https://localhost:8080/"
        },
        "id": "JAw_W_PQyUpt",
        "outputId": "55fd86dc-dcf8-4372-db3a-cede47a3ebe6"
      },
      "execution_count": 58,
      "outputs": [
        {
          "output_type": "execute_result",
          "data": {
            "text/plain": [
              "0    2022-08-15 23:15:06.569368\n",
              "1    2022-08-15 23:15:06.569368\n",
              "2    2022-08-15 23:15:06.569368\n",
              "3    2022-08-15 23:15:06.569368\n",
              "4    2022-08-15 23:15:06.569368\n",
              "                ...            \n",
              "64   2022-08-15 23:15:06.569368\n",
              "65   2022-08-15 23:15:06.569368\n",
              "66   2022-08-15 23:09:45.220441\n",
              "67   2022-08-15 23:15:06.569368\n",
              "68   2022-08-15 23:15:06.569368\n",
              "Name: coleta_atual, Length: 69, dtype: datetime64[ns]"
            ]
          },
          "metadata": {},
          "execution_count": 58
        }
      ]
    },
    {
      "cell_type": "code",
      "source": [
        "a = datetime.datetime.now()\n",
        "time.sleep(6)\n",
        "b=datetime.datetime.now()\n",
        "b - a"
      ],
      "metadata": {
        "colab": {
          "base_uri": "https://localhost:8080/"
        },
        "id": "Jgkbtz1AzW0A",
        "outputId": "1247aca8-aa98-4c39-a295-0bebc9dbe137"
      },
      "execution_count": 60,
      "outputs": [
        {
          "output_type": "execute_result",
          "data": {
            "text/plain": [
              "datetime.timedelta(seconds=6, microseconds=7977)"
            ]
          },
          "metadata": {},
          "execution_count": 60
        }
      ]
    },
    {
      "cell_type": "code",
      "source": [
        "data.coleta_atual)"
      ],
      "metadata": {
        "colab": {
          "base_uri": "https://localhost:8080/"
        },
        "id": "yeAG7aWtzxvU",
        "outputId": "992d1ccd-ae5c-4a84-f29f-fefa32c2245d"
      },
      "execution_count": 63,
      "outputs": [
        {
          "output_type": "execute_result",
          "data": {
            "text/plain": [
              "pandas.core.series.Series"
            ]
          },
          "metadata": {},
          "execution_count": 63
        }
      ]
    },
    {
      "cell_type": "code",
      "source": [
        "data.coleta_atual - instante"
      ],
      "metadata": {
        "colab": {
          "base_uri": "https://localhost:8080/"
        },
        "id": "K3pPDaKrxqZc",
        "outputId": "a0d63604-8a43-4729-ac17-8082ffd56423"
      },
      "execution_count": 61,
      "outputs": [
        {
          "output_type": "execute_result",
          "data": {
            "text/plain": [
              "0             0 days 00:00:00\n",
              "1             0 days 00:00:00\n",
              "2             0 days 00:00:00\n",
              "3             0 days 00:00:00\n",
              "4             0 days 00:00:00\n",
              "               ...           \n",
              "64            0 days 00:00:00\n",
              "65            0 days 00:00:00\n",
              "66   -1 days +23:54:38.651073\n",
              "67            0 days 00:00:00\n",
              "68            0 days 00:00:00\n",
              "Name: coleta_atual, Length: 69, dtype: timedelta64[ns]"
            ]
          },
          "metadata": {},
          "execution_count": 61
        }
      ]
    },
    {
      "cell_type": "code",
      "source": [
        "tempo = 60\n",
        "print('Aguardando {} minutos.'.format(tempo/60))\n",
        "time.sleep(tempo) \n",
        "\n",
        "#instante_atual = datetime.datetime.now()\n",
        "instante_atual = datetime.datetime.now()\n",
        "#instante_atual_fuso = instante_atual.astimezone(fuso_horario)\n",
        "\n",
        "r = requests.get(url_api)\n",
        "json_request = json.loads(r.text)\n",
        "\n",
        "data2 = pd.DataFrame.from_dict(json_request, orient='columns')\n",
        "data2['coleta_atual'] = instante_atual\n",
        "\n",
        "\n",
        "\n",
        "for idx in data2.index:\n",
        "\n",
        "  # se o veiculo não está no dataframe, então add\n",
        "  if not data2['vei_nro_gestor'][idx] in data.vei_nro_gestor.values: #verificando se o veiculo ja esta na BD\n",
        "    #print('O veículo {} já esta está na BD'.format(data2['vei_nro_gestor'][idx]))\n",
        "    print(idx)\n",
        "    print('---------Add novo veiculo ao df----------------------------------------------------')\n",
        "    novo_veiculo = data2.loc[data2['vei_nro_gestor']==data2['vei_nro_gestor'][idx]]\n",
        "    data = data.append(novo_veiculo, ignore_index=True)\n",
        "  \n",
        "  else:\n",
        "    veiculo = data.loc[data['vei_nro_gestor']==data2['vei_nro_gestor'][idx]]\n",
        "    idx_vei = data[data['vei_nro_gestor']==data2['vei_nro_gestor'][idx]].index.values\n",
        "\n",
        "    tempo = data2.loc[idx].coleta_atual - veiculo.coleta_atual\n",
        "\n",
        "    #verificando se as coordenadas são diferentes\n",
        "    if (veiculo.longitude.values != data2.loc[idx].longitude or \n",
        "        veiculo.latitude.values != data2.loc[idx].latitude):\n",
        "      # então atualiza o veiculo no df\n",
        "      #print(idx)\n",
        "      #print('--------- Atualizando a posição do veículo {}--------------------------'.format(data2['vei_nro_gestor'][idx]))\n",
        "      data.loc[idx_vei] = data2.loc[idx].values\n",
        "\n",
        "\n",
        "data['intervalo_coleta'] = data['coleta_atual'] - instante_atual\n",
        "data.loc[data['intervalo_coleta'].dt.seconds > 60]\n",
        "\n"
      ],
      "metadata": {
        "id": "9qTHr9r2wtYN"
      },
      "execution_count": null,
      "outputs": []
    },
    {
      "cell_type": "code",
      "source": [
        "#data = data.drop(['momento','intervalo_coleta'], axis=1)"
      ],
      "metadata": {
        "id": "pNQK4VNSv52J"
      },
      "execution_count": null,
      "outputs": []
    },
    {
      "cell_type": "code",
      "source": [
        ""
      ],
      "metadata": {
        "id": "CEbQKQ5bvnyI"
      },
      "execution_count": null,
      "outputs": []
    },
    {
      "cell_type": "code",
      "source": [
        "data.loc[data['intervalo_coleta'].dt.seconds > 60]\n"
      ],
      "metadata": {
        "colab": {
          "base_uri": "https://localhost:8080/",
          "height": 503
        },
        "id": "UMCgeYSivE2F",
        "outputId": "8c50feda-1bf5-4f30-a0fc-543e2f06f5ae"
      },
      "execution_count": 37,
      "outputs": [
        {
          "output_type": "error",
          "ename": "KeyError",
          "evalue": "ignored",
          "traceback": [
            "\u001b[0;31m---------------------------------------------------------------------------\u001b[0m",
            "\u001b[0;31mKeyError\u001b[0m                                  Traceback (most recent call last)",
            "\u001b[0;32m/usr/local/lib/python3.7/dist-packages/pandas/core/indexes/base.py\u001b[0m in \u001b[0;36mget_loc\u001b[0;34m(self, key, method, tolerance)\u001b[0m\n\u001b[1;32m   3360\u001b[0m             \u001b[0;32mtry\u001b[0m\u001b[0;34m:\u001b[0m\u001b[0;34m\u001b[0m\u001b[0;34m\u001b[0m\u001b[0m\n\u001b[0;32m-> 3361\u001b[0;31m                 \u001b[0;32mreturn\u001b[0m \u001b[0mself\u001b[0m\u001b[0;34m.\u001b[0m\u001b[0m_engine\u001b[0m\u001b[0;34m.\u001b[0m\u001b[0mget_loc\u001b[0m\u001b[0;34m(\u001b[0m\u001b[0mcasted_key\u001b[0m\u001b[0;34m)\u001b[0m\u001b[0;34m\u001b[0m\u001b[0;34m\u001b[0m\u001b[0m\n\u001b[0m\u001b[1;32m   3362\u001b[0m             \u001b[0;32mexcept\u001b[0m \u001b[0mKeyError\u001b[0m \u001b[0;32mas\u001b[0m \u001b[0merr\u001b[0m\u001b[0;34m:\u001b[0m\u001b[0;34m\u001b[0m\u001b[0;34m\u001b[0m\u001b[0m\n",
            "\u001b[0;32m/usr/local/lib/python3.7/dist-packages/pandas/_libs/index.pyx\u001b[0m in \u001b[0;36mpandas._libs.index.IndexEngine.get_loc\u001b[0;34m()\u001b[0m\n",
            "\u001b[0;32m/usr/local/lib/python3.7/dist-packages/pandas/_libs/index.pyx\u001b[0m in \u001b[0;36mpandas._libs.index.IndexEngine.get_loc\u001b[0;34m()\u001b[0m\n",
            "\u001b[0;32mpandas/_libs/hashtable_class_helper.pxi\u001b[0m in \u001b[0;36mpandas._libs.hashtable.PyObjectHashTable.get_item\u001b[0;34m()\u001b[0m\n",
            "\u001b[0;32mpandas/_libs/hashtable_class_helper.pxi\u001b[0m in \u001b[0;36mpandas._libs.hashtable.PyObjectHashTable.get_item\u001b[0;34m()\u001b[0m\n",
            "\u001b[0;31mKeyError\u001b[0m: 'intervalo_coleta'",
            "\nThe above exception was the direct cause of the following exception:\n",
            "\u001b[0;31mKeyError\u001b[0m                                  Traceback (most recent call last)",
            "\u001b[0;32m<ipython-input-37-37c659d22288>\u001b[0m in \u001b[0;36m<module>\u001b[0;34m\u001b[0m\n\u001b[0;32m----> 1\u001b[0;31m \u001b[0mdata\u001b[0m\u001b[0;34m.\u001b[0m\u001b[0mloc\u001b[0m\u001b[0;34m[\u001b[0m\u001b[0mdata\u001b[0m\u001b[0;34m[\u001b[0m\u001b[0;34m'intervalo_coleta'\u001b[0m\u001b[0;34m]\u001b[0m\u001b[0;34m.\u001b[0m\u001b[0mdt\u001b[0m\u001b[0;34m.\u001b[0m\u001b[0mseconds\u001b[0m \u001b[0;34m>\u001b[0m \u001b[0;36m60\u001b[0m\u001b[0;34m]\u001b[0m\u001b[0;34m\u001b[0m\u001b[0;34m\u001b[0m\u001b[0m\n\u001b[0m",
            "\u001b[0;32m/usr/local/lib/python3.7/dist-packages/pandas/core/frame.py\u001b[0m in \u001b[0;36m__getitem__\u001b[0;34m(self, key)\u001b[0m\n\u001b[1;32m   3456\u001b[0m             \u001b[0;32mif\u001b[0m \u001b[0mself\u001b[0m\u001b[0;34m.\u001b[0m\u001b[0mcolumns\u001b[0m\u001b[0;34m.\u001b[0m\u001b[0mnlevels\u001b[0m \u001b[0;34m>\u001b[0m \u001b[0;36m1\u001b[0m\u001b[0;34m:\u001b[0m\u001b[0;34m\u001b[0m\u001b[0;34m\u001b[0m\u001b[0m\n\u001b[1;32m   3457\u001b[0m                 \u001b[0;32mreturn\u001b[0m \u001b[0mself\u001b[0m\u001b[0;34m.\u001b[0m\u001b[0m_getitem_multilevel\u001b[0m\u001b[0;34m(\u001b[0m\u001b[0mkey\u001b[0m\u001b[0;34m)\u001b[0m\u001b[0;34m\u001b[0m\u001b[0;34m\u001b[0m\u001b[0m\n\u001b[0;32m-> 3458\u001b[0;31m             \u001b[0mindexer\u001b[0m \u001b[0;34m=\u001b[0m \u001b[0mself\u001b[0m\u001b[0;34m.\u001b[0m\u001b[0mcolumns\u001b[0m\u001b[0;34m.\u001b[0m\u001b[0mget_loc\u001b[0m\u001b[0;34m(\u001b[0m\u001b[0mkey\u001b[0m\u001b[0;34m)\u001b[0m\u001b[0;34m\u001b[0m\u001b[0;34m\u001b[0m\u001b[0m\n\u001b[0m\u001b[1;32m   3459\u001b[0m             \u001b[0;32mif\u001b[0m \u001b[0mis_integer\u001b[0m\u001b[0;34m(\u001b[0m\u001b[0mindexer\u001b[0m\u001b[0;34m)\u001b[0m\u001b[0;34m:\u001b[0m\u001b[0;34m\u001b[0m\u001b[0;34m\u001b[0m\u001b[0m\n\u001b[1;32m   3460\u001b[0m                 \u001b[0mindexer\u001b[0m \u001b[0;34m=\u001b[0m \u001b[0;34m[\u001b[0m\u001b[0mindexer\u001b[0m\u001b[0;34m]\u001b[0m\u001b[0;34m\u001b[0m\u001b[0;34m\u001b[0m\u001b[0m\n",
            "\u001b[0;32m/usr/local/lib/python3.7/dist-packages/pandas/core/indexes/base.py\u001b[0m in \u001b[0;36mget_loc\u001b[0;34m(self, key, method, tolerance)\u001b[0m\n\u001b[1;32m   3361\u001b[0m                 \u001b[0;32mreturn\u001b[0m \u001b[0mself\u001b[0m\u001b[0;34m.\u001b[0m\u001b[0m_engine\u001b[0m\u001b[0;34m.\u001b[0m\u001b[0mget_loc\u001b[0m\u001b[0;34m(\u001b[0m\u001b[0mcasted_key\u001b[0m\u001b[0;34m)\u001b[0m\u001b[0;34m\u001b[0m\u001b[0;34m\u001b[0m\u001b[0m\n\u001b[1;32m   3362\u001b[0m             \u001b[0;32mexcept\u001b[0m \u001b[0mKeyError\u001b[0m \u001b[0;32mas\u001b[0m \u001b[0merr\u001b[0m\u001b[0;34m:\u001b[0m\u001b[0;34m\u001b[0m\u001b[0;34m\u001b[0m\u001b[0m\n\u001b[0;32m-> 3363\u001b[0;31m                 \u001b[0;32mraise\u001b[0m \u001b[0mKeyError\u001b[0m\u001b[0;34m(\u001b[0m\u001b[0mkey\u001b[0m\u001b[0;34m)\u001b[0m \u001b[0;32mfrom\u001b[0m \u001b[0merr\u001b[0m\u001b[0;34m\u001b[0m\u001b[0;34m\u001b[0m\u001b[0m\n\u001b[0m\u001b[1;32m   3364\u001b[0m \u001b[0;34m\u001b[0m\u001b[0m\n\u001b[1;32m   3365\u001b[0m         \u001b[0;32mif\u001b[0m \u001b[0mis_scalar\u001b[0m\u001b[0;34m(\u001b[0m\u001b[0mkey\u001b[0m\u001b[0;34m)\u001b[0m \u001b[0;32mand\u001b[0m \u001b[0misna\u001b[0m\u001b[0;34m(\u001b[0m\u001b[0mkey\u001b[0m\u001b[0;34m)\u001b[0m \u001b[0;32mand\u001b[0m \u001b[0;32mnot\u001b[0m \u001b[0mself\u001b[0m\u001b[0;34m.\u001b[0m\u001b[0mhasnans\u001b[0m\u001b[0;34m:\u001b[0m\u001b[0;34m\u001b[0m\u001b[0;34m\u001b[0m\u001b[0m\n",
            "\u001b[0;31mKeyError\u001b[0m: 'intervalo_coleta'"
          ]
        }
      ]
    },
    {
      "cell_type": "code",
      "source": [
        "instante_atual"
      ],
      "metadata": {
        "colab": {
          "base_uri": "https://localhost:8080/"
        },
        "id": "BgUTAUTqu6Tp",
        "outputId": "54b243e5-94c7-4037-d6d2-32a90eb7622a"
      },
      "execution_count": 35,
      "outputs": [
        {
          "output_type": "execute_result",
          "data": {
            "text/plain": [
              "datetime.datetime(2022, 8, 15, 22, 57, 58, 206180)"
            ]
          },
          "metadata": {},
          "execution_count": 35
        }
      ]
    },
    {
      "cell_type": "code",
      "source": [
        "data2.loc[idx].values"
      ],
      "metadata": {
        "colab": {
          "base_uri": "https://localhost:8080/"
        },
        "id": "h9aJ_8dKuCAn",
        "outputId": "c0c38d2f-010e-4b2d-cd93-9d916e3ebf2f"
      },
      "execution_count": 30,
      "outputs": [
        {
          "output_type": "execute_result",
          "data": {
            "text/plain": [
              "array([-43.312568, -23.006982, '13404', 1, 5, '1660597956', '50',\n",
              "       'TERMINAL OLÍMPICO X TERMINAL JARDIM OCEÂNICO (PARADOR)',\n",
              "       'ITI IDA - 50 TERMINAL OLÍMPICO X TERMINAL JARDIM OCEÂNICO (PARADOR)',\n",
              "       '1660604082', Timestamp('2022-08-15 22:55:05.545363')],\n",
              "      dtype=object)"
            ]
          },
          "metadata": {},
          "execution_count": 30
        }
      ]
    },
    {
      "cell_type": "code",
      "source": [
        "\n",
        "data.columns"
      ],
      "metadata": {
        "colab": {
          "base_uri": "https://localhost:8080/"
        },
        "id": "qrEI8taQuIH_",
        "outputId": "d8a02617-288d-4494-b260-c190624c7cfd"
      },
      "execution_count": 33,
      "outputs": [
        {
          "output_type": "execute_result",
          "data": {
            "text/plain": [
              "Index(['longitude', 'latitude', 'vei_nro_gestor', 'direcao', 'velocidade',\n",
              "       'inicio_viagem', 'linha', 'nomeLinha', 'nomeItinerario', 'comunicacao',\n",
              "       'coleta_atual'],\n",
              "      dtype='object')"
            ]
          },
          "metadata": {},
          "execution_count": 33
        }
      ]
    },
    {
      "cell_type": "code",
      "source": [
        "\n",
        "data"
      ],
      "metadata": {
        "id": "u4Ix8GyEtYN-"
      },
      "execution_count": null,
      "outputs": []
    },
    {
      "cell_type": "code",
      "source": [
        "data.loc[65].coleta_atual"
      ],
      "metadata": {
        "colab": {
          "base_uri": "https://localhost:8080/"
        },
        "id": "Yts2LCQ_rdSk",
        "outputId": "c749a4fc-9d2c-425e-f3f9-d073e2f7ee14"
      },
      "execution_count": 22,
      "outputs": [
        {
          "output_type": "execute_result",
          "data": {
            "text/plain": [
              "Timestamp('2022-08-15 22:48:14.067667')"
            ]
          },
          "metadata": {},
          "execution_count": 22
        }
      ]
    },
    {
      "cell_type": "code",
      "source": [
        "instante_atual"
      ],
      "metadata": {
        "colab": {
          "base_uri": "https://localhost:8080/"
        },
        "id": "b4EIvkOitBGj",
        "outputId": "eff8cf5a-c8c3-42a5-fd2c-9c8641b20642"
      },
      "execution_count": 24,
      "outputs": [
        {
          "output_type": "execute_result",
          "data": {
            "text/plain": [
              "datetime.datetime(2022, 8, 15, 22, 49, 53, 33340)"
            ]
          },
          "metadata": {},
          "execution_count": 24
        }
      ]
    },
    {
      "cell_type": "code",
      "source": [
        " data.loc[idx_vei].values"
      ],
      "metadata": {
        "colab": {
          "base_uri": "https://localhost:8080/"
        },
        "id": "fPD6jz0xq9eu",
        "outputId": "c1e8e8da-cd01-42d4-c94b-e26d8f491910"
      },
      "execution_count": 13,
      "outputs": [
        {
          "output_type": "execute_result",
          "data": {
            "text/plain": [
              "array([[-43.3534, -22.899365, '47005', 0, 45, '1660598718', '35A',\n",
              "        'MADUREIRA X JARDIM OCEANICO (PARADOR)',\n",
              "        'ITI VOLTA - 35A MADUREIRA X JARDIM OCEANICO (PARADOR)',\n",
              "        '1660603106', Timestamp('2022-08-15 22:38:36.860254'),\n",
              "        Timedelta('0 days 00:00:00')]], dtype=object)"
            ]
          },
          "metadata": {},
          "execution_count": 13
        }
      ]
    },
    {
      "cell_type": "code",
      "source": [
        "data2.loc[idx].values"
      ],
      "metadata": {
        "colab": {
          "base_uri": "https://localhost:8080/"
        },
        "id": "_xOK8ofyrACm",
        "outputId": "4b201a3a-b4f8-4218-b52a-85151690bba4"
      },
      "execution_count": 12,
      "outputs": [
        {
          "output_type": "execute_result",
          "data": {
            "text/plain": [
              "array([-43.35212, -22.897838, '47005', 1, 35, '1660598718', '35A',\n",
              "       'MADUREIRA X JARDIM OCEANICO (PARADOR)',\n",
              "       'ITI VOLTA - 35A MADUREIRA X JARDIM OCEANICO (PARADOR)',\n",
              "       '1660603241', Timestamp('2022-08-15 22:41:13.225349')],\n",
              "      dtype=object)"
            ]
          },
          "metadata": {},
          "execution_count": 12
        }
      ]
    },
    {
      "cell_type": "code",
      "source": [
        "data.loc[25].coleta_atual"
      ],
      "metadata": {
        "colab": {
          "base_uri": "https://localhost:8080/"
        },
        "id": "egGuj2Nim82g",
        "outputId": "a323f660-85bc-4bf1-e08f-8315fe52f83d"
      },
      "execution_count": 143,
      "outputs": [
        {
          "output_type": "execute_result",
          "data": {
            "text/plain": [
              "Timestamp('2022-08-15 22:30:50.889801')"
            ]
          },
          "metadata": {},
          "execution_count": 143
        }
      ]
    },
    {
      "cell_type": "code",
      "source": [
        "instante_atual"
      ],
      "metadata": {
        "colab": {
          "base_uri": "https://localhost:8080/"
        },
        "id": "qXTOk52BnQwV",
        "outputId": "0adc886c-7a41-4c58-a78b-d9fc738d0e5b"
      },
      "execution_count": 145,
      "outputs": [
        {
          "output_type": "execute_result",
          "data": {
            "text/plain": [
              "datetime.datetime(2022, 8, 15, 22, 31, 54, 316390)"
            ]
          },
          "metadata": {},
          "execution_count": 145
        }
      ]
    },
    {
      "cell_type": "code",
      "source": [
        "data.loc[3].coleta_atual"
      ],
      "metadata": {
        "colab": {
          "base_uri": "https://localhost:8080/"
        },
        "id": "OE2RH621nDLG",
        "outputId": "7dafe243-4927-4f06-d1c4-a1a61cc20af2"
      },
      "execution_count": 137,
      "outputs": [
        {
          "output_type": "execute_result",
          "data": {
            "text/plain": [
              "Timestamp('2022-08-15 22:28:34.820505')"
            ]
          },
          "metadata": {},
          "execution_count": 137
        }
      ]
    },
    {
      "cell_type": "code",
      "source": [
        "data.loc[data.intervalo_coleta.dt.seconds > 60]"
      ],
      "metadata": {
        "colab": {
          "base_uri": "https://localhost:8080/",
          "height": 732
        },
        "id": "bElUPVb8jzTg",
        "outputId": "0632fdb2-e3ee-4741-bdf5-205a68406556"
      },
      "execution_count": 8,
      "outputs": [
        {
          "output_type": "execute_result",
          "data": {
            "text/plain": [
              "    longitude   latitude vei_nro_gestor  direcao  velocidade inicio_viagem  \\\n",
              "22 -43.382897 -22.973343          47011        5          56    1660592457   \n",
              "34 -43.365938 -23.000687          47009        2           0    1660597204   \n",
              "37 -43.391585 -22.965162          13412        3           0    1660594978   \n",
              "38 -43.367103 -23.001365          27202        1          15    1660599528   \n",
              "41 -43.313240 -23.006745          13424        7           0    1660588676   \n",
              "42 -43.617652 -22.968927          86859        6          33    1660598433   \n",
              "60 -43.400977 -22.910977          47026        0          44    1660596687   \n",
              "\n",
              "   linha                               nomeLinha  \\\n",
              "22    46             PENHA X ALVORADA (EXPRESSO)   \n",
              "34   53A  TERMINAL SULACAP X ALVORADA (EXPRESSO)   \n",
              "37    12       PINGO DAGUA X ALVORADA (EXPRESSO)   \n",
              "38    46             PENHA X ALVORADA (EXPRESSO)   \n",
              "41    18    RECREIO X JARDIM OCEÂNICO (EXPRESSO)   \n",
              "42    13         MATO ALTO X ALVORADA (EXPRESSO)   \n",
              "60   53A  TERMINAL SULACAP X ALVORADA (EXPRESSO)   \n",
              "\n",
              "                                       nomeItinerario comunicacao  \\\n",
              "22           ITI IDA - 46 PENHA X ALVORADA (EXPRESSO)  1660603032   \n",
              "34  ITI IDA - 53A TERMINAL SULACAP X ALVORADA (EXP...  1660597271   \n",
              "37                                        Iti Default  1660602315   \n",
              "38           ITI IDA - 46 PENHA X ALVORADA (EXPRESSO)  1660603015   \n",
              "41  ITI VOLTA -  18 RECREIO X JARDIM OCEÂNICO (EXP...  1660603021   \n",
              "42                                        Iti Default  1660602944   \n",
              "60  ITI VOLTA - 53A TERMINAL SULACAP X ALVORADA (E...  1660603026   \n",
              "\n",
              "                 coleta_atual         intervalo_coleta  \n",
              "22 2022-08-15 22:37:20.156404 -1 days +23:58:43.296150  \n",
              "34 2022-08-15 22:37:20.156404 -1 days +23:58:43.296150  \n",
              "37 2022-08-15 22:37:20.156404 -1 days +23:58:43.296150  \n",
              "38 2022-08-15 22:37:20.156404 -1 days +23:58:43.296150  \n",
              "41 2022-08-15 22:37:20.156404 -1 days +23:58:43.296150  \n",
              "42 2022-08-15 22:37:20.156404 -1 days +23:58:43.296150  \n",
              "60 2022-08-15 22:37:20.156404 -1 days +23:58:43.296150  "
            ],
            "text/html": [
              "\n",
              "  <div id=\"df-b1cb4ecc-6a70-42b2-8d7a-9448e35071ed\">\n",
              "    <div class=\"colab-df-container\">\n",
              "      <div>\n",
              "<style scoped>\n",
              "    .dataframe tbody tr th:only-of-type {\n",
              "        vertical-align: middle;\n",
              "    }\n",
              "\n",
              "    .dataframe tbody tr th {\n",
              "        vertical-align: top;\n",
              "    }\n",
              "\n",
              "    .dataframe thead th {\n",
              "        text-align: right;\n",
              "    }\n",
              "</style>\n",
              "<table border=\"1\" class=\"dataframe\">\n",
              "  <thead>\n",
              "    <tr style=\"text-align: right;\">\n",
              "      <th></th>\n",
              "      <th>longitude</th>\n",
              "      <th>latitude</th>\n",
              "      <th>vei_nro_gestor</th>\n",
              "      <th>direcao</th>\n",
              "      <th>velocidade</th>\n",
              "      <th>inicio_viagem</th>\n",
              "      <th>linha</th>\n",
              "      <th>nomeLinha</th>\n",
              "      <th>nomeItinerario</th>\n",
              "      <th>comunicacao</th>\n",
              "      <th>coleta_atual</th>\n",
              "      <th>intervalo_coleta</th>\n",
              "    </tr>\n",
              "  </thead>\n",
              "  <tbody>\n",
              "    <tr>\n",
              "      <th>22</th>\n",
              "      <td>-43.382897</td>\n",
              "      <td>-22.973343</td>\n",
              "      <td>47011</td>\n",
              "      <td>5</td>\n",
              "      <td>56</td>\n",
              "      <td>1660592457</td>\n",
              "      <td>46</td>\n",
              "      <td>PENHA X ALVORADA (EXPRESSO)</td>\n",
              "      <td>ITI IDA - 46 PENHA X ALVORADA (EXPRESSO)</td>\n",
              "      <td>1660603032</td>\n",
              "      <td>2022-08-15 22:37:20.156404</td>\n",
              "      <td>-1 days +23:58:43.296150</td>\n",
              "    </tr>\n",
              "    <tr>\n",
              "      <th>34</th>\n",
              "      <td>-43.365938</td>\n",
              "      <td>-23.000687</td>\n",
              "      <td>47009</td>\n",
              "      <td>2</td>\n",
              "      <td>0</td>\n",
              "      <td>1660597204</td>\n",
              "      <td>53A</td>\n",
              "      <td>TERMINAL SULACAP X ALVORADA (EXPRESSO)</td>\n",
              "      <td>ITI IDA - 53A TERMINAL SULACAP X ALVORADA (EXP...</td>\n",
              "      <td>1660597271</td>\n",
              "      <td>2022-08-15 22:37:20.156404</td>\n",
              "      <td>-1 days +23:58:43.296150</td>\n",
              "    </tr>\n",
              "    <tr>\n",
              "      <th>37</th>\n",
              "      <td>-43.391585</td>\n",
              "      <td>-22.965162</td>\n",
              "      <td>13412</td>\n",
              "      <td>3</td>\n",
              "      <td>0</td>\n",
              "      <td>1660594978</td>\n",
              "      <td>12</td>\n",
              "      <td>PINGO DAGUA X ALVORADA (EXPRESSO)</td>\n",
              "      <td>Iti Default</td>\n",
              "      <td>1660602315</td>\n",
              "      <td>2022-08-15 22:37:20.156404</td>\n",
              "      <td>-1 days +23:58:43.296150</td>\n",
              "    </tr>\n",
              "    <tr>\n",
              "      <th>38</th>\n",
              "      <td>-43.367103</td>\n",
              "      <td>-23.001365</td>\n",
              "      <td>27202</td>\n",
              "      <td>1</td>\n",
              "      <td>15</td>\n",
              "      <td>1660599528</td>\n",
              "      <td>46</td>\n",
              "      <td>PENHA X ALVORADA (EXPRESSO)</td>\n",
              "      <td>ITI IDA - 46 PENHA X ALVORADA (EXPRESSO)</td>\n",
              "      <td>1660603015</td>\n",
              "      <td>2022-08-15 22:37:20.156404</td>\n",
              "      <td>-1 days +23:58:43.296150</td>\n",
              "    </tr>\n",
              "    <tr>\n",
              "      <th>41</th>\n",
              "      <td>-43.313240</td>\n",
              "      <td>-23.006745</td>\n",
              "      <td>13424</td>\n",
              "      <td>7</td>\n",
              "      <td>0</td>\n",
              "      <td>1660588676</td>\n",
              "      <td>18</td>\n",
              "      <td>RECREIO X JARDIM OCEÂNICO (EXPRESSO)</td>\n",
              "      <td>ITI VOLTA -  18 RECREIO X JARDIM OCEÂNICO (EXP...</td>\n",
              "      <td>1660603021</td>\n",
              "      <td>2022-08-15 22:37:20.156404</td>\n",
              "      <td>-1 days +23:58:43.296150</td>\n",
              "    </tr>\n",
              "    <tr>\n",
              "      <th>42</th>\n",
              "      <td>-43.617652</td>\n",
              "      <td>-22.968927</td>\n",
              "      <td>86859</td>\n",
              "      <td>6</td>\n",
              "      <td>33</td>\n",
              "      <td>1660598433</td>\n",
              "      <td>13</td>\n",
              "      <td>MATO ALTO X ALVORADA (EXPRESSO)</td>\n",
              "      <td>Iti Default</td>\n",
              "      <td>1660602944</td>\n",
              "      <td>2022-08-15 22:37:20.156404</td>\n",
              "      <td>-1 days +23:58:43.296150</td>\n",
              "    </tr>\n",
              "    <tr>\n",
              "      <th>60</th>\n",
              "      <td>-43.400977</td>\n",
              "      <td>-22.910977</td>\n",
              "      <td>47026</td>\n",
              "      <td>0</td>\n",
              "      <td>44</td>\n",
              "      <td>1660596687</td>\n",
              "      <td>53A</td>\n",
              "      <td>TERMINAL SULACAP X ALVORADA (EXPRESSO)</td>\n",
              "      <td>ITI VOLTA - 53A TERMINAL SULACAP X ALVORADA (E...</td>\n",
              "      <td>1660603026</td>\n",
              "      <td>2022-08-15 22:37:20.156404</td>\n",
              "      <td>-1 days +23:58:43.296150</td>\n",
              "    </tr>\n",
              "  </tbody>\n",
              "</table>\n",
              "</div>\n",
              "      <button class=\"colab-df-convert\" onclick=\"convertToInteractive('df-b1cb4ecc-6a70-42b2-8d7a-9448e35071ed')\"\n",
              "              title=\"Convert this dataframe to an interactive table.\"\n",
              "              style=\"display:none;\">\n",
              "        \n",
              "  <svg xmlns=\"http://www.w3.org/2000/svg\" height=\"24px\"viewBox=\"0 0 24 24\"\n",
              "       width=\"24px\">\n",
              "    <path d=\"M0 0h24v24H0V0z\" fill=\"none\"/>\n",
              "    <path d=\"M18.56 5.44l.94 2.06.94-2.06 2.06-.94-2.06-.94-.94-2.06-.94 2.06-2.06.94zm-11 1L8.5 8.5l.94-2.06 2.06-.94-2.06-.94L8.5 2.5l-.94 2.06-2.06.94zm10 10l.94 2.06.94-2.06 2.06-.94-2.06-.94-.94-2.06-.94 2.06-2.06.94z\"/><path d=\"M17.41 7.96l-1.37-1.37c-.4-.4-.92-.59-1.43-.59-.52 0-1.04.2-1.43.59L10.3 9.45l-7.72 7.72c-.78.78-.78 2.05 0 2.83L4 21.41c.39.39.9.59 1.41.59.51 0 1.02-.2 1.41-.59l7.78-7.78 2.81-2.81c.8-.78.8-2.07 0-2.86zM5.41 20L4 18.59l7.72-7.72 1.47 1.35L5.41 20z\"/>\n",
              "  </svg>\n",
              "      </button>\n",
              "      \n",
              "  <style>\n",
              "    .colab-df-container {\n",
              "      display:flex;\n",
              "      flex-wrap:wrap;\n",
              "      gap: 12px;\n",
              "    }\n",
              "\n",
              "    .colab-df-convert {\n",
              "      background-color: #E8F0FE;\n",
              "      border: none;\n",
              "      border-radius: 50%;\n",
              "      cursor: pointer;\n",
              "      display: none;\n",
              "      fill: #1967D2;\n",
              "      height: 32px;\n",
              "      padding: 0 0 0 0;\n",
              "      width: 32px;\n",
              "    }\n",
              "\n",
              "    .colab-df-convert:hover {\n",
              "      background-color: #E2EBFA;\n",
              "      box-shadow: 0px 1px 2px rgba(60, 64, 67, 0.3), 0px 1px 3px 1px rgba(60, 64, 67, 0.15);\n",
              "      fill: #174EA6;\n",
              "    }\n",
              "\n",
              "    [theme=dark] .colab-df-convert {\n",
              "      background-color: #3B4455;\n",
              "      fill: #D2E3FC;\n",
              "    }\n",
              "\n",
              "    [theme=dark] .colab-df-convert:hover {\n",
              "      background-color: #434B5C;\n",
              "      box-shadow: 0px 1px 3px 1px rgba(0, 0, 0, 0.15);\n",
              "      filter: drop-shadow(0px 1px 2px rgba(0, 0, 0, 0.3));\n",
              "      fill: #FFFFFF;\n",
              "    }\n",
              "  </style>\n",
              "\n",
              "      <script>\n",
              "        const buttonEl =\n",
              "          document.querySelector('#df-b1cb4ecc-6a70-42b2-8d7a-9448e35071ed button.colab-df-convert');\n",
              "        buttonEl.style.display =\n",
              "          google.colab.kernel.accessAllowed ? 'block' : 'none';\n",
              "\n",
              "        async function convertToInteractive(key) {\n",
              "          const element = document.querySelector('#df-b1cb4ecc-6a70-42b2-8d7a-9448e35071ed');\n",
              "          const dataTable =\n",
              "            await google.colab.kernel.invokeFunction('convertToInteractive',\n",
              "                                                     [key], {});\n",
              "          if (!dataTable) return;\n",
              "\n",
              "          const docLinkHtml = 'Like what you see? Visit the ' +\n",
              "            '<a target=\"_blank\" href=https://colab.research.google.com/notebooks/data_table.ipynb>data table notebook</a>'\n",
              "            + ' to learn more about interactive tables.';\n",
              "          element.innerHTML = '';\n",
              "          dataTable['output_type'] = 'display_data';\n",
              "          await google.colab.output.renderOutput(dataTable, element);\n",
              "          const docLink = document.createElement('div');\n",
              "          docLink.innerHTML = docLinkHtml;\n",
              "          element.appendChild(docLink);\n",
              "        }\n",
              "      </script>\n",
              "    </div>\n",
              "  </div>\n",
              "  "
            ]
          },
          "metadata": {},
          "execution_count": 8
        }
      ]
    },
    {
      "cell_type": "code",
      "source": [
        "data.loc[idx_vei].values"
      ],
      "metadata": {
        "colab": {
          "base_uri": "https://localhost:8080/"
        },
        "id": "_qYqlaEoj5pL",
        "outputId": "3c33cba3-a83b-4b83-bebc-693933554875"
      },
      "execution_count": 120,
      "outputs": [
        {
          "output_type": "execute_result",
          "data": {
            "text/plain": [
              "array([[-43.382682, -22.973155, '13412', 4, 0, '1660594978', '12',\n",
              "        'PINGO DAGUA X ALVORADA (EXPRESSO)', 'Iti Default', '1660601554',\n",
              "        Timestamp('2022-08-15 19:12:55.499915-0300', tz='UTC-03:00')]],\n",
              "      dtype=object)"
            ]
          },
          "metadata": {},
          "execution_count": 120
        }
      ]
    },
    {
      "cell_type": "code",
      "source": [
        "data2"
      ],
      "metadata": {
        "colab": {
          "base_uri": "https://localhost:8080/",
          "height": 1000
        },
        "id": "kS0SZ5b0jITM",
        "outputId": "7fac0f7e-f589-483a-f4f2-7194a49d255d"
      },
      "execution_count": 103,
      "outputs": [
        {
          "output_type": "execute_result",
          "data": {
            "text/plain": [
              "    longitude   latitude vei_nro_gestor  direcao  velocidade inicio_viagem  \\\n",
              "0  -43.365797 -23.000640          30518        1          18    1660596673   \n",
              "1  -43.346865 -23.000137          12738        1          24    1660597356   \n",
              "2  -43.400802 -22.911210          13428        0          41    1660593424   \n",
              "3  -43.323523 -23.003563          47027        6          37    1660600869   \n",
              "4  -43.365733 -22.986398          12707        0          59    1660600759   \n",
              "..        ...        ...            ...      ...         ...           ...   \n",
              "69 -43.365997 -22.973423          44730        5          10    1660600731   \n",
              "70 -43.540828 -23.008822          44731        6          27    1660598718   \n",
              "71 -43.367207 -23.001395          47026        2           0    1660596687   \n",
              "72 -43.348660 -23.000100          90003        1          33    1660596165   \n",
              "73 -43.336303 -22.878363          12703        2           0    1660601079   \n",
              "\n",
              "   linha                                          nomeLinha  \\\n",
              "0    25A                     MATO ALTO X ALVORADA (PARADOR)   \n",
              "1    35A              MADUREIRA X JARDIM OCEANICO (PARADOR)   \n",
              "2     51          VILA MILITAR X TERMINAL RECREIO (PARADOR)   \n",
              "3     22  TERMINAL ALVORADA X TERMINAL JARDIM OCEÂNICO (...   \n",
              "4     46                        PENHA X ALVORADA (EXPRESSO)   \n",
              "..   ...                                                ...   \n",
              "69   40A                    ALVORADA X MADUREIRA (EXPRESSO)   \n",
              "70    13                    MATO ALTO X ALVORADA (EXPRESSO)   \n",
              "71   53A             TERMINAL SULACAP X ALVORADA (EXPRESSO)   \n",
              "72    50  TERMINAL OLÍMPICO X TERMINAL JARDIM OCEÂNICO (...   \n",
              "73   35A              MADUREIRA X JARDIM OCEANICO (PARADOR)   \n",
              "\n",
              "                                       nomeItinerario comunicacao  \\\n",
              "0        ITI IDA - 25A MATO ALTO X ALVORADA (PARADOR)  1660601243   \n",
              "1   ITI VOLTA - 35A MADUREIRA X JARDIM OCEANICO (P...  1660601232   \n",
              "2   ITI VOLTA - 51 VILA MILITAR X TERMINAL RECREIO...  1660601219   \n",
              "3   ITI VOLTA -  22 TERMINAL ALVORADA X TERMINAL J...  1660601233   \n",
              "4          ITI VOLTA - 46 PENHA X ALVORADA (EXPRESSO)  1660601239   \n",
              "..                                                ...         ...   \n",
              "69    ITI VOLTA - 40A ALVORADA X MADUREIRA (EXPRESSO)  1660601221   \n",
              "70     ITI VOLTA - 13 MATO ALTO X ALVORADA (EXPRESSO)  1660601228   \n",
              "71  ITI VOLTA - 53A TERMINAL SULACAP X ALVORADA (E...  1660601168   \n",
              "72  ITI IDA - 50 TERMINAL OLÍMPICO X TERMINAL JARD...  1660601217   \n",
              "73  ITI IDA - 35A MADUREIRA X JARDIM OCEANICO (PAR...  1660601217   \n",
              "\n",
              "                       coleta_atual  \n",
              "0  2022-08-15 19:07:27.667847-03:00  \n",
              "1  2022-08-15 19:07:27.667847-03:00  \n",
              "2  2022-08-15 19:07:27.667847-03:00  \n",
              "3  2022-08-15 19:07:27.667847-03:00  \n",
              "4  2022-08-15 19:07:27.667847-03:00  \n",
              "..                              ...  \n",
              "69 2022-08-15 19:07:27.667847-03:00  \n",
              "70 2022-08-15 19:07:27.667847-03:00  \n",
              "71 2022-08-15 19:07:27.667847-03:00  \n",
              "72 2022-08-15 19:07:27.667847-03:00  \n",
              "73 2022-08-15 19:07:27.667847-03:00  \n",
              "\n",
              "[74 rows x 11 columns]"
            ],
            "text/html": [
              "\n",
              "  <div id=\"df-126b142a-29a7-4a35-b5d0-ad44600176e6\">\n",
              "    <div class=\"colab-df-container\">\n",
              "      <div>\n",
              "<style scoped>\n",
              "    .dataframe tbody tr th:only-of-type {\n",
              "        vertical-align: middle;\n",
              "    }\n",
              "\n",
              "    .dataframe tbody tr th {\n",
              "        vertical-align: top;\n",
              "    }\n",
              "\n",
              "    .dataframe thead th {\n",
              "        text-align: right;\n",
              "    }\n",
              "</style>\n",
              "<table border=\"1\" class=\"dataframe\">\n",
              "  <thead>\n",
              "    <tr style=\"text-align: right;\">\n",
              "      <th></th>\n",
              "      <th>longitude</th>\n",
              "      <th>latitude</th>\n",
              "      <th>vei_nro_gestor</th>\n",
              "      <th>direcao</th>\n",
              "      <th>velocidade</th>\n",
              "      <th>inicio_viagem</th>\n",
              "      <th>linha</th>\n",
              "      <th>nomeLinha</th>\n",
              "      <th>nomeItinerario</th>\n",
              "      <th>comunicacao</th>\n",
              "      <th>coleta_atual</th>\n",
              "    </tr>\n",
              "  </thead>\n",
              "  <tbody>\n",
              "    <tr>\n",
              "      <th>0</th>\n",
              "      <td>-43.365797</td>\n",
              "      <td>-23.000640</td>\n",
              "      <td>30518</td>\n",
              "      <td>1</td>\n",
              "      <td>18</td>\n",
              "      <td>1660596673</td>\n",
              "      <td>25A</td>\n",
              "      <td>MATO ALTO X ALVORADA (PARADOR)</td>\n",
              "      <td>ITI IDA - 25A MATO ALTO X ALVORADA (PARADOR)</td>\n",
              "      <td>1660601243</td>\n",
              "      <td>2022-08-15 19:07:27.667847-03:00</td>\n",
              "    </tr>\n",
              "    <tr>\n",
              "      <th>1</th>\n",
              "      <td>-43.346865</td>\n",
              "      <td>-23.000137</td>\n",
              "      <td>12738</td>\n",
              "      <td>1</td>\n",
              "      <td>24</td>\n",
              "      <td>1660597356</td>\n",
              "      <td>35A</td>\n",
              "      <td>MADUREIRA X JARDIM OCEANICO (PARADOR)</td>\n",
              "      <td>ITI VOLTA - 35A MADUREIRA X JARDIM OCEANICO (P...</td>\n",
              "      <td>1660601232</td>\n",
              "      <td>2022-08-15 19:07:27.667847-03:00</td>\n",
              "    </tr>\n",
              "    <tr>\n",
              "      <th>2</th>\n",
              "      <td>-43.400802</td>\n",
              "      <td>-22.911210</td>\n",
              "      <td>13428</td>\n",
              "      <td>0</td>\n",
              "      <td>41</td>\n",
              "      <td>1660593424</td>\n",
              "      <td>51</td>\n",
              "      <td>VILA MILITAR X TERMINAL RECREIO (PARADOR)</td>\n",
              "      <td>ITI VOLTA - 51 VILA MILITAR X TERMINAL RECREIO...</td>\n",
              "      <td>1660601219</td>\n",
              "      <td>2022-08-15 19:07:27.667847-03:00</td>\n",
              "    </tr>\n",
              "    <tr>\n",
              "      <th>3</th>\n",
              "      <td>-43.323523</td>\n",
              "      <td>-23.003563</td>\n",
              "      <td>47027</td>\n",
              "      <td>6</td>\n",
              "      <td>37</td>\n",
              "      <td>1660600869</td>\n",
              "      <td>22</td>\n",
              "      <td>TERMINAL ALVORADA X TERMINAL JARDIM OCEÂNICO (...</td>\n",
              "      <td>ITI VOLTA -  22 TERMINAL ALVORADA X TERMINAL J...</td>\n",
              "      <td>1660601233</td>\n",
              "      <td>2022-08-15 19:07:27.667847-03:00</td>\n",
              "    </tr>\n",
              "    <tr>\n",
              "      <th>4</th>\n",
              "      <td>-43.365733</td>\n",
              "      <td>-22.986398</td>\n",
              "      <td>12707</td>\n",
              "      <td>0</td>\n",
              "      <td>59</td>\n",
              "      <td>1660600759</td>\n",
              "      <td>46</td>\n",
              "      <td>PENHA X ALVORADA (EXPRESSO)</td>\n",
              "      <td>ITI VOLTA - 46 PENHA X ALVORADA (EXPRESSO)</td>\n",
              "      <td>1660601239</td>\n",
              "      <td>2022-08-15 19:07:27.667847-03:00</td>\n",
              "    </tr>\n",
              "    <tr>\n",
              "      <th>...</th>\n",
              "      <td>...</td>\n",
              "      <td>...</td>\n",
              "      <td>...</td>\n",
              "      <td>...</td>\n",
              "      <td>...</td>\n",
              "      <td>...</td>\n",
              "      <td>...</td>\n",
              "      <td>...</td>\n",
              "      <td>...</td>\n",
              "      <td>...</td>\n",
              "      <td>...</td>\n",
              "    </tr>\n",
              "    <tr>\n",
              "      <th>69</th>\n",
              "      <td>-43.365997</td>\n",
              "      <td>-22.973423</td>\n",
              "      <td>44730</td>\n",
              "      <td>5</td>\n",
              "      <td>10</td>\n",
              "      <td>1660600731</td>\n",
              "      <td>40A</td>\n",
              "      <td>ALVORADA X MADUREIRA (EXPRESSO)</td>\n",
              "      <td>ITI VOLTA - 40A ALVORADA X MADUREIRA (EXPRESSO)</td>\n",
              "      <td>1660601221</td>\n",
              "      <td>2022-08-15 19:07:27.667847-03:00</td>\n",
              "    </tr>\n",
              "    <tr>\n",
              "      <th>70</th>\n",
              "      <td>-43.540828</td>\n",
              "      <td>-23.008822</td>\n",
              "      <td>44731</td>\n",
              "      <td>6</td>\n",
              "      <td>27</td>\n",
              "      <td>1660598718</td>\n",
              "      <td>13</td>\n",
              "      <td>MATO ALTO X ALVORADA (EXPRESSO)</td>\n",
              "      <td>ITI VOLTA - 13 MATO ALTO X ALVORADA (EXPRESSO)</td>\n",
              "      <td>1660601228</td>\n",
              "      <td>2022-08-15 19:07:27.667847-03:00</td>\n",
              "    </tr>\n",
              "    <tr>\n",
              "      <th>71</th>\n",
              "      <td>-43.367207</td>\n",
              "      <td>-23.001395</td>\n",
              "      <td>47026</td>\n",
              "      <td>2</td>\n",
              "      <td>0</td>\n",
              "      <td>1660596687</td>\n",
              "      <td>53A</td>\n",
              "      <td>TERMINAL SULACAP X ALVORADA (EXPRESSO)</td>\n",
              "      <td>ITI VOLTA - 53A TERMINAL SULACAP X ALVORADA (E...</td>\n",
              "      <td>1660601168</td>\n",
              "      <td>2022-08-15 19:07:27.667847-03:00</td>\n",
              "    </tr>\n",
              "    <tr>\n",
              "      <th>72</th>\n",
              "      <td>-43.348660</td>\n",
              "      <td>-23.000100</td>\n",
              "      <td>90003</td>\n",
              "      <td>1</td>\n",
              "      <td>33</td>\n",
              "      <td>1660596165</td>\n",
              "      <td>50</td>\n",
              "      <td>TERMINAL OLÍMPICO X TERMINAL JARDIM OCEÂNICO (...</td>\n",
              "      <td>ITI IDA - 50 TERMINAL OLÍMPICO X TERMINAL JARD...</td>\n",
              "      <td>1660601217</td>\n",
              "      <td>2022-08-15 19:07:27.667847-03:00</td>\n",
              "    </tr>\n",
              "    <tr>\n",
              "      <th>73</th>\n",
              "      <td>-43.336303</td>\n",
              "      <td>-22.878363</td>\n",
              "      <td>12703</td>\n",
              "      <td>2</td>\n",
              "      <td>0</td>\n",
              "      <td>1660601079</td>\n",
              "      <td>35A</td>\n",
              "      <td>MADUREIRA X JARDIM OCEANICO (PARADOR)</td>\n",
              "      <td>ITI IDA - 35A MADUREIRA X JARDIM OCEANICO (PAR...</td>\n",
              "      <td>1660601217</td>\n",
              "      <td>2022-08-15 19:07:27.667847-03:00</td>\n",
              "    </tr>\n",
              "  </tbody>\n",
              "</table>\n",
              "<p>74 rows × 11 columns</p>\n",
              "</div>\n",
              "      <button class=\"colab-df-convert\" onclick=\"convertToInteractive('df-126b142a-29a7-4a35-b5d0-ad44600176e6')\"\n",
              "              title=\"Convert this dataframe to an interactive table.\"\n",
              "              style=\"display:none;\">\n",
              "        \n",
              "  <svg xmlns=\"http://www.w3.org/2000/svg\" height=\"24px\"viewBox=\"0 0 24 24\"\n",
              "       width=\"24px\">\n",
              "    <path d=\"M0 0h24v24H0V0z\" fill=\"none\"/>\n",
              "    <path d=\"M18.56 5.44l.94 2.06.94-2.06 2.06-.94-2.06-.94-.94-2.06-.94 2.06-2.06.94zm-11 1L8.5 8.5l.94-2.06 2.06-.94-2.06-.94L8.5 2.5l-.94 2.06-2.06.94zm10 10l.94 2.06.94-2.06 2.06-.94-2.06-.94-.94-2.06-.94 2.06-2.06.94z\"/><path d=\"M17.41 7.96l-1.37-1.37c-.4-.4-.92-.59-1.43-.59-.52 0-1.04.2-1.43.59L10.3 9.45l-7.72 7.72c-.78.78-.78 2.05 0 2.83L4 21.41c.39.39.9.59 1.41.59.51 0 1.02-.2 1.41-.59l7.78-7.78 2.81-2.81c.8-.78.8-2.07 0-2.86zM5.41 20L4 18.59l7.72-7.72 1.47 1.35L5.41 20z\"/>\n",
              "  </svg>\n",
              "      </button>\n",
              "      \n",
              "  <style>\n",
              "    .colab-df-container {\n",
              "      display:flex;\n",
              "      flex-wrap:wrap;\n",
              "      gap: 12px;\n",
              "    }\n",
              "\n",
              "    .colab-df-convert {\n",
              "      background-color: #E8F0FE;\n",
              "      border: none;\n",
              "      border-radius: 50%;\n",
              "      cursor: pointer;\n",
              "      display: none;\n",
              "      fill: #1967D2;\n",
              "      height: 32px;\n",
              "      padding: 0 0 0 0;\n",
              "      width: 32px;\n",
              "    }\n",
              "\n",
              "    .colab-df-convert:hover {\n",
              "      background-color: #E2EBFA;\n",
              "      box-shadow: 0px 1px 2px rgba(60, 64, 67, 0.3), 0px 1px 3px 1px rgba(60, 64, 67, 0.15);\n",
              "      fill: #174EA6;\n",
              "    }\n",
              "\n",
              "    [theme=dark] .colab-df-convert {\n",
              "      background-color: #3B4455;\n",
              "      fill: #D2E3FC;\n",
              "    }\n",
              "\n",
              "    [theme=dark] .colab-df-convert:hover {\n",
              "      background-color: #434B5C;\n",
              "      box-shadow: 0px 1px 3px 1px rgba(0, 0, 0, 0.15);\n",
              "      filter: drop-shadow(0px 1px 2px rgba(0, 0, 0, 0.3));\n",
              "      fill: #FFFFFF;\n",
              "    }\n",
              "  </style>\n",
              "\n",
              "      <script>\n",
              "        const buttonEl =\n",
              "          document.querySelector('#df-126b142a-29a7-4a35-b5d0-ad44600176e6 button.colab-df-convert');\n",
              "        buttonEl.style.display =\n",
              "          google.colab.kernel.accessAllowed ? 'block' : 'none';\n",
              "\n",
              "        async function convertToInteractive(key) {\n",
              "          const element = document.querySelector('#df-126b142a-29a7-4a35-b5d0-ad44600176e6');\n",
              "          const dataTable =\n",
              "            await google.colab.kernel.invokeFunction('convertToInteractive',\n",
              "                                                     [key], {});\n",
              "          if (!dataTable) return;\n",
              "\n",
              "          const docLinkHtml = 'Like what you see? Visit the ' +\n",
              "            '<a target=\"_blank\" href=https://colab.research.google.com/notebooks/data_table.ipynb>data table notebook</a>'\n",
              "            + ' to learn more about interactive tables.';\n",
              "          element.innerHTML = '';\n",
              "          dataTable['output_type'] = 'display_data';\n",
              "          await google.colab.output.renderOutput(dataTable, element);\n",
              "          const docLink = document.createElement('div');\n",
              "          docLink.innerHTML = docLinkHtml;\n",
              "          element.appendChild(docLink);\n",
              "        }\n",
              "      </script>\n",
              "    </div>\n",
              "  </div>\n",
              "  "
            ]
          },
          "metadata": {},
          "execution_count": 103
        }
      ]
    },
    {
      "cell_type": "code",
      "source": [
        "data.loc[idx]"
      ],
      "metadata": {
        "colab": {
          "base_uri": "https://localhost:8080/"
        },
        "id": "1SykcqM3hhnv",
        "outputId": "17ccd09d-3542-4337-86a3-2af11063324e"
      },
      "execution_count": 89,
      "outputs": [
        {
          "output_type": "execute_result",
          "data": {
            "text/plain": [
              "longitude                                               -43.477295\n",
              "latitude                                                -23.016963\n",
              "vei_nro_gestor                                               27212\n",
              "direcao                                                          4\n",
              "velocidade                                                       0\n",
              "inicio_viagem                                           1660588709\n",
              "linha                                                          25A\n",
              "nomeLinha                           MATO ALTO X ALVORADA (PARADOR)\n",
              "nomeItinerario      ITI VOLTA - 25A MATO ALTO X ALVORADA (PARADOR)\n",
              "comunicacao                                             1660600615\n",
              "coleta_atual                      2022-08-15 18:54:23.524266-03:00\n",
              "intervalo_coleta                                   0 days 00:00:00\n",
              "Name: 1, dtype: object"
            ]
          },
          "metadata": {},
          "execution_count": 89
        }
      ]
    },
    {
      "cell_type": "code",
      "source": [
        "a = a.drop(a[a.dt.seconds > 60].index)\n",
        "a.shape"
      ],
      "metadata": {
        "colab": {
          "base_uri": "https://localhost:8080/"
        },
        "id": "tTCXObTPaXzP",
        "outputId": "7cbc98ec-57ac-4701-a84e-3c3e31fd8fd5"
      },
      "execution_count": 71,
      "outputs": [
        {
          "output_type": "execute_result",
          "data": {
            "text/plain": [
              "(72,)"
            ]
          },
          "metadata": {},
          "execution_count": 71
        }
      ]
    },
    {
      "cell_type": "code",
      "source": [
        "a.loc[a.dt.seconds > 60]"
      ],
      "metadata": {
        "colab": {
          "base_uri": "https://localhost:8080/"
        },
        "id": "DxewGpNWZyUs",
        "outputId": "7a8b6482-ed87-4fcf-f946-701330bca267"
      },
      "execution_count": 68,
      "outputs": [
        {
          "output_type": "execute_result",
          "data": {
            "text/plain": [
              "13"
            ]
          },
          "metadata": {},
          "execution_count": 68
        }
      ]
    },
    {
      "cell_type": "code",
      "source": [
        "type(a)"
      ],
      "metadata": {
        "colab": {
          "base_uri": "https://localhost:8080/"
        },
        "id": "Q5HvbxjWZZDZ",
        "outputId": "5d51861e-3f12-4c72-ca66-233fdd863718"
      },
      "execution_count": 58,
      "outputs": [
        {
          "output_type": "execute_result",
          "data": {
            "text/plain": [
              "pandas.core.series.Series"
            ]
          },
          "metadata": {},
          "execution_count": 58
        }
      ]
    },
    {
      "cell_type": "code",
      "source": [
        "a.to_list"
      ],
      "metadata": {
        "colab": {
          "base_uri": "https://localhost:8080/"
        },
        "id": "AhONq7bQZdTI",
        "outputId": "a89664dd-49de-4559-8c19-b457cabfd578"
      },
      "execution_count": 59,
      "outputs": [
        {
          "output_type": "execute_result",
          "data": {
            "text/plain": [
              "<bound method IndexOpsMixin.tolist of 0             0 days 00:00:00\n",
              "1             0 days 00:00:00\n",
              "2             0 days 00:00:00\n",
              "3             0 days 00:00:00\n",
              "4             0 days 00:00:00\n",
              "               ...           \n",
              "80            0 days 00:00:00\n",
              "81   -1 days +23:46:27.767779\n",
              "82            0 days 00:00:00\n",
              "83            0 days 00:00:00\n",
              "84            0 days 00:00:00\n",
              "Name: coleta_atual, Length: 85, dtype: timedelta64[ns]>"
            ]
          },
          "metadata": {},
          "execution_count": 59
        }
      ]
    },
    {
      "cell_type": "code",
      "source": [
        "a[0].dt.seconds>60"
      ],
      "metadata": {
        "colab": {
          "base_uri": "https://localhost:8080/",
          "height": 167
        },
        "id": "SJeLeM9WZkAp",
        "outputId": "0bd4f5bf-1a8c-4792-e499-8325cbea417e"
      },
      "execution_count": 63,
      "outputs": [
        {
          "output_type": "error",
          "ename": "AttributeError",
          "evalue": "ignored",
          "traceback": [
            "\u001b[0;31m---------------------------------------------------------------------------\u001b[0m",
            "\u001b[0;31mAttributeError\u001b[0m                            Traceback (most recent call last)",
            "\u001b[0;32m<ipython-input-63-3b913ecbbae8>\u001b[0m in \u001b[0;36m<module>\u001b[0;34m\u001b[0m\n\u001b[0;32m----> 1\u001b[0;31m \u001b[0ma\u001b[0m\u001b[0;34m[\u001b[0m\u001b[0;36m0\u001b[0m\u001b[0;34m]\u001b[0m\u001b[0;34m.\u001b[0m\u001b[0mdt\u001b[0m\u001b[0;34m.\u001b[0m\u001b[0mseconds\u001b[0m\u001b[0;34m>\u001b[0m\u001b[0;36m60\u001b[0m\u001b[0;34m\u001b[0m\u001b[0;34m\u001b[0m\u001b[0m\n\u001b[0m",
            "\u001b[0;31mAttributeError\u001b[0m: 'Timedelta' object has no attribute 'dt'"
          ]
        }
      ]
    },
    {
      "cell_type": "code",
      "source": [
        "data_bkp = data\n",
        "data_bkp"
      ],
      "metadata": {
        "id": "PfjcahyndDUR"
      },
      "execution_count": null,
      "outputs": []
    },
    {
      "cell_type": "code",
      "source": [
        "for idx in data2.index:\n",
        "\n",
        "  # se o veiculo não está no dataframe, então add\n",
        "  if not data2['vei_nro_gestor'][idx] in data.vei_nro_gestor.values: #verificando se o veiculo ja esta na BD\n",
        "    #print('O veículo {} já esta está na BD'.format(data2['vei_nro_gestor'][idx]))\n",
        "    print(idx)\n",
        "    print('---------Add novo veiculo ao df----------------------------------------------------')\n",
        "    novo_veiculo = data2.loc[data2['vei_nro_gestor']==data2['vei_nro_gestor'][idx]]\n",
        "    data = data.append(novo_veiculo, ignore_index=True)\n",
        "  \n",
        "  else:\n",
        "    veiculo = data.loc[data['vei_nro_gestor']==data2['vei_nro_gestor'][idx]]\n",
        "    idx_vei = data[data['vei_nro_gestor']==data2['vei_nro_gestor'][idx]].index.values\n",
        "\n",
        "    tempo = data2.loc[idx].coleta_atual - veiculo.coleta_atual\n",
        "\n",
        "    #verificando se as coordenadas são diferentes\n",
        "    if (veiculo.longitude.values != data2.loc[idx].longitude or \n",
        "        veiculo.latitude.values != data2.loc[idx].latitude):\n",
        "      # então atualiza o veiculo no df\n",
        "      print(idx)\n",
        "      print('--------- Atualizando a posição do veículo {}--------------------------'.format(data2['vei_nro_gestor'][idx]))\n",
        "      data.loc[idx_vei] = data2.loc[idx].values\n",
        "  \n",
        "\n",
        "#data"
      ],
      "metadata": {
        "id": "LgT_ex-2504C",
        "colab": {
          "base_uri": "https://localhost:8080/",
          "height": 1000
        },
        "outputId": "8c18cbef-b44b-428e-e906-1481684610e3"
      },
      "execution_count": 49,
      "outputs": [
        {
          "output_type": "stream",
          "name": "stdout",
          "text": [
            "0\n",
            "--------- Atualizando a posição do veículo 86886--------------------------\n",
            "1\n",
            "--------- Atualizando a posição do veículo 44709--------------------------\n",
            "2\n",
            "--------- Atualizando a posição do veículo 90007--------------------------\n",
            "3\n",
            "--------- Atualizando a posição do veículo 86874--------------------------\n",
            "4\n",
            "--------- Atualizando a posição do veículo 30524--------------------------\n",
            "5\n",
            "--------- Atualizando a posição do veículo 13416--------------------------\n",
            "6\n",
            "--------- Atualizando a posição do veículo 90005--------------------------\n",
            "7\n",
            "--------- Atualizando a posição do veículo 30529--------------------------\n",
            "8\n",
            "--------- Atualizando a posição do veículo 12707--------------------------\n",
            "9\n",
            "--------- Atualizando a posição do veículo 30520--------------------------\n",
            "10\n",
            "--------- Atualizando a posição do veículo 13410--------------------------\n",
            "11\n",
            "--------- Atualizando a posição do veículo 12705--------------------------\n",
            "12\n",
            "--------- Atualizando a posição do veículo 47026--------------------------\n",
            "13\n",
            "--------- Atualizando a posição do veículo 86885--------------------------\n",
            "14\n",
            "--------- Atualizando a posição do veículo 12709--------------------------\n",
            "15\n",
            "--------- Atualizando a posição do veículo 86811--------------------------\n",
            "16\n",
            "--------- Atualizando a posição do veículo 47010--------------------------\n",
            "17\n",
            "--------- Atualizando a posição do veículo 13424--------------------------\n",
            "18\n",
            "--------- Atualizando a posição do veículo 86814--------------------------\n",
            "19\n",
            "--------- Atualizando a posição do veículo 30518--------------------------\n",
            "20\n",
            "--------- Atualizando a posição do veículo 13428--------------------------\n",
            "21\n",
            "--------- Atualizando a posição do veículo 30521--------------------------\n",
            "22\n",
            "--------- Atualizando a posição do veículo 86804--------------------------\n",
            "23\n",
            "--------- Atualizando a posição do veículo 30522--------------------------\n",
            "24\n",
            "--------- Atualizando a posição do veículo 27174--------------------------\n",
            "25\n",
            "--------- Atualizando a posição do veículo 13406--------------------------\n",
            "26\n",
            "--------- Atualizando a posição do veículo 12728--------------------------\n",
            "27\n",
            "--------- Atualizando a posição do veículo 13413--------------------------\n",
            "28\n",
            "--------- Atualizando a posição do veículo 12738--------------------------\n",
            "29\n",
            "--------- Atualizando a posição do veículo 13409--------------------------\n",
            "30\n",
            "--------- Atualizando a posição do veículo 47006--------------------------\n",
            "31\n",
            "--------- Atualizando a posição do veículo 44732--------------------------\n",
            "32\n",
            "--------- Atualizando a posição do veículo 12731--------------------------\n",
            "33\n",
            "--------- Atualizando a posição do veículo 13420--------------------------\n",
            "34\n",
            "--------- Atualizando a posição do veículo 30523--------------------------\n",
            "35\n",
            "--------- Atualizando a posição do veículo 30525--------------------------\n",
            "36\n",
            "--------- Atualizando a posição do veículo 12714--------------------------\n",
            "38\n",
            "--------- Atualizando a posição do veículo 27173--------------------------\n",
            "39\n",
            "--------- Atualizando a posição do veículo 13421--------------------------\n",
            "40\n",
            "--------- Atualizando a posição do veículo 12734--------------------------\n",
            "41\n",
            "--------- Atualizando a posição do veículo 47007--------------------------\n",
            "42\n",
            "--------- Atualizando a posição do veículo 13412--------------------------\n",
            "44\n",
            "--------- Atualizando a posição do veículo 30511--------------------------\n",
            "45\n",
            "--------- Atualizando a posição do veículo 50309--------------------------\n",
            "46\n",
            "--------- Atualizando a posição do veículo 86802--------------------------\n",
            "47\n",
            "--------- Atualizando a posição do veículo 30514--------------------------\n",
            "48\n",
            "--------- Atualizando a posição do veículo 12711--------------------------\n",
            "49\n",
            "--------- Atualizando a posição do veículo 12703--------------------------\n",
            "50\n",
            "--------- Atualizando a posição do veículo 13418--------------------------\n",
            "51\n",
            "--------- Atualizando a posição do veículo 86887--------------------------\n",
            "52\n",
            "--------- Atualizando a posição do veículo 90002--------------------------\n",
            "53\n",
            "--------- Atualizando a posição do veículo 90003--------------------------\n",
            "54\n",
            "--------- Atualizando a posição do veículo 30531--------------------------\n",
            "55\n",
            "--------- Atualizando a posição do veículo 47032--------------------------\n",
            "56\n",
            "--------- Atualizando a posição do veículo 13401--------------------------\n",
            "57\n",
            "--------- Atualizando a posição do veículo 30502--------------------------\n",
            "58\n",
            "--------- Atualizando a posição do veículo 27212--------------------------\n",
            "59\n",
            "--------- Atualizando a posição do veículo 44705--------------------------\n",
            "60\n",
            "--------- Atualizando a posição do veículo 27205--------------------------\n",
            "61\n",
            "--------- Atualizando a posição do veículo 47011--------------------------\n",
            "62\n",
            "--------- Atualizando a posição do veículo 10306--------------------------\n",
            "63\n",
            "--------- Atualizando a posição do veículo 27204--------------------------\n",
            "64\n",
            "--------- Atualizando a posição do veículo 47012--------------------------\n",
            "65\n",
            "--------- Atualizando a posição do veículo 12715--------------------------\n",
            "66\n",
            "--------- Atualizando a posição do veículo 13405--------------------------\n",
            "67\n",
            "--------- Atualizando a posição do veículo 13408--------------------------\n",
            "68\n",
            "--------- Atualizando a posição do veículo 47025--------------------------\n",
            "69\n",
            "--------- Atualizando a posição do veículo 86859--------------------------\n",
            "71\n",
            "--------- Atualizando a posição do veículo 44730--------------------------\n",
            "72\n",
            "--------- Atualizando a posição do veículo 47027--------------------------\n"
          ]
        },
        {
          "output_type": "execute_result",
          "data": {
            "text/plain": [
              "    longitude   latitude vei_nro_gestor  direcao  velocidade inicio_viagem  \\\n",
              "0  -43.416387 -22.988763          13405        1          41    1660590620   \n",
              "1  -43.240258 -22.835823          27205        0          43    1660595123   \n",
              "2  -43.407985 -22.865605          47025        1          58    1660595045   \n",
              "3  -43.399583 -22.883863          30511        1           0    1660585955   \n",
              "4  -43.418475 -23.001420          13416        1          12    1660597530   \n",
              "..        ...        ...            ...      ...         ...           ...   \n",
              "78 -43.583542 -22.999412          86804        2          39    1660597739   \n",
              "79 -43.365938 -23.000687          47009        2           0    1660597204   \n",
              "80 -43.388435 -22.959882          27204        0           0    1660597173   \n",
              "81 -43.365623 -23.001173          86850        5           0    1660596942   \n",
              "82 -43.417483 -23.000678          30522        5           0    1660596183   \n",
              "\n",
              "   linha                                          nomeLinha  \\\n",
              "0     51          VILA MILITAR X TERMINAL RECREIO (PARADOR)   \n",
              "1    42A                       GALEAO X MADUREIRA (PARADOR)   \n",
              "2     51          VILA MILITAR X TERMINAL RECREIO (PARADOR)   \n",
              "3    53A             TERMINAL SULACAP X ALVORADA (EXPRESSO)   \n",
              "4     18               RECREIO X JARDIM OCEÂNICO (EXPRESSO)   \n",
              "..   ...                                                ...   \n",
              "78    20           SANTA CRUZ X SALVADOR ALLENDE (EXPRESSO)   \n",
              "79   53A             TERMINAL SULACAP X ALVORADA (EXPRESSO)   \n",
              "80    41            MADUREIRA X TERMINAL RECREIO (EXPRESSO)   \n",
              "81    22  TERMINAL ALVORADA X TERMINAL JARDIM OCEÂNICO (...   \n",
              "82   25A                     MATO ALTO X ALVORADA (PARADOR)   \n",
              "\n",
              "                                       nomeItinerario comunicacao  \\\n",
              "0   ITI VOLTA - 51 VILA MILITAR X TERMINAL RECREIO...  1660597903   \n",
              "1        ITI VOLTA - 42A GALEAO X MADUREIRA (PARADOR)  1660597912   \n",
              "2   ITI VOLTA - 51 VILA MILITAR X TERMINAL RECREIO...  1660597903   \n",
              "3   ITI IDA - 53A TERMINAL SULACAP X ALVORADA (EXP...  1660597912   \n",
              "4                                         Iti Default  1660597898   \n",
              "..                                                ...         ...   \n",
              "78                                        Iti Default  1660597894   \n",
              "79  ITI IDA - 53A TERMINAL SULACAP X ALVORADA (EXP...  1660597271   \n",
              "80  ITI IDA - 41 MADUREIRA X TERMINAL RECREIO (EXP...  1660597913   \n",
              "81  ITI VOLTA -  22 TERMINAL ALVORADA X TERMINAL J...  1660597750   \n",
              "82     ITI VOLTA - 25A MATO ALTO X ALVORADA (PARADOR)  1660597896   \n",
              "\n",
              "                 coleta_atual  \n",
              "0  2022-08-15 21:12:09.364247  \n",
              "1  2022-08-15 21:12:09.364247  \n",
              "2  2022-08-15 21:12:09.364247  \n",
              "3  2022-08-15 21:12:09.364247  \n",
              "4  2022-08-15 21:12:09.364247  \n",
              "..                        ...  \n",
              "78 2022-08-15 21:12:09.364247  \n",
              "79 2022-08-15 21:09:22.252315  \n",
              "80 2022-08-15 21:12:09.364247  \n",
              "81 2022-08-15 21:09:22.252315  \n",
              "82 2022-08-15 21:12:09.364247  \n",
              "\n",
              "[83 rows x 11 columns]"
            ],
            "text/html": [
              "\n",
              "  <div id=\"df-124f9b3b-da00-4e15-90fd-9995e57d5988\">\n",
              "    <div class=\"colab-df-container\">\n",
              "      <div>\n",
              "<style scoped>\n",
              "    .dataframe tbody tr th:only-of-type {\n",
              "        vertical-align: middle;\n",
              "    }\n",
              "\n",
              "    .dataframe tbody tr th {\n",
              "        vertical-align: top;\n",
              "    }\n",
              "\n",
              "    .dataframe thead th {\n",
              "        text-align: right;\n",
              "    }\n",
              "</style>\n",
              "<table border=\"1\" class=\"dataframe\">\n",
              "  <thead>\n",
              "    <tr style=\"text-align: right;\">\n",
              "      <th></th>\n",
              "      <th>longitude</th>\n",
              "      <th>latitude</th>\n",
              "      <th>vei_nro_gestor</th>\n",
              "      <th>direcao</th>\n",
              "      <th>velocidade</th>\n",
              "      <th>inicio_viagem</th>\n",
              "      <th>linha</th>\n",
              "      <th>nomeLinha</th>\n",
              "      <th>nomeItinerario</th>\n",
              "      <th>comunicacao</th>\n",
              "      <th>coleta_atual</th>\n",
              "    </tr>\n",
              "  </thead>\n",
              "  <tbody>\n",
              "    <tr>\n",
              "      <th>0</th>\n",
              "      <td>-43.416387</td>\n",
              "      <td>-22.988763</td>\n",
              "      <td>13405</td>\n",
              "      <td>1</td>\n",
              "      <td>41</td>\n",
              "      <td>1660590620</td>\n",
              "      <td>51</td>\n",
              "      <td>VILA MILITAR X TERMINAL RECREIO (PARADOR)</td>\n",
              "      <td>ITI VOLTA - 51 VILA MILITAR X TERMINAL RECREIO...</td>\n",
              "      <td>1660597903</td>\n",
              "      <td>2022-08-15 21:12:09.364247</td>\n",
              "    </tr>\n",
              "    <tr>\n",
              "      <th>1</th>\n",
              "      <td>-43.240258</td>\n",
              "      <td>-22.835823</td>\n",
              "      <td>27205</td>\n",
              "      <td>0</td>\n",
              "      <td>43</td>\n",
              "      <td>1660595123</td>\n",
              "      <td>42A</td>\n",
              "      <td>GALEAO X MADUREIRA (PARADOR)</td>\n",
              "      <td>ITI VOLTA - 42A GALEAO X MADUREIRA (PARADOR)</td>\n",
              "      <td>1660597912</td>\n",
              "      <td>2022-08-15 21:12:09.364247</td>\n",
              "    </tr>\n",
              "    <tr>\n",
              "      <th>2</th>\n",
              "      <td>-43.407985</td>\n",
              "      <td>-22.865605</td>\n",
              "      <td>47025</td>\n",
              "      <td>1</td>\n",
              "      <td>58</td>\n",
              "      <td>1660595045</td>\n",
              "      <td>51</td>\n",
              "      <td>VILA MILITAR X TERMINAL RECREIO (PARADOR)</td>\n",
              "      <td>ITI VOLTA - 51 VILA MILITAR X TERMINAL RECREIO...</td>\n",
              "      <td>1660597903</td>\n",
              "      <td>2022-08-15 21:12:09.364247</td>\n",
              "    </tr>\n",
              "    <tr>\n",
              "      <th>3</th>\n",
              "      <td>-43.399583</td>\n",
              "      <td>-22.883863</td>\n",
              "      <td>30511</td>\n",
              "      <td>1</td>\n",
              "      <td>0</td>\n",
              "      <td>1660585955</td>\n",
              "      <td>53A</td>\n",
              "      <td>TERMINAL SULACAP X ALVORADA (EXPRESSO)</td>\n",
              "      <td>ITI IDA - 53A TERMINAL SULACAP X ALVORADA (EXP...</td>\n",
              "      <td>1660597912</td>\n",
              "      <td>2022-08-15 21:12:09.364247</td>\n",
              "    </tr>\n",
              "    <tr>\n",
              "      <th>4</th>\n",
              "      <td>-43.418475</td>\n",
              "      <td>-23.001420</td>\n",
              "      <td>13416</td>\n",
              "      <td>1</td>\n",
              "      <td>12</td>\n",
              "      <td>1660597530</td>\n",
              "      <td>18</td>\n",
              "      <td>RECREIO X JARDIM OCEÂNICO (EXPRESSO)</td>\n",
              "      <td>Iti Default</td>\n",
              "      <td>1660597898</td>\n",
              "      <td>2022-08-15 21:12:09.364247</td>\n",
              "    </tr>\n",
              "    <tr>\n",
              "      <th>...</th>\n",
              "      <td>...</td>\n",
              "      <td>...</td>\n",
              "      <td>...</td>\n",
              "      <td>...</td>\n",
              "      <td>...</td>\n",
              "      <td>...</td>\n",
              "      <td>...</td>\n",
              "      <td>...</td>\n",
              "      <td>...</td>\n",
              "      <td>...</td>\n",
              "      <td>...</td>\n",
              "    </tr>\n",
              "    <tr>\n",
              "      <th>78</th>\n",
              "      <td>-43.583542</td>\n",
              "      <td>-22.999412</td>\n",
              "      <td>86804</td>\n",
              "      <td>2</td>\n",
              "      <td>39</td>\n",
              "      <td>1660597739</td>\n",
              "      <td>20</td>\n",
              "      <td>SANTA CRUZ X SALVADOR ALLENDE (EXPRESSO)</td>\n",
              "      <td>Iti Default</td>\n",
              "      <td>1660597894</td>\n",
              "      <td>2022-08-15 21:12:09.364247</td>\n",
              "    </tr>\n",
              "    <tr>\n",
              "      <th>79</th>\n",
              "      <td>-43.365938</td>\n",
              "      <td>-23.000687</td>\n",
              "      <td>47009</td>\n",
              "      <td>2</td>\n",
              "      <td>0</td>\n",
              "      <td>1660597204</td>\n",
              "      <td>53A</td>\n",
              "      <td>TERMINAL SULACAP X ALVORADA (EXPRESSO)</td>\n",
              "      <td>ITI IDA - 53A TERMINAL SULACAP X ALVORADA (EXP...</td>\n",
              "      <td>1660597271</td>\n",
              "      <td>2022-08-15 21:09:22.252315</td>\n",
              "    </tr>\n",
              "    <tr>\n",
              "      <th>80</th>\n",
              "      <td>-43.388435</td>\n",
              "      <td>-22.959882</td>\n",
              "      <td>27204</td>\n",
              "      <td>0</td>\n",
              "      <td>0</td>\n",
              "      <td>1660597173</td>\n",
              "      <td>41</td>\n",
              "      <td>MADUREIRA X TERMINAL RECREIO (EXPRESSO)</td>\n",
              "      <td>ITI IDA - 41 MADUREIRA X TERMINAL RECREIO (EXP...</td>\n",
              "      <td>1660597913</td>\n",
              "      <td>2022-08-15 21:12:09.364247</td>\n",
              "    </tr>\n",
              "    <tr>\n",
              "      <th>81</th>\n",
              "      <td>-43.365623</td>\n",
              "      <td>-23.001173</td>\n",
              "      <td>86850</td>\n",
              "      <td>5</td>\n",
              "      <td>0</td>\n",
              "      <td>1660596942</td>\n",
              "      <td>22</td>\n",
              "      <td>TERMINAL ALVORADA X TERMINAL JARDIM OCEÂNICO (...</td>\n",
              "      <td>ITI VOLTA -  22 TERMINAL ALVORADA X TERMINAL J...</td>\n",
              "      <td>1660597750</td>\n",
              "      <td>2022-08-15 21:09:22.252315</td>\n",
              "    </tr>\n",
              "    <tr>\n",
              "      <th>82</th>\n",
              "      <td>-43.417483</td>\n",
              "      <td>-23.000678</td>\n",
              "      <td>30522</td>\n",
              "      <td>5</td>\n",
              "      <td>0</td>\n",
              "      <td>1660596183</td>\n",
              "      <td>25A</td>\n",
              "      <td>MATO ALTO X ALVORADA (PARADOR)</td>\n",
              "      <td>ITI VOLTA - 25A MATO ALTO X ALVORADA (PARADOR)</td>\n",
              "      <td>1660597896</td>\n",
              "      <td>2022-08-15 21:12:09.364247</td>\n",
              "    </tr>\n",
              "  </tbody>\n",
              "</table>\n",
              "<p>83 rows × 11 columns</p>\n",
              "</div>\n",
              "      <button class=\"colab-df-convert\" onclick=\"convertToInteractive('df-124f9b3b-da00-4e15-90fd-9995e57d5988')\"\n",
              "              title=\"Convert this dataframe to an interactive table.\"\n",
              "              style=\"display:none;\">\n",
              "        \n",
              "  <svg xmlns=\"http://www.w3.org/2000/svg\" height=\"24px\"viewBox=\"0 0 24 24\"\n",
              "       width=\"24px\">\n",
              "    <path d=\"M0 0h24v24H0V0z\" fill=\"none\"/>\n",
              "    <path d=\"M18.56 5.44l.94 2.06.94-2.06 2.06-.94-2.06-.94-.94-2.06-.94 2.06-2.06.94zm-11 1L8.5 8.5l.94-2.06 2.06-.94-2.06-.94L8.5 2.5l-.94 2.06-2.06.94zm10 10l.94 2.06.94-2.06 2.06-.94-2.06-.94-.94-2.06-.94 2.06-2.06.94z\"/><path d=\"M17.41 7.96l-1.37-1.37c-.4-.4-.92-.59-1.43-.59-.52 0-1.04.2-1.43.59L10.3 9.45l-7.72 7.72c-.78.78-.78 2.05 0 2.83L4 21.41c.39.39.9.59 1.41.59.51 0 1.02-.2 1.41-.59l7.78-7.78 2.81-2.81c.8-.78.8-2.07 0-2.86zM5.41 20L4 18.59l7.72-7.72 1.47 1.35L5.41 20z\"/>\n",
              "  </svg>\n",
              "      </button>\n",
              "      \n",
              "  <style>\n",
              "    .colab-df-container {\n",
              "      display:flex;\n",
              "      flex-wrap:wrap;\n",
              "      gap: 12px;\n",
              "    }\n",
              "\n",
              "    .colab-df-convert {\n",
              "      background-color: #E8F0FE;\n",
              "      border: none;\n",
              "      border-radius: 50%;\n",
              "      cursor: pointer;\n",
              "      display: none;\n",
              "      fill: #1967D2;\n",
              "      height: 32px;\n",
              "      padding: 0 0 0 0;\n",
              "      width: 32px;\n",
              "    }\n",
              "\n",
              "    .colab-df-convert:hover {\n",
              "      background-color: #E2EBFA;\n",
              "      box-shadow: 0px 1px 2px rgba(60, 64, 67, 0.3), 0px 1px 3px 1px rgba(60, 64, 67, 0.15);\n",
              "      fill: #174EA6;\n",
              "    }\n",
              "\n",
              "    [theme=dark] .colab-df-convert {\n",
              "      background-color: #3B4455;\n",
              "      fill: #D2E3FC;\n",
              "    }\n",
              "\n",
              "    [theme=dark] .colab-df-convert:hover {\n",
              "      background-color: #434B5C;\n",
              "      box-shadow: 0px 1px 3px 1px rgba(0, 0, 0, 0.15);\n",
              "      filter: drop-shadow(0px 1px 2px rgba(0, 0, 0, 0.3));\n",
              "      fill: #FFFFFF;\n",
              "    }\n",
              "  </style>\n",
              "\n",
              "      <script>\n",
              "        const buttonEl =\n",
              "          document.querySelector('#df-124f9b3b-da00-4e15-90fd-9995e57d5988 button.colab-df-convert');\n",
              "        buttonEl.style.display =\n",
              "          google.colab.kernel.accessAllowed ? 'block' : 'none';\n",
              "\n",
              "        async function convertToInteractive(key) {\n",
              "          const element = document.querySelector('#df-124f9b3b-da00-4e15-90fd-9995e57d5988');\n",
              "          const dataTable =\n",
              "            await google.colab.kernel.invokeFunction('convertToInteractive',\n",
              "                                                     [key], {});\n",
              "          if (!dataTable) return;\n",
              "\n",
              "          const docLinkHtml = 'Like what you see? Visit the ' +\n",
              "            '<a target=\"_blank\" href=https://colab.research.google.com/notebooks/data_table.ipynb>data table notebook</a>'\n",
              "            + ' to learn more about interactive tables.';\n",
              "          element.innerHTML = '';\n",
              "          dataTable['output_type'] = 'display_data';\n",
              "          await google.colab.output.renderOutput(dataTable, element);\n",
              "          const docLink = document.createElement('div');\n",
              "          docLink.innerHTML = docLinkHtml;\n",
              "          element.appendChild(docLink);\n",
              "        }\n",
              "      </script>\n",
              "    </div>\n",
              "  </div>\n",
              "  "
            ]
          },
          "metadata": {},
          "execution_count": 49
        }
      ]
    },
    {
      "cell_type": "code",
      "source": [
        "data"
      ],
      "metadata": {
        "colab": {
          "base_uri": "https://localhost:8080/"
        },
        "id": "DguZMFeYF5M8",
        "outputId": "6bccd269-f986-4944-d1e3-e508d17462f2"
      },
      "execution_count": 7,
      "outputs": [
        {
          "output_type": "execute_result",
          "data": {
            "text/plain": [
              "(68, 11)"
            ]
          },
          "metadata": {},
          "execution_count": 7
        }
      ]
    },
    {
      "cell_type": "code",
      "source": [
        "data.loc[data['vei_nro_gestor']==data2['vei_nro_gestor'][idx], data2.loc[data2['vei_nro_gestor']==data2['vei_nro_gestor'][idx]]]"
      ],
      "metadata": {
        "colab": {
          "base_uri": "https://localhost:8080/",
          "height": 312
        },
        "id": "z3ri2M5TzxvO",
        "outputId": "d7c5acda-5c4d-42e0-9f4b-eada713047f0"
      },
      "execution_count": null,
      "outputs": [
        {
          "output_type": "error",
          "ename": "ValueError",
          "evalue": "ignored",
          "traceback": [
            "\u001b[0;31m---------------------------------------------------------------------------\u001b[0m",
            "\u001b[0;31mValueError\u001b[0m                                Traceback (most recent call last)",
            "\u001b[0;32m<ipython-input-249-d7af3e575c66>\u001b[0m in \u001b[0;36m<module>\u001b[0;34m()\u001b[0m\n\u001b[0;32m----> 1\u001b[0;31m \u001b[0mdata\u001b[0m\u001b[0;34m.\u001b[0m\u001b[0mloc\u001b[0m\u001b[0;34m[\u001b[0m\u001b[0mdata\u001b[0m\u001b[0;34m[\u001b[0m\u001b[0;34m'vei_nro_gestor'\u001b[0m\u001b[0;34m]\u001b[0m\u001b[0;34m==\u001b[0m\u001b[0mdata2\u001b[0m\u001b[0;34m[\u001b[0m\u001b[0;34m'vei_nro_gestor'\u001b[0m\u001b[0;34m]\u001b[0m\u001b[0;34m[\u001b[0m\u001b[0midx\u001b[0m\u001b[0;34m]\u001b[0m\u001b[0;34m,\u001b[0m \u001b[0mdata2\u001b[0m\u001b[0;34m.\u001b[0m\u001b[0mloc\u001b[0m\u001b[0;34m[\u001b[0m\u001b[0mdata2\u001b[0m\u001b[0;34m[\u001b[0m\u001b[0;34m'vei_nro_gestor'\u001b[0m\u001b[0;34m]\u001b[0m\u001b[0;34m==\u001b[0m\u001b[0mdata2\u001b[0m\u001b[0;34m[\u001b[0m\u001b[0;34m'vei_nro_gestor'\u001b[0m\u001b[0;34m]\u001b[0m\u001b[0;34m[\u001b[0m\u001b[0midx\u001b[0m\u001b[0;34m]\u001b[0m\u001b[0;34m]\u001b[0m\u001b[0;34m]\u001b[0m\u001b[0;34m\u001b[0m\u001b[0;34m\u001b[0m\u001b[0m\n\u001b[0m",
            "\u001b[0;32m/usr/local/lib/python3.7/dist-packages/pandas/core/indexing.py\u001b[0m in \u001b[0;36m__getitem__\u001b[0;34m(self, key)\u001b[0m\n\u001b[1;32m    923\u001b[0m                 \u001b[0;32mwith\u001b[0m \u001b[0msuppress\u001b[0m\u001b[0;34m(\u001b[0m\u001b[0mKeyError\u001b[0m\u001b[0;34m,\u001b[0m \u001b[0mIndexError\u001b[0m\u001b[0;34m)\u001b[0m\u001b[0;34m:\u001b[0m\u001b[0;34m\u001b[0m\u001b[0;34m\u001b[0m\u001b[0m\n\u001b[1;32m    924\u001b[0m                     \u001b[0;32mreturn\u001b[0m \u001b[0mself\u001b[0m\u001b[0;34m.\u001b[0m\u001b[0mobj\u001b[0m\u001b[0;34m.\u001b[0m\u001b[0m_get_value\u001b[0m\u001b[0;34m(\u001b[0m\u001b[0;34m*\u001b[0m\u001b[0mkey\u001b[0m\u001b[0;34m,\u001b[0m \u001b[0mtakeable\u001b[0m\u001b[0;34m=\u001b[0m\u001b[0mself\u001b[0m\u001b[0;34m.\u001b[0m\u001b[0m_takeable\u001b[0m\u001b[0;34m)\u001b[0m\u001b[0;34m\u001b[0m\u001b[0;34m\u001b[0m\u001b[0m\n\u001b[0;32m--> 925\u001b[0;31m             \u001b[0;32mreturn\u001b[0m \u001b[0mself\u001b[0m\u001b[0;34m.\u001b[0m\u001b[0m_getitem_tuple\u001b[0m\u001b[0;34m(\u001b[0m\u001b[0mkey\u001b[0m\u001b[0;34m)\u001b[0m\u001b[0;34m\u001b[0m\u001b[0;34m\u001b[0m\u001b[0m\n\u001b[0m\u001b[1;32m    926\u001b[0m         \u001b[0;32melse\u001b[0m\u001b[0;34m:\u001b[0m\u001b[0;34m\u001b[0m\u001b[0;34m\u001b[0m\u001b[0m\n\u001b[1;32m    927\u001b[0m             \u001b[0;31m# we by definition only have the 0th axis\u001b[0m\u001b[0;34m\u001b[0m\u001b[0;34m\u001b[0m\u001b[0;34m\u001b[0m\u001b[0m\n",
            "\u001b[0;32m/usr/local/lib/python3.7/dist-packages/pandas/core/indexing.py\u001b[0m in \u001b[0;36m_getitem_tuple\u001b[0;34m(self, tup)\u001b[0m\n\u001b[1;32m   1107\u001b[0m             \u001b[0;32mreturn\u001b[0m \u001b[0mself\u001b[0m\u001b[0;34m.\u001b[0m\u001b[0m_multi_take\u001b[0m\u001b[0;34m(\u001b[0m\u001b[0mtup\u001b[0m\u001b[0;34m)\u001b[0m\u001b[0;34m\u001b[0m\u001b[0;34m\u001b[0m\u001b[0m\n\u001b[1;32m   1108\u001b[0m \u001b[0;34m\u001b[0m\u001b[0m\n\u001b[0;32m-> 1109\u001b[0;31m         \u001b[0;32mreturn\u001b[0m \u001b[0mself\u001b[0m\u001b[0;34m.\u001b[0m\u001b[0m_getitem_tuple_same_dim\u001b[0m\u001b[0;34m(\u001b[0m\u001b[0mtup\u001b[0m\u001b[0;34m)\u001b[0m\u001b[0;34m\u001b[0m\u001b[0;34m\u001b[0m\u001b[0m\n\u001b[0m\u001b[1;32m   1110\u001b[0m \u001b[0;34m\u001b[0m\u001b[0m\n\u001b[1;32m   1111\u001b[0m     \u001b[0;32mdef\u001b[0m \u001b[0m_get_label\u001b[0m\u001b[0;34m(\u001b[0m\u001b[0mself\u001b[0m\u001b[0;34m,\u001b[0m \u001b[0mlabel\u001b[0m\u001b[0;34m,\u001b[0m \u001b[0maxis\u001b[0m\u001b[0;34m:\u001b[0m \u001b[0mint\u001b[0m\u001b[0;34m)\u001b[0m\u001b[0;34m:\u001b[0m\u001b[0;34m\u001b[0m\u001b[0;34m\u001b[0m\u001b[0m\n",
            "\u001b[0;32m/usr/local/lib/python3.7/dist-packages/pandas/core/indexing.py\u001b[0m in \u001b[0;36m_getitem_tuple_same_dim\u001b[0;34m(self, tup)\u001b[0m\n\u001b[1;32m    804\u001b[0m                 \u001b[0;32mcontinue\u001b[0m\u001b[0;34m\u001b[0m\u001b[0;34m\u001b[0m\u001b[0m\n\u001b[1;32m    805\u001b[0m \u001b[0;34m\u001b[0m\u001b[0m\n\u001b[0;32m--> 806\u001b[0;31m             \u001b[0mretval\u001b[0m \u001b[0;34m=\u001b[0m \u001b[0mgetattr\u001b[0m\u001b[0;34m(\u001b[0m\u001b[0mretval\u001b[0m\u001b[0;34m,\u001b[0m \u001b[0mself\u001b[0m\u001b[0;34m.\u001b[0m\u001b[0mname\u001b[0m\u001b[0;34m)\u001b[0m\u001b[0;34m.\u001b[0m\u001b[0m_getitem_axis\u001b[0m\u001b[0;34m(\u001b[0m\u001b[0mkey\u001b[0m\u001b[0;34m,\u001b[0m \u001b[0maxis\u001b[0m\u001b[0;34m=\u001b[0m\u001b[0mi\u001b[0m\u001b[0;34m)\u001b[0m\u001b[0;34m\u001b[0m\u001b[0;34m\u001b[0m\u001b[0m\n\u001b[0m\u001b[1;32m    807\u001b[0m             \u001b[0;31m# We should never have retval.ndim < self.ndim, as that should\u001b[0m\u001b[0;34m\u001b[0m\u001b[0;34m\u001b[0m\u001b[0;34m\u001b[0m\u001b[0m\n\u001b[1;32m    808\u001b[0m             \u001b[0;31m#  be handled by the _getitem_lowerdim call above.\u001b[0m\u001b[0;34m\u001b[0m\u001b[0;34m\u001b[0m\u001b[0;34m\u001b[0m\u001b[0m\n",
            "\u001b[0;32m/usr/local/lib/python3.7/dist-packages/pandas/core/indexing.py\u001b[0m in \u001b[0;36m_getitem_axis\u001b[0;34m(self, key, axis)\u001b[0m\n\u001b[1;32m   1149\u001b[0m \u001b[0;34m\u001b[0m\u001b[0m\n\u001b[1;32m   1150\u001b[0m                 \u001b[0;32mif\u001b[0m \u001b[0mhasattr\u001b[0m\u001b[0;34m(\u001b[0m\u001b[0mkey\u001b[0m\u001b[0;34m,\u001b[0m \u001b[0;34m\"ndim\"\u001b[0m\u001b[0;34m)\u001b[0m \u001b[0;32mand\u001b[0m \u001b[0mkey\u001b[0m\u001b[0;34m.\u001b[0m\u001b[0mndim\u001b[0m \u001b[0;34m>\u001b[0m \u001b[0;36m1\u001b[0m\u001b[0;34m:\u001b[0m\u001b[0;34m\u001b[0m\u001b[0;34m\u001b[0m\u001b[0m\n\u001b[0;32m-> 1151\u001b[0;31m                     \u001b[0;32mraise\u001b[0m \u001b[0mValueError\u001b[0m\u001b[0;34m(\u001b[0m\u001b[0;34m\"Cannot index with multidimensional key\"\u001b[0m\u001b[0;34m)\u001b[0m\u001b[0;34m\u001b[0m\u001b[0;34m\u001b[0m\u001b[0m\n\u001b[0m\u001b[1;32m   1152\u001b[0m \u001b[0;34m\u001b[0m\u001b[0m\n\u001b[1;32m   1153\u001b[0m                 \u001b[0;32mreturn\u001b[0m \u001b[0mself\u001b[0m\u001b[0;34m.\u001b[0m\u001b[0m_getitem_iterable\u001b[0m\u001b[0;34m(\u001b[0m\u001b[0mkey\u001b[0m\u001b[0;34m,\u001b[0m \u001b[0maxis\u001b[0m\u001b[0;34m=\u001b[0m\u001b[0maxis\u001b[0m\u001b[0;34m)\u001b[0m\u001b[0;34m\u001b[0m\u001b[0;34m\u001b[0m\u001b[0m\n",
            "\u001b[0;31mValueError\u001b[0m: Cannot index with multidimensional key"
          ]
        }
      ]
    },
    {
      "cell_type": "code",
      "source": [
        "data2.loc[data2['vei_nro_gestor']==data2['vei_nro_gestor'][idx]]"
      ],
      "metadata": {
        "colab": {
          "base_uri": "https://localhost:8080/",
          "height": 177
        },
        "id": "KI4asl2d2PeT",
        "outputId": "6b44bffd-b372-48a8-822f-86b67df95117"
      },
      "execution_count": null,
      "outputs": [
        {
          "output_type": "execute_result",
          "data": {
            "text/plain": [
              "    longitude   latitude vei_nro_gestor  direcao  velocidade inicio_viagem  \\\n",
              "44 -43.345247 -22.887632          47023        4           0    1660504407   \n",
              "\n",
              "   linha                       nomeLinha  \\\n",
              "44    35  MADUREIRA X ALVORADA (PARADOR)   \n",
              "\n",
              "                                 nomeItinerario comunicacao  \\\n",
              "44  ITI IDA - 35 MADUREIRA X ALVORADA (PARADOR)  1660506399   \n",
              "\n",
              "                 coleta_atual  \n",
              "44 2022-08-14 19:46:51.019601  "
            ],
            "text/html": [
              "\n",
              "  <div id=\"df-96f6520b-f395-4e19-9193-562e56d56b30\">\n",
              "    <div class=\"colab-df-container\">\n",
              "      <div>\n",
              "<style scoped>\n",
              "    .dataframe tbody tr th:only-of-type {\n",
              "        vertical-align: middle;\n",
              "    }\n",
              "\n",
              "    .dataframe tbody tr th {\n",
              "        vertical-align: top;\n",
              "    }\n",
              "\n",
              "    .dataframe thead th {\n",
              "        text-align: right;\n",
              "    }\n",
              "</style>\n",
              "<table border=\"1\" class=\"dataframe\">\n",
              "  <thead>\n",
              "    <tr style=\"text-align: right;\">\n",
              "      <th></th>\n",
              "      <th>longitude</th>\n",
              "      <th>latitude</th>\n",
              "      <th>vei_nro_gestor</th>\n",
              "      <th>direcao</th>\n",
              "      <th>velocidade</th>\n",
              "      <th>inicio_viagem</th>\n",
              "      <th>linha</th>\n",
              "      <th>nomeLinha</th>\n",
              "      <th>nomeItinerario</th>\n",
              "      <th>comunicacao</th>\n",
              "      <th>coleta_atual</th>\n",
              "    </tr>\n",
              "  </thead>\n",
              "  <tbody>\n",
              "    <tr>\n",
              "      <th>44</th>\n",
              "      <td>-43.345247</td>\n",
              "      <td>-22.887632</td>\n",
              "      <td>47023</td>\n",
              "      <td>4</td>\n",
              "      <td>0</td>\n",
              "      <td>1660504407</td>\n",
              "      <td>35</td>\n",
              "      <td>MADUREIRA X ALVORADA (PARADOR)</td>\n",
              "      <td>ITI IDA - 35 MADUREIRA X ALVORADA (PARADOR)</td>\n",
              "      <td>1660506399</td>\n",
              "      <td>2022-08-14 19:46:51.019601</td>\n",
              "    </tr>\n",
              "  </tbody>\n",
              "</table>\n",
              "</div>\n",
              "      <button class=\"colab-df-convert\" onclick=\"convertToInteractive('df-96f6520b-f395-4e19-9193-562e56d56b30')\"\n",
              "              title=\"Convert this dataframe to an interactive table.\"\n",
              "              style=\"display:none;\">\n",
              "        \n",
              "  <svg xmlns=\"http://www.w3.org/2000/svg\" height=\"24px\"viewBox=\"0 0 24 24\"\n",
              "       width=\"24px\">\n",
              "    <path d=\"M0 0h24v24H0V0z\" fill=\"none\"/>\n",
              "    <path d=\"M18.56 5.44l.94 2.06.94-2.06 2.06-.94-2.06-.94-.94-2.06-.94 2.06-2.06.94zm-11 1L8.5 8.5l.94-2.06 2.06-.94-2.06-.94L8.5 2.5l-.94 2.06-2.06.94zm10 10l.94 2.06.94-2.06 2.06-.94-2.06-.94-.94-2.06-.94 2.06-2.06.94z\"/><path d=\"M17.41 7.96l-1.37-1.37c-.4-.4-.92-.59-1.43-.59-.52 0-1.04.2-1.43.59L10.3 9.45l-7.72 7.72c-.78.78-.78 2.05 0 2.83L4 21.41c.39.39.9.59 1.41.59.51 0 1.02-.2 1.41-.59l7.78-7.78 2.81-2.81c.8-.78.8-2.07 0-2.86zM5.41 20L4 18.59l7.72-7.72 1.47 1.35L5.41 20z\"/>\n",
              "  </svg>\n",
              "      </button>\n",
              "      \n",
              "  <style>\n",
              "    .colab-df-container {\n",
              "      display:flex;\n",
              "      flex-wrap:wrap;\n",
              "      gap: 12px;\n",
              "    }\n",
              "\n",
              "    .colab-df-convert {\n",
              "      background-color: #E8F0FE;\n",
              "      border: none;\n",
              "      border-radius: 50%;\n",
              "      cursor: pointer;\n",
              "      display: none;\n",
              "      fill: #1967D2;\n",
              "      height: 32px;\n",
              "      padding: 0 0 0 0;\n",
              "      width: 32px;\n",
              "    }\n",
              "\n",
              "    .colab-df-convert:hover {\n",
              "      background-color: #E2EBFA;\n",
              "      box-shadow: 0px 1px 2px rgba(60, 64, 67, 0.3), 0px 1px 3px 1px rgba(60, 64, 67, 0.15);\n",
              "      fill: #174EA6;\n",
              "    }\n",
              "\n",
              "    [theme=dark] .colab-df-convert {\n",
              "      background-color: #3B4455;\n",
              "      fill: #D2E3FC;\n",
              "    }\n",
              "\n",
              "    [theme=dark] .colab-df-convert:hover {\n",
              "      background-color: #434B5C;\n",
              "      box-shadow: 0px 1px 3px 1px rgba(0, 0, 0, 0.15);\n",
              "      filter: drop-shadow(0px 1px 2px rgba(0, 0, 0, 0.3));\n",
              "      fill: #FFFFFF;\n",
              "    }\n",
              "  </style>\n",
              "\n",
              "      <script>\n",
              "        const buttonEl =\n",
              "          document.querySelector('#df-96f6520b-f395-4e19-9193-562e56d56b30 button.colab-df-convert');\n",
              "        buttonEl.style.display =\n",
              "          google.colab.kernel.accessAllowed ? 'block' : 'none';\n",
              "\n",
              "        async function convertToInteractive(key) {\n",
              "          const element = document.querySelector('#df-96f6520b-f395-4e19-9193-562e56d56b30');\n",
              "          const dataTable =\n",
              "            await google.colab.kernel.invokeFunction('convertToInteractive',\n",
              "                                                     [key], {});\n",
              "          if (!dataTable) return;\n",
              "\n",
              "          const docLinkHtml = 'Like what you see? Visit the ' +\n",
              "            '<a target=\"_blank\" href=https://colab.research.google.com/notebooks/data_table.ipynb>data table notebook</a>'\n",
              "            + ' to learn more about interactive tables.';\n",
              "          element.innerHTML = '';\n",
              "          dataTable['output_type'] = 'display_data';\n",
              "          await google.colab.output.renderOutput(dataTable, element);\n",
              "          const docLink = document.createElement('div');\n",
              "          docLink.innerHTML = docLinkHtml;\n",
              "          element.appendChild(docLink);\n",
              "        }\n",
              "      </script>\n",
              "    </div>\n",
              "  </div>\n",
              "  "
            ]
          },
          "metadata": {},
          "execution_count": 248
        }
      ]
    },
    {
      "cell_type": "code",
      "source": [
        "data.loc[13] = data2.loc[44]"
      ],
      "metadata": {
        "id": "JfP812v00wGG"
      },
      "execution_count": null,
      "outputs": []
    },
    {
      "cell_type": "code",
      "source": [
        "#data.loc[data['vei_nro_gestor']==data2['vei_nro_gestor'][idx]] = \n",
        "data2.loc[data2['vei_nro_gestor']==data2['vei_nro_gestor'][idx]]"
      ],
      "metadata": {
        "colab": {
          "base_uri": "https://localhost:8080/",
          "height": 177
        },
        "id": "XmdYSxwd0DJh",
        "outputId": "c6d60dc2-ed25-4bb6-c4f8-6b2e259dc831"
      },
      "execution_count": null,
      "outputs": [
        {
          "output_type": "execute_result",
          "data": {
            "text/plain": [
              "    longitude   latitude vei_nro_gestor  direcao  velocidade inicio_viagem  \\\n",
              "44 -43.345247 -22.887632          47023        4           0    1660504407   \n",
              "\n",
              "   linha                       nomeLinha  \\\n",
              "44    35  MADUREIRA X ALVORADA (PARADOR)   \n",
              "\n",
              "                                 nomeItinerario comunicacao  \\\n",
              "44  ITI IDA - 35 MADUREIRA X ALVORADA (PARADOR)  1660506399   \n",
              "\n",
              "                 coleta_atual  \n",
              "44 2022-08-14 19:46:51.019601  "
            ],
            "text/html": [
              "\n",
              "  <div id=\"df-cc39ca98-5879-4314-a601-5618c48de78c\">\n",
              "    <div class=\"colab-df-container\">\n",
              "      <div>\n",
              "<style scoped>\n",
              "    .dataframe tbody tr th:only-of-type {\n",
              "        vertical-align: middle;\n",
              "    }\n",
              "\n",
              "    .dataframe tbody tr th {\n",
              "        vertical-align: top;\n",
              "    }\n",
              "\n",
              "    .dataframe thead th {\n",
              "        text-align: right;\n",
              "    }\n",
              "</style>\n",
              "<table border=\"1\" class=\"dataframe\">\n",
              "  <thead>\n",
              "    <tr style=\"text-align: right;\">\n",
              "      <th></th>\n",
              "      <th>longitude</th>\n",
              "      <th>latitude</th>\n",
              "      <th>vei_nro_gestor</th>\n",
              "      <th>direcao</th>\n",
              "      <th>velocidade</th>\n",
              "      <th>inicio_viagem</th>\n",
              "      <th>linha</th>\n",
              "      <th>nomeLinha</th>\n",
              "      <th>nomeItinerario</th>\n",
              "      <th>comunicacao</th>\n",
              "      <th>coleta_atual</th>\n",
              "    </tr>\n",
              "  </thead>\n",
              "  <tbody>\n",
              "    <tr>\n",
              "      <th>44</th>\n",
              "      <td>-43.345247</td>\n",
              "      <td>-22.887632</td>\n",
              "      <td>47023</td>\n",
              "      <td>4</td>\n",
              "      <td>0</td>\n",
              "      <td>1660504407</td>\n",
              "      <td>35</td>\n",
              "      <td>MADUREIRA X ALVORADA (PARADOR)</td>\n",
              "      <td>ITI IDA - 35 MADUREIRA X ALVORADA (PARADOR)</td>\n",
              "      <td>1660506399</td>\n",
              "      <td>2022-08-14 19:46:51.019601</td>\n",
              "    </tr>\n",
              "  </tbody>\n",
              "</table>\n",
              "</div>\n",
              "      <button class=\"colab-df-convert\" onclick=\"convertToInteractive('df-cc39ca98-5879-4314-a601-5618c48de78c')\"\n",
              "              title=\"Convert this dataframe to an interactive table.\"\n",
              "              style=\"display:none;\">\n",
              "        \n",
              "  <svg xmlns=\"http://www.w3.org/2000/svg\" height=\"24px\"viewBox=\"0 0 24 24\"\n",
              "       width=\"24px\">\n",
              "    <path d=\"M0 0h24v24H0V0z\" fill=\"none\"/>\n",
              "    <path d=\"M18.56 5.44l.94 2.06.94-2.06 2.06-.94-2.06-.94-.94-2.06-.94 2.06-2.06.94zm-11 1L8.5 8.5l.94-2.06 2.06-.94-2.06-.94L8.5 2.5l-.94 2.06-2.06.94zm10 10l.94 2.06.94-2.06 2.06-.94-2.06-.94-.94-2.06-.94 2.06-2.06.94z\"/><path d=\"M17.41 7.96l-1.37-1.37c-.4-.4-.92-.59-1.43-.59-.52 0-1.04.2-1.43.59L10.3 9.45l-7.72 7.72c-.78.78-.78 2.05 0 2.83L4 21.41c.39.39.9.59 1.41.59.51 0 1.02-.2 1.41-.59l7.78-7.78 2.81-2.81c.8-.78.8-2.07 0-2.86zM5.41 20L4 18.59l7.72-7.72 1.47 1.35L5.41 20z\"/>\n",
              "  </svg>\n",
              "      </button>\n",
              "      \n",
              "  <style>\n",
              "    .colab-df-container {\n",
              "      display:flex;\n",
              "      flex-wrap:wrap;\n",
              "      gap: 12px;\n",
              "    }\n",
              "\n",
              "    .colab-df-convert {\n",
              "      background-color: #E8F0FE;\n",
              "      border: none;\n",
              "      border-radius: 50%;\n",
              "      cursor: pointer;\n",
              "      display: none;\n",
              "      fill: #1967D2;\n",
              "      height: 32px;\n",
              "      padding: 0 0 0 0;\n",
              "      width: 32px;\n",
              "    }\n",
              "\n",
              "    .colab-df-convert:hover {\n",
              "      background-color: #E2EBFA;\n",
              "      box-shadow: 0px 1px 2px rgba(60, 64, 67, 0.3), 0px 1px 3px 1px rgba(60, 64, 67, 0.15);\n",
              "      fill: #174EA6;\n",
              "    }\n",
              "\n",
              "    [theme=dark] .colab-df-convert {\n",
              "      background-color: #3B4455;\n",
              "      fill: #D2E3FC;\n",
              "    }\n",
              "\n",
              "    [theme=dark] .colab-df-convert:hover {\n",
              "      background-color: #434B5C;\n",
              "      box-shadow: 0px 1px 3px 1px rgba(0, 0, 0, 0.15);\n",
              "      filter: drop-shadow(0px 1px 2px rgba(0, 0, 0, 0.3));\n",
              "      fill: #FFFFFF;\n",
              "    }\n",
              "  </style>\n",
              "\n",
              "      <script>\n",
              "        const buttonEl =\n",
              "          document.querySelector('#df-cc39ca98-5879-4314-a601-5618c48de78c button.colab-df-convert');\n",
              "        buttonEl.style.display =\n",
              "          google.colab.kernel.accessAllowed ? 'block' : 'none';\n",
              "\n",
              "        async function convertToInteractive(key) {\n",
              "          const element = document.querySelector('#df-cc39ca98-5879-4314-a601-5618c48de78c');\n",
              "          const dataTable =\n",
              "            await google.colab.kernel.invokeFunction('convertToInteractive',\n",
              "                                                     [key], {});\n",
              "          if (!dataTable) return;\n",
              "\n",
              "          const docLinkHtml = 'Like what you see? Visit the ' +\n",
              "            '<a target=\"_blank\" href=https://colab.research.google.com/notebooks/data_table.ipynb>data table notebook</a>'\n",
              "            + ' to learn more about interactive tables.';\n",
              "          element.innerHTML = '';\n",
              "          dataTable['output_type'] = 'display_data';\n",
              "          await google.colab.output.renderOutput(dataTable, element);\n",
              "          const docLink = document.createElement('div');\n",
              "          docLink.innerHTML = docLinkHtml;\n",
              "          element.appendChild(docLink);\n",
              "        }\n",
              "      </script>\n",
              "    </div>\n",
              "  </div>\n",
              "  "
            ]
          },
          "metadata": {},
          "execution_count": 244
        }
      ]
    },
    {
      "cell_type": "code",
      "source": [
        "data.loc[data['vei_nro_gestor']==data2['vei_nro_gestor'][idx]] = data2.loc[data2['vei_nro_gestor']==data2['vei_nro_gestor'][idx]]"
      ],
      "metadata": {
        "id": "ruSAmsUX0kmK"
      },
      "execution_count": null,
      "outputs": []
    },
    {
      "cell_type": "code",
      "source": [
        "## selecionando o veiculo no df1 com o mesmo vei_nro do idx\n",
        "veiculo = data.loc[data['vei_nro_gestor']==data2['vei_nro_gestor'][idx]]\n",
        "idx_vei = data[data['vei_nro_gestor']==data2['vei_nro_gestor'][idx]].index.values\n",
        "\n",
        "tempo = data2.loc[idx].coleta_atual - veiculo.coleta_atual\n",
        "\n",
        "#verificando se as coordenadas são diferentes\n",
        "if (veiculo.longitude.values != data2.loc[idx].longitude or \n",
        "    veiculo.latitude.values != data2.loc[idx].latitude):\n",
        "  # então atualiza o veiculo no df\n",
        "  data.loc[idx_vei] = data2.loc[idx].values\n",
        "#else:\n",
        "  # verifica se a última atualização ocorreu a menos de 1 min\n",
        "  # estranho isso, pq sempre o tempo entre as consultas é 1 min\n",
        " # if tempo.dt.seconds < 60:\n",
        "  \n"
      ],
      "metadata": {
        "colab": {
          "base_uri": "https://localhost:8080/"
        },
        "id": "0EvcuXRbeRWw",
        "outputId": "24a3dd51-0c28-41c1-b99f-c42cd8d6fb7c"
      },
      "execution_count": 10,
      "outputs": [
        {
          "output_type": "stream",
          "name": "stdout",
          "text": [
            "a\n"
          ]
        }
      ]
    },
    {
      "cell_type": "code",
      "source": [
        "tempo.dt.seconds < 0"
      ],
      "metadata": {
        "colab": {
          "base_uri": "https://localhost:8080/"
        },
        "id": "X7REvlGrMCFt",
        "outputId": "cdcb4de5-eae2-4d3d-8cc8-7ffd232dc042"
      },
      "execution_count": 38,
      "outputs": [
        {
          "output_type": "execute_result",
          "data": {
            "text/plain": [
              "31    False\n",
              "Name: coleta_atual, dtype: bool"
            ]
          },
          "metadata": {},
          "execution_count": 38
        }
      ]
    },
    {
      "cell_type": "code",
      "source": [
        "idx_vei = data[data['vei_nro_gestor']==data2['vei_nro_gestor'][idx]].index.values\n",
        "data.loc[idx_vei]\n",
        "#data.loc[idx_vei]['longitude']"
      ],
      "metadata": {
        "colab": {
          "base_uri": "https://localhost:8080/",
          "height": 159
        },
        "id": "l87D6d2qJ4SI",
        "outputId": "7c9051c2-8fa8-49d2-fb84-8646a174080d"
      },
      "execution_count": 34,
      "outputs": [
        {
          "output_type": "execute_result",
          "data": {
            "text/plain": [
              "    longitude   latitude vei_nro_gestor  direcao  velocidade inicio_viagem  \\\n",
              "31 -43.365242 -23.000717          30518        1           0    1660592067   \n",
              "\n",
              "   linha                       nomeLinha  \\\n",
              "31   25A  MATO ALTO X ALVORADA (PARADOR)   \n",
              "\n",
              "                                    nomeItinerario comunicacao  \\\n",
              "31  ITI VOLTA - 25A MATO ALTO X ALVORADA (PARADOR)  1660593270   \n",
              "\n",
              "                 coleta_atual  \n",
              "31 2022-08-15 19:54:37.395234  "
            ],
            "text/html": [
              "\n",
              "  <div id=\"df-d3611645-b84c-4848-b3ab-84ec53c56665\">\n",
              "    <div class=\"colab-df-container\">\n",
              "      <div>\n",
              "<style scoped>\n",
              "    .dataframe tbody tr th:only-of-type {\n",
              "        vertical-align: middle;\n",
              "    }\n",
              "\n",
              "    .dataframe tbody tr th {\n",
              "        vertical-align: top;\n",
              "    }\n",
              "\n",
              "    .dataframe thead th {\n",
              "        text-align: right;\n",
              "    }\n",
              "</style>\n",
              "<table border=\"1\" class=\"dataframe\">\n",
              "  <thead>\n",
              "    <tr style=\"text-align: right;\">\n",
              "      <th></th>\n",
              "      <th>longitude</th>\n",
              "      <th>latitude</th>\n",
              "      <th>vei_nro_gestor</th>\n",
              "      <th>direcao</th>\n",
              "      <th>velocidade</th>\n",
              "      <th>inicio_viagem</th>\n",
              "      <th>linha</th>\n",
              "      <th>nomeLinha</th>\n",
              "      <th>nomeItinerario</th>\n",
              "      <th>comunicacao</th>\n",
              "      <th>coleta_atual</th>\n",
              "    </tr>\n",
              "  </thead>\n",
              "  <tbody>\n",
              "    <tr>\n",
              "      <th>31</th>\n",
              "      <td>-43.365242</td>\n",
              "      <td>-23.000717</td>\n",
              "      <td>30518</td>\n",
              "      <td>1</td>\n",
              "      <td>0</td>\n",
              "      <td>1660592067</td>\n",
              "      <td>25A</td>\n",
              "      <td>MATO ALTO X ALVORADA (PARADOR)</td>\n",
              "      <td>ITI VOLTA - 25A MATO ALTO X ALVORADA (PARADOR)</td>\n",
              "      <td>1660593270</td>\n",
              "      <td>2022-08-15 19:54:37.395234</td>\n",
              "    </tr>\n",
              "  </tbody>\n",
              "</table>\n",
              "</div>\n",
              "      <button class=\"colab-df-convert\" onclick=\"convertToInteractive('df-d3611645-b84c-4848-b3ab-84ec53c56665')\"\n",
              "              title=\"Convert this dataframe to an interactive table.\"\n",
              "              style=\"display:none;\">\n",
              "        \n",
              "  <svg xmlns=\"http://www.w3.org/2000/svg\" height=\"24px\"viewBox=\"0 0 24 24\"\n",
              "       width=\"24px\">\n",
              "    <path d=\"M0 0h24v24H0V0z\" fill=\"none\"/>\n",
              "    <path d=\"M18.56 5.44l.94 2.06.94-2.06 2.06-.94-2.06-.94-.94-2.06-.94 2.06-2.06.94zm-11 1L8.5 8.5l.94-2.06 2.06-.94-2.06-.94L8.5 2.5l-.94 2.06-2.06.94zm10 10l.94 2.06.94-2.06 2.06-.94-2.06-.94-.94-2.06-.94 2.06-2.06.94z\"/><path d=\"M17.41 7.96l-1.37-1.37c-.4-.4-.92-.59-1.43-.59-.52 0-1.04.2-1.43.59L10.3 9.45l-7.72 7.72c-.78.78-.78 2.05 0 2.83L4 21.41c.39.39.9.59 1.41.59.51 0 1.02-.2 1.41-.59l7.78-7.78 2.81-2.81c.8-.78.8-2.07 0-2.86zM5.41 20L4 18.59l7.72-7.72 1.47 1.35L5.41 20z\"/>\n",
              "  </svg>\n",
              "      </button>\n",
              "      \n",
              "  <style>\n",
              "    .colab-df-container {\n",
              "      display:flex;\n",
              "      flex-wrap:wrap;\n",
              "      gap: 12px;\n",
              "    }\n",
              "\n",
              "    .colab-df-convert {\n",
              "      background-color: #E8F0FE;\n",
              "      border: none;\n",
              "      border-radius: 50%;\n",
              "      cursor: pointer;\n",
              "      display: none;\n",
              "      fill: #1967D2;\n",
              "      height: 32px;\n",
              "      padding: 0 0 0 0;\n",
              "      width: 32px;\n",
              "    }\n",
              "\n",
              "    .colab-df-convert:hover {\n",
              "      background-color: #E2EBFA;\n",
              "      box-shadow: 0px 1px 2px rgba(60, 64, 67, 0.3), 0px 1px 3px 1px rgba(60, 64, 67, 0.15);\n",
              "      fill: #174EA6;\n",
              "    }\n",
              "\n",
              "    [theme=dark] .colab-df-convert {\n",
              "      background-color: #3B4455;\n",
              "      fill: #D2E3FC;\n",
              "    }\n",
              "\n",
              "    [theme=dark] .colab-df-convert:hover {\n",
              "      background-color: #434B5C;\n",
              "      box-shadow: 0px 1px 3px 1px rgba(0, 0, 0, 0.15);\n",
              "      filter: drop-shadow(0px 1px 2px rgba(0, 0, 0, 0.3));\n",
              "      fill: #FFFFFF;\n",
              "    }\n",
              "  </style>\n",
              "\n",
              "      <script>\n",
              "        const buttonEl =\n",
              "          document.querySelector('#df-d3611645-b84c-4848-b3ab-84ec53c56665 button.colab-df-convert');\n",
              "        buttonEl.style.display =\n",
              "          google.colab.kernel.accessAllowed ? 'block' : 'none';\n",
              "\n",
              "        async function convertToInteractive(key) {\n",
              "          const element = document.querySelector('#df-d3611645-b84c-4848-b3ab-84ec53c56665');\n",
              "          const dataTable =\n",
              "            await google.colab.kernel.invokeFunction('convertToInteractive',\n",
              "                                                     [key], {});\n",
              "          if (!dataTable) return;\n",
              "\n",
              "          const docLinkHtml = 'Like what you see? Visit the ' +\n",
              "            '<a target=\"_blank\" href=https://colab.research.google.com/notebooks/data_table.ipynb>data table notebook</a>'\n",
              "            + ' to learn more about interactive tables.';\n",
              "          element.innerHTML = '';\n",
              "          dataTable['output_type'] = 'display_data';\n",
              "          await google.colab.output.renderOutput(dataTable, element);\n",
              "          const docLink = document.createElement('div');\n",
              "          docLink.innerHTML = docLinkHtml;\n",
              "          element.appendChild(docLink);\n",
              "        }\n",
              "      </script>\n",
              "    </div>\n",
              "  </div>\n",
              "  "
            ]
          },
          "metadata": {},
          "execution_count": 34
        }
      ]
    },
    {
      "cell_type": "code",
      "source": [
        "data2.loc[idx].values"
      ],
      "metadata": {
        "colab": {
          "base_uri": "https://localhost:8080/"
        },
        "id": "g38tNQtVLOJ6",
        "outputId": "2578d4c3-dcae-421b-8b14-b49ca5660ef7"
      },
      "execution_count": 35,
      "outputs": [
        {
          "output_type": "execute_result",
          "data": {
            "text/plain": [
              "array([-43.365342, -23.000977, '30518', 6, 21, '1660592067', '25A',\n",
              "       'MATO ALTO X ALVORADA (PARADOR)',\n",
              "       'ITI VOLTA - 25A MATO ALTO X ALVORADA (PARADOR)', '1660593392',\n",
              "       Timestamp('2022-08-15 19:56:45.090080')], dtype=object)"
            ]
          },
          "metadata": {},
          "execution_count": 35
        }
      ]
    },
    {
      "cell_type": "code",
      "source": [
        "data.loc[idx_vei] = data2.loc[idx].values\n",
        "data.loc[idx_vei]"
      ],
      "metadata": {
        "colab": {
          "base_uri": "https://localhost:8080/",
          "height": 159
        },
        "id": "-dWS0H88H6O8",
        "outputId": "d065b39d-fb01-48ed-dbb9-ada1d88abab8"
      },
      "execution_count": 36,
      "outputs": [
        {
          "output_type": "execute_result",
          "data": {
            "text/plain": [
              "    longitude   latitude vei_nro_gestor  direcao  velocidade inicio_viagem  \\\n",
              "31 -43.365342 -23.000977          30518        6          21    1660592067   \n",
              "\n",
              "   linha                       nomeLinha  \\\n",
              "31   25A  MATO ALTO X ALVORADA (PARADOR)   \n",
              "\n",
              "                                    nomeItinerario comunicacao  \\\n",
              "31  ITI VOLTA - 25A MATO ALTO X ALVORADA (PARADOR)  1660593392   \n",
              "\n",
              "                 coleta_atual  \n",
              "31 2022-08-15 19:56:45.090080  "
            ],
            "text/html": [
              "\n",
              "  <div id=\"df-48aef093-848d-4701-85af-ff26b7b240fb\">\n",
              "    <div class=\"colab-df-container\">\n",
              "      <div>\n",
              "<style scoped>\n",
              "    .dataframe tbody tr th:only-of-type {\n",
              "        vertical-align: middle;\n",
              "    }\n",
              "\n",
              "    .dataframe tbody tr th {\n",
              "        vertical-align: top;\n",
              "    }\n",
              "\n",
              "    .dataframe thead th {\n",
              "        text-align: right;\n",
              "    }\n",
              "</style>\n",
              "<table border=\"1\" class=\"dataframe\">\n",
              "  <thead>\n",
              "    <tr style=\"text-align: right;\">\n",
              "      <th></th>\n",
              "      <th>longitude</th>\n",
              "      <th>latitude</th>\n",
              "      <th>vei_nro_gestor</th>\n",
              "      <th>direcao</th>\n",
              "      <th>velocidade</th>\n",
              "      <th>inicio_viagem</th>\n",
              "      <th>linha</th>\n",
              "      <th>nomeLinha</th>\n",
              "      <th>nomeItinerario</th>\n",
              "      <th>comunicacao</th>\n",
              "      <th>coleta_atual</th>\n",
              "    </tr>\n",
              "  </thead>\n",
              "  <tbody>\n",
              "    <tr>\n",
              "      <th>31</th>\n",
              "      <td>-43.365342</td>\n",
              "      <td>-23.000977</td>\n",
              "      <td>30518</td>\n",
              "      <td>6</td>\n",
              "      <td>21</td>\n",
              "      <td>1660592067</td>\n",
              "      <td>25A</td>\n",
              "      <td>MATO ALTO X ALVORADA (PARADOR)</td>\n",
              "      <td>ITI VOLTA - 25A MATO ALTO X ALVORADA (PARADOR)</td>\n",
              "      <td>1660593392</td>\n",
              "      <td>2022-08-15 19:56:45.090080</td>\n",
              "    </tr>\n",
              "  </tbody>\n",
              "</table>\n",
              "</div>\n",
              "      <button class=\"colab-df-convert\" onclick=\"convertToInteractive('df-48aef093-848d-4701-85af-ff26b7b240fb')\"\n",
              "              title=\"Convert this dataframe to an interactive table.\"\n",
              "              style=\"display:none;\">\n",
              "        \n",
              "  <svg xmlns=\"http://www.w3.org/2000/svg\" height=\"24px\"viewBox=\"0 0 24 24\"\n",
              "       width=\"24px\">\n",
              "    <path d=\"M0 0h24v24H0V0z\" fill=\"none\"/>\n",
              "    <path d=\"M18.56 5.44l.94 2.06.94-2.06 2.06-.94-2.06-.94-.94-2.06-.94 2.06-2.06.94zm-11 1L8.5 8.5l.94-2.06 2.06-.94-2.06-.94L8.5 2.5l-.94 2.06-2.06.94zm10 10l.94 2.06.94-2.06 2.06-.94-2.06-.94-.94-2.06-.94 2.06-2.06.94z\"/><path d=\"M17.41 7.96l-1.37-1.37c-.4-.4-.92-.59-1.43-.59-.52 0-1.04.2-1.43.59L10.3 9.45l-7.72 7.72c-.78.78-.78 2.05 0 2.83L4 21.41c.39.39.9.59 1.41.59.51 0 1.02-.2 1.41-.59l7.78-7.78 2.81-2.81c.8-.78.8-2.07 0-2.86zM5.41 20L4 18.59l7.72-7.72 1.47 1.35L5.41 20z\"/>\n",
              "  </svg>\n",
              "      </button>\n",
              "      \n",
              "  <style>\n",
              "    .colab-df-container {\n",
              "      display:flex;\n",
              "      flex-wrap:wrap;\n",
              "      gap: 12px;\n",
              "    }\n",
              "\n",
              "    .colab-df-convert {\n",
              "      background-color: #E8F0FE;\n",
              "      border: none;\n",
              "      border-radius: 50%;\n",
              "      cursor: pointer;\n",
              "      display: none;\n",
              "      fill: #1967D2;\n",
              "      height: 32px;\n",
              "      padding: 0 0 0 0;\n",
              "      width: 32px;\n",
              "    }\n",
              "\n",
              "    .colab-df-convert:hover {\n",
              "      background-color: #E2EBFA;\n",
              "      box-shadow: 0px 1px 2px rgba(60, 64, 67, 0.3), 0px 1px 3px 1px rgba(60, 64, 67, 0.15);\n",
              "      fill: #174EA6;\n",
              "    }\n",
              "\n",
              "    [theme=dark] .colab-df-convert {\n",
              "      background-color: #3B4455;\n",
              "      fill: #D2E3FC;\n",
              "    }\n",
              "\n",
              "    [theme=dark] .colab-df-convert:hover {\n",
              "      background-color: #434B5C;\n",
              "      box-shadow: 0px 1px 3px 1px rgba(0, 0, 0, 0.15);\n",
              "      filter: drop-shadow(0px 1px 2px rgba(0, 0, 0, 0.3));\n",
              "      fill: #FFFFFF;\n",
              "    }\n",
              "  </style>\n",
              "\n",
              "      <script>\n",
              "        const buttonEl =\n",
              "          document.querySelector('#df-48aef093-848d-4701-85af-ff26b7b240fb button.colab-df-convert');\n",
              "        buttonEl.style.display =\n",
              "          google.colab.kernel.accessAllowed ? 'block' : 'none';\n",
              "\n",
              "        async function convertToInteractive(key) {\n",
              "          const element = document.querySelector('#df-48aef093-848d-4701-85af-ff26b7b240fb');\n",
              "          const dataTable =\n",
              "            await google.colab.kernel.invokeFunction('convertToInteractive',\n",
              "                                                     [key], {});\n",
              "          if (!dataTable) return;\n",
              "\n",
              "          const docLinkHtml = 'Like what you see? Visit the ' +\n",
              "            '<a target=\"_blank\" href=https://colab.research.google.com/notebooks/data_table.ipynb>data table notebook</a>'\n",
              "            + ' to learn more about interactive tables.';\n",
              "          element.innerHTML = '';\n",
              "          dataTable['output_type'] = 'display_data';\n",
              "          await google.colab.output.renderOutput(dataTable, element);\n",
              "          const docLink = document.createElement('div');\n",
              "          docLink.innerHTML = docLinkHtml;\n",
              "          element.appendChild(docLink);\n",
              "        }\n",
              "      </script>\n",
              "    </div>\n",
              "  </div>\n",
              "  "
            ]
          },
          "metadata": {},
          "execution_count": 36
        }
      ]
    },
    {
      "cell_type": "code",
      "source": [
        "data2['longitude'][idx]"
      ],
      "metadata": {
        "colab": {
          "base_uri": "https://localhost:8080/"
        },
        "id": "WwCOHknAIGA0",
        "outputId": "034acd4f-1480-4fe1-a856-86262c1a3f23"
      },
      "execution_count": 13,
      "outputs": [
        {
          "output_type": "execute_result",
          "data": {
            "text/plain": [
              "-43.365342"
            ]
          },
          "metadata": {},
          "execution_count": 13
        }
      ]
    },
    {
      "cell_type": "code",
      "source": [
        "veiculo.longitude =  data2['longitude'][idx]\n",
        "veiculo.longitude"
      ],
      "metadata": {
        "colab": {
          "base_uri": "https://localhost:8080/"
        },
        "id": "wWh2kxS0IAiy",
        "outputId": "ded81dff-4f17-4d30-d972-7cc7638cf259"
      },
      "execution_count": 14,
      "outputs": [
        {
          "output_type": "stream",
          "name": "stderr",
          "text": [
            "/usr/local/lib/python3.7/dist-packages/pandas/core/generic.py:5516: SettingWithCopyWarning: \n",
            "A value is trying to be set on a copy of a slice from a DataFrame.\n",
            "Try using .loc[row_indexer,col_indexer] = value instead\n",
            "\n",
            "See the caveats in the documentation: https://pandas.pydata.org/pandas-docs/stable/user_guide/indexing.html#returning-a-view-versus-a-copy\n",
            "  self[name] = value\n"
          ]
        },
        {
          "output_type": "execute_result",
          "data": {
            "text/plain": [
              "31   -43.365342\n",
              "Name: longitude, dtype: float64"
            ]
          },
          "metadata": {},
          "execution_count": 14
        }
      ]
    },
    {
      "cell_type": "code",
      "source": [
        "veiculo.latitude.values "
      ],
      "metadata": {
        "colab": {
          "base_uri": "https://localhost:8080/"
        },
        "id": "04E_qIZ4I_RW",
        "outputId": "9759653c-e10d-47b6-9bd0-32457935c363"
      },
      "execution_count": 17,
      "outputs": [
        {
          "output_type": "execute_result",
          "data": {
            "text/plain": [
              "array([-23.000717])"
            ]
          },
          "metadata": {},
          "execution_count": 17
        }
      ]
    },
    {
      "cell_type": "code",
      "source": [
        "data2.loc[idx].latitude"
      ],
      "metadata": {
        "colab": {
          "base_uri": "https://localhost:8080/"
        },
        "id": "Q9oxKcvbItg0",
        "outputId": "5974c6ff-7427-49fd-ca45-01b254095d6a"
      },
      "execution_count": 16,
      "outputs": [
        {
          "output_type": "execute_result",
          "data": {
            "text/plain": [
              "-23.000977"
            ]
          },
          "metadata": {},
          "execution_count": 16
        }
      ]
    },
    {
      "cell_type": "code",
      "source": [
        "veiculo['latitude'] = data2.loc[idx].latitude\n",
        "veiculo['latitude']"
      ],
      "metadata": {
        "colab": {
          "base_uri": "https://localhost:8080/"
        },
        "id": "wJR7N64hJKRb",
        "outputId": "385f13b3-6736-41b1-b82f-7d6ba302de05"
      },
      "execution_count": 19,
      "outputs": [
        {
          "output_type": "stream",
          "name": "stderr",
          "text": [
            "/usr/local/lib/python3.7/dist-packages/ipykernel_launcher.py:1: SettingWithCopyWarning: \n",
            "A value is trying to be set on a copy of a slice from a DataFrame.\n",
            "Try using .loc[row_indexer,col_indexer] = value instead\n",
            "\n",
            "See the caveats in the documentation: https://pandas.pydata.org/pandas-docs/stable/user_guide/indexing.html#returning-a-view-versus-a-copy\n",
            "  \"\"\"Entry point for launching an IPython kernel.\n"
          ]
        },
        {
          "output_type": "execute_result",
          "data": {
            "text/plain": [
              "31   -23.000977\n",
              "Name: latitude, dtype: float64"
            ]
          },
          "metadata": {},
          "execution_count": 19
        }
      ]
    },
    {
      "cell_type": "code",
      "source": [
        "veiculo.longitude.values != data2.loc[idx].longitude "
      ],
      "metadata": {
        "colab": {
          "base_uri": "https://localhost:8080/"
        },
        "id": "SGNEjpeZHI3c",
        "outputId": "275caa35-39da-409b-a6cc-bb780c5a871b"
      },
      "execution_count": 9,
      "outputs": [
        {
          "output_type": "execute_result",
          "data": {
            "text/plain": [
              "array([ True])"
            ]
          },
          "metadata": {},
          "execution_count": 9
        }
      ]
    },
    {
      "cell_type": "code",
      "source": [
        "data2.loc[idx].coleta_atual"
      ],
      "metadata": {
        "colab": {
          "base_uri": "https://localhost:8080/"
        },
        "id": "3d6n9jhwkAv-",
        "outputId": "9c2ef0d1-833e-41ce-b337-22b40f2b2ff1"
      },
      "execution_count": null,
      "outputs": [
        {
          "output_type": "execute_result",
          "data": {
            "text/plain": [
              "Timestamp('2022-08-14 19:46:51.019601')"
            ]
          },
          "metadata": {},
          "execution_count": 205
        }
      ]
    },
    {
      "cell_type": "code",
      "source": [
        "veiculo.coleta_atual.values"
      ],
      "metadata": {
        "colab": {
          "base_uri": "https://localhost:8080/"
        },
        "id": "ty8FXQdMkC_V",
        "outputId": "7b2677a2-5cd1-4e28-95a1-aa6a211b9018"
      },
      "execution_count": null,
      "outputs": [
        {
          "output_type": "execute_result",
          "data": {
            "text/plain": [
              "array(['2022-08-14T18:50:08.921896000'], dtype='datetime64[ns]')"
            ]
          },
          "metadata": {},
          "execution_count": 207
        }
      ]
    },
    {
      "cell_type": "code",
      "source": [
        "tempo = data2.loc[idx].coleta_atual - veiculo.coleta_atual\n",
        "tempo\n",
        "#tempo.strftime(\"%M\")"
      ],
      "metadata": {
        "colab": {
          "base_uri": "https://localhost:8080/"
        },
        "id": "0PJ0NppXi8sB",
        "outputId": "4acf0d9c-b01c-41bd-cd7c-abfd28fd3c5e"
      },
      "execution_count": null,
      "outputs": [
        {
          "output_type": "execute_result",
          "data": {
            "text/plain": [
              "13   0 days 00:56:42.097705\n",
              "Name: coleta_atual, dtype: timedelta64[ns]"
            ]
          },
          "metadata": {},
          "execution_count": 219
        }
      ]
    },
    {
      "cell_type": "code",
      "source": [
        "tempo.dt.seconds\n"
      ],
      "metadata": {
        "colab": {
          "base_uri": "https://localhost:8080/"
        },
        "id": "U2rN1PLcwzdF",
        "outputId": "8d354a4f-5e70-46b6-8805-9185fe61eea9"
      },
      "execution_count": null,
      "outputs": [
        {
          "output_type": "execute_result",
          "data": {
            "text/plain": [
              "13    3402\n",
              "Name: coleta_atual, dtype: int64"
            ]
          },
          "metadata": {},
          "execution_count": 227
        }
      ]
    },
    {
      "cell_type": "code",
      "source": [
        "56*60 + 42"
      ],
      "metadata": {
        "colab": {
          "base_uri": "https://localhost:8080/"
        },
        "id": "3AcqWj6fuxKD",
        "outputId": "d580b25c-b208-49cb-b82b-60a815e2750f"
      },
      "execution_count": null,
      "outputs": [
        {
          "output_type": "execute_result",
          "data": {
            "text/plain": [
              "3402"
            ]
          },
          "metadata": {},
          "execution_count": 228
        }
      ]
    },
    {
      "cell_type": "code",
      "source": [
        "a =  datetime.datetime.now()\n",
        "time.sleep(5)\n",
        "b = datetime.datetime.now()\n",
        "\n",
        "c = b - a\n",
        "c"
      ],
      "metadata": {
        "colab": {
          "base_uri": "https://localhost:8080/"
        },
        "id": "vJTyzaomwB32",
        "outputId": "202a2221-b46e-4055-d258-0a30015821fb"
      },
      "execution_count": null,
      "outputs": [
        {
          "output_type": "execute_result",
          "data": {
            "text/plain": [
              "datetime.timedelta(seconds=5, microseconds=4387)"
            ]
          },
          "metadata": {},
          "execution_count": 222
        }
      ]
    },
    {
      "cell_type": "code",
      "source": [
        ""
      ],
      "metadata": {
        "id": "o2N5sI2owmaA"
      },
      "execution_count": null,
      "outputs": []
    },
    {
      "cell_type": "code",
      "source": [
        ""
      ],
      "metadata": {
        "id": "d-JnRorNwfgX"
      },
      "execution_count": null,
      "outputs": []
    },
    {
      "cell_type": "code",
      "source": [
        "tempo.dt.seconds > 60"
      ],
      "metadata": {
        "colab": {
          "base_uri": "https://localhost:8080/"
        },
        "id": "vyLoauu_kRWf",
        "outputId": "b47750f9-f0a8-4c3b-bc08-7e2b11a495bc"
      },
      "execution_count": null,
      "outputs": [
        {
          "output_type": "execute_result",
          "data": {
            "text/plain": [
              "13    True\n",
              "Name: coleta_atual, dtype: bool"
            ]
          },
          "metadata": {},
          "execution_count": 221
        }
      ]
    },
    {
      "cell_type": "code",
      "source": [
        "data.loc[data['vei_nro_gestor']==data2['vei_nro_gestor'][idx]].longitude"
      ],
      "metadata": {
        "colab": {
          "base_uri": "https://localhost:8080/"
        },
        "id": "0af6yu0kEEse",
        "outputId": "31d278ff-bef7-4170-fe3a-55343834c4e4"
      },
      "execution_count": null,
      "outputs": [
        {
          "output_type": "execute_result",
          "data": {
            "text/plain": [
              "13   -43.343817\n",
              "Name: longitude, dtype: float64"
            ]
          },
          "metadata": {},
          "execution_count": 174
        }
      ]
    },
    {
      "cell_type": "code",
      "source": [
        "data.columns"
      ],
      "metadata": {
        "colab": {
          "base_uri": "https://localhost:8080/"
        },
        "id": "Ni6LtmFvwpAD",
        "outputId": "a3e8f1b4-2990-45e6-80c3-8e6bcf9f9b5d"
      },
      "execution_count": null,
      "outputs": [
        {
          "output_type": "execute_result",
          "data": {
            "text/plain": [
              "Index(['longitude', 'latitude', 'vei_nro_gestor', 'direcao', 'velocidade',\n",
              "       'inicio_viagem', 'linha', 'nomeLinha', 'nomeItinerario', 'comunicacao',\n",
              "       'coleta_atual'],\n",
              "      dtype='object')"
            ]
          },
          "metadata": {},
          "execution_count": 126
        }
      ]
    },
    {
      "cell_type": "code",
      "source": [
        "data.longitude.values"
      ],
      "metadata": {
        "colab": {
          "base_uri": "https://localhost:8080/"
        },
        "id": "_K5A_SprCume",
        "outputId": "33dc5d59-d548-4092-e0cb-3b4b89175d14"
      },
      "execution_count": null,
      "outputs": [
        {
          "output_type": "execute_result",
          "data": {
            "text/plain": [
              "array([-43.365887, -43.247557, -43.313948, -43.345645, -43.34486 ,\n",
              "       -43.394555, -43.365567, -43.339523, -43.562202, -43.684503,\n",
              "       -43.481783, -43.378528, -43.467015, -43.343817, -43.440752,\n",
              "       -43.399787, -43.37242 , -43.647482, -43.569093, -43.323233,\n",
              "       -43.5117  , -43.465768, -43.300848, -43.365688, -43.336402,\n",
              "       -43.239517, -43.39421 , -43.246302, -43.433067, -43.367732,\n",
              "       -43.346322, -43.399438, -43.655107, -43.390847, -43.41212 ,\n",
              "       -43.436033, -43.64351 , -43.621822, -43.365683, -43.373513,\n",
              "       -43.281777, -43.336362, -43.276623, -43.312358, -43.312032,\n",
              "       -43.401747, -43.365658, -43.360785, -43.365915, -43.251683,\n",
              "       -43.320407, -43.366515, -43.638552, -43.318705, -43.402357])"
            ]
          },
          "metadata": {},
          "execution_count": 128
        }
      ]
    },
    {
      "cell_type": "code",
      "source": [
        "print(type(data2.loc[data2.vei_nro_gestor==data2.vei_nro_gestor[32]]))\n",
        "new_vehicle = data2.loc[data2.vei_nro_gestor==data2.vei_nro_gestor[32]]\n",
        "data.append(new_vehicle, ignore_index=True)"
      ],
      "metadata": {
        "colab": {
          "base_uri": "https://localhost:8080/",
          "height": 1000
        },
        "id": "zGI7g6WUyAc5",
        "outputId": "3c83ddf0-aea3-47a6-871f-f5d74f96f3ad"
      },
      "execution_count": null,
      "outputs": [
        {
          "output_type": "stream",
          "name": "stdout",
          "text": [
            "<class 'pandas.core.frame.DataFrame'>\n"
          ]
        },
        {
          "output_type": "execute_result",
          "data": {
            "text/plain": [
              "    longitude   latitude vei_nro_gestor  direcao  velocidade inicio_viagem  \\\n",
              "0  -43.365887 -23.000707          86811        2           0    1660497678   \n",
              "1  -43.247557 -22.812095          27204        2          49    1660500512   \n",
              "2  -43.313948 -22.853200          12707        2          32    1660501493   \n",
              "3  -43.345645 -22.888208          10306        4          36    1660485788   \n",
              "4  -43.344860 -23.000292          13401        1          41    1660500457   \n",
              "5  -43.394555 -22.963892          30508        4          17    1660502728   \n",
              "6  -43.365567 -22.978728          12712        0          51    1660495774   \n",
              "7  -43.339523 -23.000337          47015        6          59    1660501804   \n",
              "8  -43.562202 -23.004327          27201        6          56    1660501209   \n",
              "9  -43.684503 -22.917145          30527        4           0    1660485115   \n",
              "10 -43.481783 -23.018350          13414        1          20    1660501737   \n",
              "11 -43.378528 -23.000325          47009        2           0    1660498016   \n",
              "12 -43.467015 -23.014437          12729        5          17    1660488374   \n",
              "13 -43.343817 -22.886022          47023        0           7    1660499978   \n",
              "14 -43.440752 -23.008767          30542        0           0    1660500947   \n",
              "15 -43.399787 -22.861682          13412        1          31    1660494766   \n",
              "16 -43.372420 -22.933707          12705        7          36    1660499666   \n",
              "17 -43.647482 -22.964848          86870        5           0    1660488014   \n",
              "18 -43.569093 -23.002868          13407        2          57    1660502710   \n",
              "19 -43.323233 -22.854862          12702        5          28    1660500382   \n",
              "20 -43.511700 -23.017560          12720        2          54    1660501782   \n",
              "21 -43.465768 -23.014307          30523        1          59    1660500264   \n",
              "22 -43.300848 -22.843757          44732        0          25    1660488813   \n",
              "23 -43.365688 -23.000868          13419        5           0    1660500072   \n",
              "24 -43.336402 -22.877680          12703        4          34    1660501791   \n",
              "25 -43.239517 -22.839967          44706        4           0    1660502377   \n",
              "26 -43.394210 -22.944410          30531        7          50    1660500968   \n",
              "27 -43.246302 -22.849255          44704        5          32    1660498127   \n",
              "28 -43.433067 -23.005970          12739        1          47    1660500859   \n",
              "29 -43.367732 -22.998722          86809        5          56    1660499444   \n",
              "30 -43.346322 -22.889080          12738        0           0    1660489570   \n",
              "31 -43.399438 -22.861557          90006        5           0    1660488024   \n",
              "32 -43.655107 -22.946667          30521        6          39    1660491972   \n",
              "33 -43.390847 -22.968732          90005        3          38    1660499499   \n",
              "34 -43.412120 -22.999980          30532        5          28    1660498084   \n",
              "35 -43.436033 -23.006475          12709        5          46    1660491889   \n",
              "36 -43.643510 -22.966513          13416        2          50    1660502044   \n",
              "37 -43.621822 -22.968618          12718        1          29    1660501533   \n",
              "38 -43.365683 -22.973297          47012        6          32    1660500843   \n",
              "39 -43.373513 -22.929350          12701        3          58    1660500979   \n",
              "40 -43.281777 -22.840118          44717        2          21    1660500769   \n",
              "41 -43.336362 -22.877838          27174        0           0    1660487968   \n",
              "42 -43.276623 -22.841473          44730        4           0    1660498919   \n",
              "43 -43.312358 -23.006547          30533        6           0    1660502266   \n",
              "44 -43.312032 -23.006995          30518        2           0    1660501734   \n",
              "45 -43.401747 -22.971753          13427        4          51    1660499071   \n",
              "46 -43.365658 -23.000910          47011        5           5    1660491919   \n",
              "47 -43.365703 -23.001265          12728        1           0    1660503268   \n",
              "\n",
              "   linha                                          nomeLinha  \\\n",
              "0     10                   SANTA CRUZ X ALVORADA (EXPRESSO)   \n",
              "1    42A                       GALEAO X MADUREIRA (PARADOR)   \n",
              "2    42A                       GALEAO X MADUREIRA (PARADOR)   \n",
              "3     35                     MADUREIRA X ALVORADA (PARADOR)   \n",
              "4     22  TERMINAL ALVORADA X TERMINAL JARDIM OCEÂNICO (...   \n",
              "5     50  TERMINAL OLÍMPICO X TERMINAL JARDIM OCEÂNICO (...   \n",
              "6     46                        PENHA X ALVORADA (EXPRESSO)   \n",
              "7     22  TERMINAL ALVORADA X TERMINAL JARDIM OCEÂNICO (...   \n",
              "8     10                   SANTA CRUZ X ALVORADA (EXPRESSO)   \n",
              "9     10                   SANTA CRUZ X ALVORADA (EXPRESSO)   \n",
              "10   25A                     MATO ALTO X ALVORADA (PARADOR)   \n",
              "11    10                   SANTA CRUZ X ALVORADA (EXPRESSO)   \n",
              "12   25A                     MATO ALTO X ALVORADA (PARADOR)   \n",
              "13    35                     MADUREIRA X ALVORADA (PARADOR)   \n",
              "14    51          VILA MILITAR X TERMINAL RECREIO (PARADOR)   \n",
              "15    51          VILA MILITAR X TERMINAL RECREIO (PARADOR)   \n",
              "16    46                        PENHA X ALVORADA (EXPRESSO)   \n",
              "17    12                  PINGO DAGUA X ALVORADA (EXPRESSO)   \n",
              "18   25A                     MATO ALTO X ALVORADA (PARADOR)   \n",
              "19   42A                       GALEAO X MADUREIRA (PARADOR)   \n",
              "20    12                  PINGO DAGUA X ALVORADA (EXPRESSO)   \n",
              "21    10                   SANTA CRUZ X ALVORADA (EXPRESSO)   \n",
              "22   42A                       GALEAO X MADUREIRA (PARADOR)   \n",
              "23   25A                     MATO ALTO X ALVORADA (PARADOR)   \n",
              "24    46                        PENHA X ALVORADA (EXPRESSO)   \n",
              "25   42A                       GALEAO X MADUREIRA (PARADOR)   \n",
              "26    51          VILA MILITAR X TERMINAL RECREIO (PARADOR)   \n",
              "27   42A                       GALEAO X MADUREIRA (PARADOR)   \n",
              "28    12                  PINGO DAGUA X ALVORADA (EXPRESSO)   \n",
              "29    46                        PENHA X ALVORADA (EXPRESSO)   \n",
              "30    46                        PENHA X ALVORADA (EXPRESSO)   \n",
              "31    51          VILA MILITAR X TERMINAL RECREIO (PARADOR)   \n",
              "32    10                   SANTA CRUZ X ALVORADA (EXPRESSO)   \n",
              "33    35                     MADUREIRA X ALVORADA (PARADOR)   \n",
              "34   25A                     MATO ALTO X ALVORADA (PARADOR)   \n",
              "35    12                  PINGO DAGUA X ALVORADA (EXPRESSO)   \n",
              "36    10                   SANTA CRUZ X ALVORADA (EXPRESSO)   \n",
              "37    12                  PINGO DAGUA X ALVORADA (EXPRESSO)   \n",
              "38    50  TERMINAL OLÍMPICO X TERMINAL JARDIM OCEÂNICO (...   \n",
              "39    46                        PENHA X ALVORADA (EXPRESSO)   \n",
              "40   42A                       GALEAO X MADUREIRA (PARADOR)   \n",
              "41   42A                       GALEAO X MADUREIRA (PARADOR)   \n",
              "42    46                        PENHA X ALVORADA (EXPRESSO)   \n",
              "43    50  TERMINAL OLÍMPICO X TERMINAL JARDIM OCEÂNICO (...   \n",
              "44    22  TERMINAL ALVORADA X TERMINAL JARDIM OCEÂNICO (...   \n",
              "45    51          VILA MILITAR X TERMINAL RECREIO (PARADOR)   \n",
              "46    50  TERMINAL OLÍMPICO X TERMINAL JARDIM OCEÂNICO (...   \n",
              "47    46                        PENHA X ALVORADA (EXPRESSO)   \n",
              "\n",
              "                                       nomeItinerario comunicacao  \\\n",
              "0       ITI IDA - 10 SANTA CRUZ X ALVORADA (EXPRESSO)  1660502985   \n",
              "1        ITI VOLTA - 42A GALEAO X MADUREIRA (PARADOR)  1660502991   \n",
              "2        ITI VOLTA - 42A GALEAO X MADUREIRA (PARADOR)  1660502962   \n",
              "3       ITI VOLTA - 35 MADUREIRA X ALVORADA (PARADOR)  1660502978   \n",
              "4   ITI VOLTA -  22 TERMINAL ALVORADA X TERMINAL J...  1660502996   \n",
              "5   ITI IDA - 50 TERMINAL OLÍMPICO X TERMINAL JARD...  1660502979   \n",
              "6            ITI IDA - 46 PENHA X ALVORADA (EXPRESSO)  1660502987   \n",
              "7   ITI VOLTA -  22 TERMINAL ALVORADA X TERMINAL J...  1660503002   \n",
              "8     ITI VOLTA - 10 SANTA CRUZ X ALVORADA (EXPRESSO)  1660502983   \n",
              "9     ITI VOLTA - 10 SANTA CRUZ X ALVORADA (EXPRESSO)  1660502982   \n",
              "10       ITI IDA - 25A MATO ALTO X ALVORADA (PARADOR)  1660502979   \n",
              "11      ITI IDA - 10 SANTA CRUZ X ALVORADA (EXPRESSO)  1660502999   \n",
              "12       ITI IDA - 25A MATO ALTO X ALVORADA (PARADOR)  1660502990   \n",
              "13      ITI VOLTA - 35 MADUREIRA X ALVORADA (PARADOR)  1660502998   \n",
              "14  ITI VOLTA - 51 VILA MILITAR X TERMINAL RECREIO...  1660502996   \n",
              "15  ITI VOLTA - 51 VILA MILITAR X TERMINAL RECREIO...  1660502985   \n",
              "16         ITI VOLTA - 46 PENHA X ALVORADA (EXPRESSO)  1660502982   \n",
              "17    ITI IDA - 12 PINGO D`AGUA X ALVORADA (EXPRESSO)  1660502997   \n",
              "18       ITI IDA - 25A MATO ALTO X ALVORADA (PARADOR)  1660502994   \n",
              "19         ITI IDA - 42A GALEAO X MADUREIRA (PARADOR)  1660502982   \n",
              "20    ITI IDA - 12 PINGO D`AGUA X ALVORADA (EXPRESSO)  1660502980   \n",
              "21    ITI VOLTA - 10 SANTA CRUZ X ALVORADA (EXPRESSO)  1660502982   \n",
              "22         ITI IDA - 42A GALEAO X MADUREIRA (PARADOR)  1660503000   \n",
              "23       ITI IDA - 25A MATO ALTO X ALVORADA (PARADOR)  1660502991   \n",
              "24           ITI IDA - 46 PENHA X ALVORADA (EXPRESSO)  1660502984   \n",
              "25         ITI IDA - 42A GALEAO X MADUREIRA (PARADOR)  1660502997   \n",
              "26  ITI VOLTA - 51 VILA MILITAR X TERMINAL RECREIO...  1660503000   \n",
              "27                                        Iti Default  1660502996   \n",
              "28    ITI IDA - 12 PINGO D`AGUA X ALVORADA (EXPRESSO)  1660502976   \n",
              "29           ITI IDA - 46 PENHA X ALVORADA (EXPRESSO)  1660502999   \n",
              "30           ITI IDA - 46 PENHA X ALVORADA (EXPRESSO)  1660503002   \n",
              "31  ITI VOLTA - 51 VILA MILITAR X TERMINAL RECREIO...  1660502992   \n",
              "32      ITI IDA - 10 SANTA CRUZ X ALVORADA (EXPRESSO)  1660502991   \n",
              "33        ITI IDA - 35 MADUREIRA X ALVORADA (PARADOR)  1660502999   \n",
              "34       ITI IDA - 25A MATO ALTO X ALVORADA (PARADOR)  1660502983   \n",
              "35  ITI VOLTA - 12 PINGO D`AGUA X ALVORADA (EXPRESSO)  1660502972   \n",
              "36    ITI VOLTA - 10 SANTA CRUZ X ALVORADA (EXPRESSO)  1660502990   \n",
              "37    ITI IDA - 12 PINGO D`AGUA X ALVORADA (EXPRESSO)  1660502986   \n",
              "38  ITI VOLTA - 50 TERMINAL OLÍMPICO X TERMINAL JA...  1660502993   \n",
              "39         ITI VOLTA - 46 PENHA X ALVORADA (EXPRESSO)  1660502985   \n",
              "40       ITI VOLTA - 42A GALEAO X MADUREIRA (PARADOR)  1660502999   \n",
              "41       ITI VOLTA - 42A GALEAO X MADUREIRA (PARADOR)  1660502971   \n",
              "42         ITI VOLTA - 46 PENHA X ALVORADA (EXPRESSO)  1660502986   \n",
              "43  ITI VOLTA - 50 TERMINAL OLÍMPICO X TERMINAL JA...  1660502996   \n",
              "44  ITI IDA - 22 TERMINAL ALVORADA X TERMINAL JARD...  1660503001   \n",
              "45  ITI VOLTA - 51 VILA MILITAR X TERMINAL RECREIO...  1660502989   \n",
              "46  ITI VOLTA - 50 TERMINAL OLÍMPICO X TERMINAL JA...  1660502978   \n",
              "47           ITI IDA - 46 PENHA X ALVORADA (EXPRESSO)  1660503466   \n",
              "\n",
              "                 coleta_atual  \n",
              "0  2022-08-14 18:50:08.921896  \n",
              "1  2022-08-14 18:50:08.921896  \n",
              "2  2022-08-14 18:50:08.921896  \n",
              "3  2022-08-14 18:50:08.921896  \n",
              "4  2022-08-14 18:50:08.921896  \n",
              "5  2022-08-14 18:50:08.921896  \n",
              "6  2022-08-14 18:50:08.921896  \n",
              "7  2022-08-14 18:50:08.921896  \n",
              "8  2022-08-14 18:50:08.921896  \n",
              "9  2022-08-14 18:50:08.921896  \n",
              "10 2022-08-14 18:50:08.921896  \n",
              "11 2022-08-14 18:50:08.921896  \n",
              "12 2022-08-14 18:50:08.921896  \n",
              "13 2022-08-14 18:50:08.921896  \n",
              "14 2022-08-14 18:50:08.921896  \n",
              "15 2022-08-14 18:50:08.921896  \n",
              "16 2022-08-14 18:50:08.921896  \n",
              "17 2022-08-14 18:50:08.921896  \n",
              "18 2022-08-14 18:50:08.921896  \n",
              "19 2022-08-14 18:50:08.921896  \n",
              "20 2022-08-14 18:50:08.921896  \n",
              "21 2022-08-14 18:50:08.921896  \n",
              "22 2022-08-14 18:50:08.921896  \n",
              "23 2022-08-14 18:50:08.921896  \n",
              "24 2022-08-14 18:50:08.921896  \n",
              "25 2022-08-14 18:50:08.921896  \n",
              "26 2022-08-14 18:50:08.921896  \n",
              "27 2022-08-14 18:50:08.921896  \n",
              "28 2022-08-14 18:50:08.921896  \n",
              "29 2022-08-14 18:50:08.921896  \n",
              "30 2022-08-14 18:50:08.921896  \n",
              "31 2022-08-14 18:50:08.921896  \n",
              "32 2022-08-14 18:50:08.921896  \n",
              "33 2022-08-14 18:50:08.921896  \n",
              "34 2022-08-14 18:50:08.921896  \n",
              "35 2022-08-14 18:50:08.921896  \n",
              "36 2022-08-14 18:50:08.921896  \n",
              "37 2022-08-14 18:50:08.921896  \n",
              "38 2022-08-14 18:50:08.921896  \n",
              "39 2022-08-14 18:50:08.921896  \n",
              "40 2022-08-14 18:50:08.921896  \n",
              "41 2022-08-14 18:50:08.921896  \n",
              "42 2022-08-14 18:50:08.921896  \n",
              "43 2022-08-14 18:50:08.921896  \n",
              "44 2022-08-14 18:50:08.921896  \n",
              "45 2022-08-14 18:50:08.921896  \n",
              "46 2022-08-14 18:50:08.921896  \n",
              "47 2022-08-14 18:58:09.159871  "
            ],
            "text/html": [
              "\n",
              "  <div id=\"df-87cc3642-dd2c-4b0e-bb30-227419d4d43c\">\n",
              "    <div class=\"colab-df-container\">\n",
              "      <div>\n",
              "<style scoped>\n",
              "    .dataframe tbody tr th:only-of-type {\n",
              "        vertical-align: middle;\n",
              "    }\n",
              "\n",
              "    .dataframe tbody tr th {\n",
              "        vertical-align: top;\n",
              "    }\n",
              "\n",
              "    .dataframe thead th {\n",
              "        text-align: right;\n",
              "    }\n",
              "</style>\n",
              "<table border=\"1\" class=\"dataframe\">\n",
              "  <thead>\n",
              "    <tr style=\"text-align: right;\">\n",
              "      <th></th>\n",
              "      <th>longitude</th>\n",
              "      <th>latitude</th>\n",
              "      <th>vei_nro_gestor</th>\n",
              "      <th>direcao</th>\n",
              "      <th>velocidade</th>\n",
              "      <th>inicio_viagem</th>\n",
              "      <th>linha</th>\n",
              "      <th>nomeLinha</th>\n",
              "      <th>nomeItinerario</th>\n",
              "      <th>comunicacao</th>\n",
              "      <th>coleta_atual</th>\n",
              "    </tr>\n",
              "  </thead>\n",
              "  <tbody>\n",
              "    <tr>\n",
              "      <th>0</th>\n",
              "      <td>-43.365887</td>\n",
              "      <td>-23.000707</td>\n",
              "      <td>86811</td>\n",
              "      <td>2</td>\n",
              "      <td>0</td>\n",
              "      <td>1660497678</td>\n",
              "      <td>10</td>\n",
              "      <td>SANTA CRUZ X ALVORADA (EXPRESSO)</td>\n",
              "      <td>ITI IDA - 10 SANTA CRUZ X ALVORADA (EXPRESSO)</td>\n",
              "      <td>1660502985</td>\n",
              "      <td>2022-08-14 18:50:08.921896</td>\n",
              "    </tr>\n",
              "    <tr>\n",
              "      <th>1</th>\n",
              "      <td>-43.247557</td>\n",
              "      <td>-22.812095</td>\n",
              "      <td>27204</td>\n",
              "      <td>2</td>\n",
              "      <td>49</td>\n",
              "      <td>1660500512</td>\n",
              "      <td>42A</td>\n",
              "      <td>GALEAO X MADUREIRA (PARADOR)</td>\n",
              "      <td>ITI VOLTA - 42A GALEAO X MADUREIRA (PARADOR)</td>\n",
              "      <td>1660502991</td>\n",
              "      <td>2022-08-14 18:50:08.921896</td>\n",
              "    </tr>\n",
              "    <tr>\n",
              "      <th>2</th>\n",
              "      <td>-43.313948</td>\n",
              "      <td>-22.853200</td>\n",
              "      <td>12707</td>\n",
              "      <td>2</td>\n",
              "      <td>32</td>\n",
              "      <td>1660501493</td>\n",
              "      <td>42A</td>\n",
              "      <td>GALEAO X MADUREIRA (PARADOR)</td>\n",
              "      <td>ITI VOLTA - 42A GALEAO X MADUREIRA (PARADOR)</td>\n",
              "      <td>1660502962</td>\n",
              "      <td>2022-08-14 18:50:08.921896</td>\n",
              "    </tr>\n",
              "    <tr>\n",
              "      <th>3</th>\n",
              "      <td>-43.345645</td>\n",
              "      <td>-22.888208</td>\n",
              "      <td>10306</td>\n",
              "      <td>4</td>\n",
              "      <td>36</td>\n",
              "      <td>1660485788</td>\n",
              "      <td>35</td>\n",
              "      <td>MADUREIRA X ALVORADA (PARADOR)</td>\n",
              "      <td>ITI VOLTA - 35 MADUREIRA X ALVORADA (PARADOR)</td>\n",
              "      <td>1660502978</td>\n",
              "      <td>2022-08-14 18:50:08.921896</td>\n",
              "    </tr>\n",
              "    <tr>\n",
              "      <th>4</th>\n",
              "      <td>-43.344860</td>\n",
              "      <td>-23.000292</td>\n",
              "      <td>13401</td>\n",
              "      <td>1</td>\n",
              "      <td>41</td>\n",
              "      <td>1660500457</td>\n",
              "      <td>22</td>\n",
              "      <td>TERMINAL ALVORADA X TERMINAL JARDIM OCEÂNICO (...</td>\n",
              "      <td>ITI VOLTA -  22 TERMINAL ALVORADA X TERMINAL J...</td>\n",
              "      <td>1660502996</td>\n",
              "      <td>2022-08-14 18:50:08.921896</td>\n",
              "    </tr>\n",
              "    <tr>\n",
              "      <th>5</th>\n",
              "      <td>-43.394555</td>\n",
              "      <td>-22.963892</td>\n",
              "      <td>30508</td>\n",
              "      <td>4</td>\n",
              "      <td>17</td>\n",
              "      <td>1660502728</td>\n",
              "      <td>50</td>\n",
              "      <td>TERMINAL OLÍMPICO X TERMINAL JARDIM OCEÂNICO (...</td>\n",
              "      <td>ITI IDA - 50 TERMINAL OLÍMPICO X TERMINAL JARD...</td>\n",
              "      <td>1660502979</td>\n",
              "      <td>2022-08-14 18:50:08.921896</td>\n",
              "    </tr>\n",
              "    <tr>\n",
              "      <th>6</th>\n",
              "      <td>-43.365567</td>\n",
              "      <td>-22.978728</td>\n",
              "      <td>12712</td>\n",
              "      <td>0</td>\n",
              "      <td>51</td>\n",
              "      <td>1660495774</td>\n",
              "      <td>46</td>\n",
              "      <td>PENHA X ALVORADA (EXPRESSO)</td>\n",
              "      <td>ITI IDA - 46 PENHA X ALVORADA (EXPRESSO)</td>\n",
              "      <td>1660502987</td>\n",
              "      <td>2022-08-14 18:50:08.921896</td>\n",
              "    </tr>\n",
              "    <tr>\n",
              "      <th>7</th>\n",
              "      <td>-43.339523</td>\n",
              "      <td>-23.000337</td>\n",
              "      <td>47015</td>\n",
              "      <td>6</td>\n",
              "      <td>59</td>\n",
              "      <td>1660501804</td>\n",
              "      <td>22</td>\n",
              "      <td>TERMINAL ALVORADA X TERMINAL JARDIM OCEÂNICO (...</td>\n",
              "      <td>ITI VOLTA -  22 TERMINAL ALVORADA X TERMINAL J...</td>\n",
              "      <td>1660503002</td>\n",
              "      <td>2022-08-14 18:50:08.921896</td>\n",
              "    </tr>\n",
              "    <tr>\n",
              "      <th>8</th>\n",
              "      <td>-43.562202</td>\n",
              "      <td>-23.004327</td>\n",
              "      <td>27201</td>\n",
              "      <td>6</td>\n",
              "      <td>56</td>\n",
              "      <td>1660501209</td>\n",
              "      <td>10</td>\n",
              "      <td>SANTA CRUZ X ALVORADA (EXPRESSO)</td>\n",
              "      <td>ITI VOLTA - 10 SANTA CRUZ X ALVORADA (EXPRESSO)</td>\n",
              "      <td>1660502983</td>\n",
              "      <td>2022-08-14 18:50:08.921896</td>\n",
              "    </tr>\n",
              "    <tr>\n",
              "      <th>9</th>\n",
              "      <td>-43.684503</td>\n",
              "      <td>-22.917145</td>\n",
              "      <td>30527</td>\n",
              "      <td>4</td>\n",
              "      <td>0</td>\n",
              "      <td>1660485115</td>\n",
              "      <td>10</td>\n",
              "      <td>SANTA CRUZ X ALVORADA (EXPRESSO)</td>\n",
              "      <td>ITI VOLTA - 10 SANTA CRUZ X ALVORADA (EXPRESSO)</td>\n",
              "      <td>1660502982</td>\n",
              "      <td>2022-08-14 18:50:08.921896</td>\n",
              "    </tr>\n",
              "    <tr>\n",
              "      <th>10</th>\n",
              "      <td>-43.481783</td>\n",
              "      <td>-23.018350</td>\n",
              "      <td>13414</td>\n",
              "      <td>1</td>\n",
              "      <td>20</td>\n",
              "      <td>1660501737</td>\n",
              "      <td>25A</td>\n",
              "      <td>MATO ALTO X ALVORADA (PARADOR)</td>\n",
              "      <td>ITI IDA - 25A MATO ALTO X ALVORADA (PARADOR)</td>\n",
              "      <td>1660502979</td>\n",
              "      <td>2022-08-14 18:50:08.921896</td>\n",
              "    </tr>\n",
              "    <tr>\n",
              "      <th>11</th>\n",
              "      <td>-43.378528</td>\n",
              "      <td>-23.000325</td>\n",
              "      <td>47009</td>\n",
              "      <td>2</td>\n",
              "      <td>0</td>\n",
              "      <td>1660498016</td>\n",
              "      <td>10</td>\n",
              "      <td>SANTA CRUZ X ALVORADA (EXPRESSO)</td>\n",
              "      <td>ITI IDA - 10 SANTA CRUZ X ALVORADA (EXPRESSO)</td>\n",
              "      <td>1660502999</td>\n",
              "      <td>2022-08-14 18:50:08.921896</td>\n",
              "    </tr>\n",
              "    <tr>\n",
              "      <th>12</th>\n",
              "      <td>-43.467015</td>\n",
              "      <td>-23.014437</td>\n",
              "      <td>12729</td>\n",
              "      <td>5</td>\n",
              "      <td>17</td>\n",
              "      <td>1660488374</td>\n",
              "      <td>25A</td>\n",
              "      <td>MATO ALTO X ALVORADA (PARADOR)</td>\n",
              "      <td>ITI IDA - 25A MATO ALTO X ALVORADA (PARADOR)</td>\n",
              "      <td>1660502990</td>\n",
              "      <td>2022-08-14 18:50:08.921896</td>\n",
              "    </tr>\n",
              "    <tr>\n",
              "      <th>13</th>\n",
              "      <td>-43.343817</td>\n",
              "      <td>-22.886022</td>\n",
              "      <td>47023</td>\n",
              "      <td>0</td>\n",
              "      <td>7</td>\n",
              "      <td>1660499978</td>\n",
              "      <td>35</td>\n",
              "      <td>MADUREIRA X ALVORADA (PARADOR)</td>\n",
              "      <td>ITI VOLTA - 35 MADUREIRA X ALVORADA (PARADOR)</td>\n",
              "      <td>1660502998</td>\n",
              "      <td>2022-08-14 18:50:08.921896</td>\n",
              "    </tr>\n",
              "    <tr>\n",
              "      <th>14</th>\n",
              "      <td>-43.440752</td>\n",
              "      <td>-23.008767</td>\n",
              "      <td>30542</td>\n",
              "      <td>0</td>\n",
              "      <td>0</td>\n",
              "      <td>1660500947</td>\n",
              "      <td>51</td>\n",
              "      <td>VILA MILITAR X TERMINAL RECREIO (PARADOR)</td>\n",
              "      <td>ITI VOLTA - 51 VILA MILITAR X TERMINAL RECREIO...</td>\n",
              "      <td>1660502996</td>\n",
              "      <td>2022-08-14 18:50:08.921896</td>\n",
              "    </tr>\n",
              "    <tr>\n",
              "      <th>15</th>\n",
              "      <td>-43.399787</td>\n",
              "      <td>-22.861682</td>\n",
              "      <td>13412</td>\n",
              "      <td>1</td>\n",
              "      <td>31</td>\n",
              "      <td>1660494766</td>\n",
              "      <td>51</td>\n",
              "      <td>VILA MILITAR X TERMINAL RECREIO (PARADOR)</td>\n",
              "      <td>ITI VOLTA - 51 VILA MILITAR X TERMINAL RECREIO...</td>\n",
              "      <td>1660502985</td>\n",
              "      <td>2022-08-14 18:50:08.921896</td>\n",
              "    </tr>\n",
              "    <tr>\n",
              "      <th>16</th>\n",
              "      <td>-43.372420</td>\n",
              "      <td>-22.933707</td>\n",
              "      <td>12705</td>\n",
              "      <td>7</td>\n",
              "      <td>36</td>\n",
              "      <td>1660499666</td>\n",
              "      <td>46</td>\n",
              "      <td>PENHA X ALVORADA (EXPRESSO)</td>\n",
              "      <td>ITI VOLTA - 46 PENHA X ALVORADA (EXPRESSO)</td>\n",
              "      <td>1660502982</td>\n",
              "      <td>2022-08-14 18:50:08.921896</td>\n",
              "    </tr>\n",
              "    <tr>\n",
              "      <th>17</th>\n",
              "      <td>-43.647482</td>\n",
              "      <td>-22.964848</td>\n",
              "      <td>86870</td>\n",
              "      <td>5</td>\n",
              "      <td>0</td>\n",
              "      <td>1660488014</td>\n",
              "      <td>12</td>\n",
              "      <td>PINGO DAGUA X ALVORADA (EXPRESSO)</td>\n",
              "      <td>ITI IDA - 12 PINGO D`AGUA X ALVORADA (EXPRESSO)</td>\n",
              "      <td>1660502997</td>\n",
              "      <td>2022-08-14 18:50:08.921896</td>\n",
              "    </tr>\n",
              "    <tr>\n",
              "      <th>18</th>\n",
              "      <td>-43.569093</td>\n",
              "      <td>-23.002868</td>\n",
              "      <td>13407</td>\n",
              "      <td>2</td>\n",
              "      <td>57</td>\n",
              "      <td>1660502710</td>\n",
              "      <td>25A</td>\n",
              "      <td>MATO ALTO X ALVORADA (PARADOR)</td>\n",
              "      <td>ITI IDA - 25A MATO ALTO X ALVORADA (PARADOR)</td>\n",
              "      <td>1660502994</td>\n",
              "      <td>2022-08-14 18:50:08.921896</td>\n",
              "    </tr>\n",
              "    <tr>\n",
              "      <th>19</th>\n",
              "      <td>-43.323233</td>\n",
              "      <td>-22.854862</td>\n",
              "      <td>12702</td>\n",
              "      <td>5</td>\n",
              "      <td>28</td>\n",
              "      <td>1660500382</td>\n",
              "      <td>42A</td>\n",
              "      <td>GALEAO X MADUREIRA (PARADOR)</td>\n",
              "      <td>ITI IDA - 42A GALEAO X MADUREIRA (PARADOR)</td>\n",
              "      <td>1660502982</td>\n",
              "      <td>2022-08-14 18:50:08.921896</td>\n",
              "    </tr>\n",
              "    <tr>\n",
              "      <th>20</th>\n",
              "      <td>-43.511700</td>\n",
              "      <td>-23.017560</td>\n",
              "      <td>12720</td>\n",
              "      <td>2</td>\n",
              "      <td>54</td>\n",
              "      <td>1660501782</td>\n",
              "      <td>12</td>\n",
              "      <td>PINGO DAGUA X ALVORADA (EXPRESSO)</td>\n",
              "      <td>ITI IDA - 12 PINGO D`AGUA X ALVORADA (EXPRESSO)</td>\n",
              "      <td>1660502980</td>\n",
              "      <td>2022-08-14 18:50:08.921896</td>\n",
              "    </tr>\n",
              "    <tr>\n",
              "      <th>21</th>\n",
              "      <td>-43.465768</td>\n",
              "      <td>-23.014307</td>\n",
              "      <td>30523</td>\n",
              "      <td>1</td>\n",
              "      <td>59</td>\n",
              "      <td>1660500264</td>\n",
              "      <td>10</td>\n",
              "      <td>SANTA CRUZ X ALVORADA (EXPRESSO)</td>\n",
              "      <td>ITI VOLTA - 10 SANTA CRUZ X ALVORADA (EXPRESSO)</td>\n",
              "      <td>1660502982</td>\n",
              "      <td>2022-08-14 18:50:08.921896</td>\n",
              "    </tr>\n",
              "    <tr>\n",
              "      <th>22</th>\n",
              "      <td>-43.300848</td>\n",
              "      <td>-22.843757</td>\n",
              "      <td>44732</td>\n",
              "      <td>0</td>\n",
              "      <td>25</td>\n",
              "      <td>1660488813</td>\n",
              "      <td>42A</td>\n",
              "      <td>GALEAO X MADUREIRA (PARADOR)</td>\n",
              "      <td>ITI IDA - 42A GALEAO X MADUREIRA (PARADOR)</td>\n",
              "      <td>1660503000</td>\n",
              "      <td>2022-08-14 18:50:08.921896</td>\n",
              "    </tr>\n",
              "    <tr>\n",
              "      <th>23</th>\n",
              "      <td>-43.365688</td>\n",
              "      <td>-23.000868</td>\n",
              "      <td>13419</td>\n",
              "      <td>5</td>\n",
              "      <td>0</td>\n",
              "      <td>1660500072</td>\n",
              "      <td>25A</td>\n",
              "      <td>MATO ALTO X ALVORADA (PARADOR)</td>\n",
              "      <td>ITI IDA - 25A MATO ALTO X ALVORADA (PARADOR)</td>\n",
              "      <td>1660502991</td>\n",
              "      <td>2022-08-14 18:50:08.921896</td>\n",
              "    </tr>\n",
              "    <tr>\n",
              "      <th>24</th>\n",
              "      <td>-43.336402</td>\n",
              "      <td>-22.877680</td>\n",
              "      <td>12703</td>\n",
              "      <td>4</td>\n",
              "      <td>34</td>\n",
              "      <td>1660501791</td>\n",
              "      <td>46</td>\n",
              "      <td>PENHA X ALVORADA (EXPRESSO)</td>\n",
              "      <td>ITI IDA - 46 PENHA X ALVORADA (EXPRESSO)</td>\n",
              "      <td>1660502984</td>\n",
              "      <td>2022-08-14 18:50:08.921896</td>\n",
              "    </tr>\n",
              "    <tr>\n",
              "      <th>25</th>\n",
              "      <td>-43.239517</td>\n",
              "      <td>-22.839967</td>\n",
              "      <td>44706</td>\n",
              "      <td>4</td>\n",
              "      <td>0</td>\n",
              "      <td>1660502377</td>\n",
              "      <td>42A</td>\n",
              "      <td>GALEAO X MADUREIRA (PARADOR)</td>\n",
              "      <td>ITI IDA - 42A GALEAO X MADUREIRA (PARADOR)</td>\n",
              "      <td>1660502997</td>\n",
              "      <td>2022-08-14 18:50:08.921896</td>\n",
              "    </tr>\n",
              "    <tr>\n",
              "      <th>26</th>\n",
              "      <td>-43.394210</td>\n",
              "      <td>-22.944410</td>\n",
              "      <td>30531</td>\n",
              "      <td>7</td>\n",
              "      <td>50</td>\n",
              "      <td>1660500968</td>\n",
              "      <td>51</td>\n",
              "      <td>VILA MILITAR X TERMINAL RECREIO (PARADOR)</td>\n",
              "      <td>ITI VOLTA - 51 VILA MILITAR X TERMINAL RECREIO...</td>\n",
              "      <td>1660503000</td>\n",
              "      <td>2022-08-14 18:50:08.921896</td>\n",
              "    </tr>\n",
              "    <tr>\n",
              "      <th>27</th>\n",
              "      <td>-43.246302</td>\n",
              "      <td>-22.849255</td>\n",
              "      <td>44704</td>\n",
              "      <td>5</td>\n",
              "      <td>32</td>\n",
              "      <td>1660498127</td>\n",
              "      <td>42A</td>\n",
              "      <td>GALEAO X MADUREIRA (PARADOR)</td>\n",
              "      <td>Iti Default</td>\n",
              "      <td>1660502996</td>\n",
              "      <td>2022-08-14 18:50:08.921896</td>\n",
              "    </tr>\n",
              "    <tr>\n",
              "      <th>28</th>\n",
              "      <td>-43.433067</td>\n",
              "      <td>-23.005970</td>\n",
              "      <td>12739</td>\n",
              "      <td>1</td>\n",
              "      <td>47</td>\n",
              "      <td>1660500859</td>\n",
              "      <td>12</td>\n",
              "      <td>PINGO DAGUA X ALVORADA (EXPRESSO)</td>\n",
              "      <td>ITI IDA - 12 PINGO D`AGUA X ALVORADA (EXPRESSO)</td>\n",
              "      <td>1660502976</td>\n",
              "      <td>2022-08-14 18:50:08.921896</td>\n",
              "    </tr>\n",
              "    <tr>\n",
              "      <th>29</th>\n",
              "      <td>-43.367732</td>\n",
              "      <td>-22.998722</td>\n",
              "      <td>86809</td>\n",
              "      <td>5</td>\n",
              "      <td>56</td>\n",
              "      <td>1660499444</td>\n",
              "      <td>46</td>\n",
              "      <td>PENHA X ALVORADA (EXPRESSO)</td>\n",
              "      <td>ITI IDA - 46 PENHA X ALVORADA (EXPRESSO)</td>\n",
              "      <td>1660502999</td>\n",
              "      <td>2022-08-14 18:50:08.921896</td>\n",
              "    </tr>\n",
              "    <tr>\n",
              "      <th>30</th>\n",
              "      <td>-43.346322</td>\n",
              "      <td>-22.889080</td>\n",
              "      <td>12738</td>\n",
              "      <td>0</td>\n",
              "      <td>0</td>\n",
              "      <td>1660489570</td>\n",
              "      <td>46</td>\n",
              "      <td>PENHA X ALVORADA (EXPRESSO)</td>\n",
              "      <td>ITI IDA - 46 PENHA X ALVORADA (EXPRESSO)</td>\n",
              "      <td>1660503002</td>\n",
              "      <td>2022-08-14 18:50:08.921896</td>\n",
              "    </tr>\n",
              "    <tr>\n",
              "      <th>31</th>\n",
              "      <td>-43.399438</td>\n",
              "      <td>-22.861557</td>\n",
              "      <td>90006</td>\n",
              "      <td>5</td>\n",
              "      <td>0</td>\n",
              "      <td>1660488024</td>\n",
              "      <td>51</td>\n",
              "      <td>VILA MILITAR X TERMINAL RECREIO (PARADOR)</td>\n",
              "      <td>ITI VOLTA - 51 VILA MILITAR X TERMINAL RECREIO...</td>\n",
              "      <td>1660502992</td>\n",
              "      <td>2022-08-14 18:50:08.921896</td>\n",
              "    </tr>\n",
              "    <tr>\n",
              "      <th>32</th>\n",
              "      <td>-43.655107</td>\n",
              "      <td>-22.946667</td>\n",
              "      <td>30521</td>\n",
              "      <td>6</td>\n",
              "      <td>39</td>\n",
              "      <td>1660491972</td>\n",
              "      <td>10</td>\n",
              "      <td>SANTA CRUZ X ALVORADA (EXPRESSO)</td>\n",
              "      <td>ITI IDA - 10 SANTA CRUZ X ALVORADA (EXPRESSO)</td>\n",
              "      <td>1660502991</td>\n",
              "      <td>2022-08-14 18:50:08.921896</td>\n",
              "    </tr>\n",
              "    <tr>\n",
              "      <th>33</th>\n",
              "      <td>-43.390847</td>\n",
              "      <td>-22.968732</td>\n",
              "      <td>90005</td>\n",
              "      <td>3</td>\n",
              "      <td>38</td>\n",
              "      <td>1660499499</td>\n",
              "      <td>35</td>\n",
              "      <td>MADUREIRA X ALVORADA (PARADOR)</td>\n",
              "      <td>ITI IDA - 35 MADUREIRA X ALVORADA (PARADOR)</td>\n",
              "      <td>1660502999</td>\n",
              "      <td>2022-08-14 18:50:08.921896</td>\n",
              "    </tr>\n",
              "    <tr>\n",
              "      <th>34</th>\n",
              "      <td>-43.412120</td>\n",
              "      <td>-22.999980</td>\n",
              "      <td>30532</td>\n",
              "      <td>5</td>\n",
              "      <td>28</td>\n",
              "      <td>1660498084</td>\n",
              "      <td>25A</td>\n",
              "      <td>MATO ALTO X ALVORADA (PARADOR)</td>\n",
              "      <td>ITI IDA - 25A MATO ALTO X ALVORADA (PARADOR)</td>\n",
              "      <td>1660502983</td>\n",
              "      <td>2022-08-14 18:50:08.921896</td>\n",
              "    </tr>\n",
              "    <tr>\n",
              "      <th>35</th>\n",
              "      <td>-43.436033</td>\n",
              "      <td>-23.006475</td>\n",
              "      <td>12709</td>\n",
              "      <td>5</td>\n",
              "      <td>46</td>\n",
              "      <td>1660491889</td>\n",
              "      <td>12</td>\n",
              "      <td>PINGO DAGUA X ALVORADA (EXPRESSO)</td>\n",
              "      <td>ITI VOLTA - 12 PINGO D`AGUA X ALVORADA (EXPRESSO)</td>\n",
              "      <td>1660502972</td>\n",
              "      <td>2022-08-14 18:50:08.921896</td>\n",
              "    </tr>\n",
              "    <tr>\n",
              "      <th>36</th>\n",
              "      <td>-43.643510</td>\n",
              "      <td>-22.966513</td>\n",
              "      <td>13416</td>\n",
              "      <td>2</td>\n",
              "      <td>50</td>\n",
              "      <td>1660502044</td>\n",
              "      <td>10</td>\n",
              "      <td>SANTA CRUZ X ALVORADA (EXPRESSO)</td>\n",
              "      <td>ITI VOLTA - 10 SANTA CRUZ X ALVORADA (EXPRESSO)</td>\n",
              "      <td>1660502990</td>\n",
              "      <td>2022-08-14 18:50:08.921896</td>\n",
              "    </tr>\n",
              "    <tr>\n",
              "      <th>37</th>\n",
              "      <td>-43.621822</td>\n",
              "      <td>-22.968618</td>\n",
              "      <td>12718</td>\n",
              "      <td>1</td>\n",
              "      <td>29</td>\n",
              "      <td>1660501533</td>\n",
              "      <td>12</td>\n",
              "      <td>PINGO DAGUA X ALVORADA (EXPRESSO)</td>\n",
              "      <td>ITI IDA - 12 PINGO D`AGUA X ALVORADA (EXPRESSO)</td>\n",
              "      <td>1660502986</td>\n",
              "      <td>2022-08-14 18:50:08.921896</td>\n",
              "    </tr>\n",
              "    <tr>\n",
              "      <th>38</th>\n",
              "      <td>-43.365683</td>\n",
              "      <td>-22.973297</td>\n",
              "      <td>47012</td>\n",
              "      <td>6</td>\n",
              "      <td>32</td>\n",
              "      <td>1660500843</td>\n",
              "      <td>50</td>\n",
              "      <td>TERMINAL OLÍMPICO X TERMINAL JARDIM OCEÂNICO (...</td>\n",
              "      <td>ITI VOLTA - 50 TERMINAL OLÍMPICO X TERMINAL JA...</td>\n",
              "      <td>1660502993</td>\n",
              "      <td>2022-08-14 18:50:08.921896</td>\n",
              "    </tr>\n",
              "    <tr>\n",
              "      <th>39</th>\n",
              "      <td>-43.373513</td>\n",
              "      <td>-22.929350</td>\n",
              "      <td>12701</td>\n",
              "      <td>3</td>\n",
              "      <td>58</td>\n",
              "      <td>1660500979</td>\n",
              "      <td>46</td>\n",
              "      <td>PENHA X ALVORADA (EXPRESSO)</td>\n",
              "      <td>ITI VOLTA - 46 PENHA X ALVORADA (EXPRESSO)</td>\n",
              "      <td>1660502985</td>\n",
              "      <td>2022-08-14 18:50:08.921896</td>\n",
              "    </tr>\n",
              "    <tr>\n",
              "      <th>40</th>\n",
              "      <td>-43.281777</td>\n",
              "      <td>-22.840118</td>\n",
              "      <td>44717</td>\n",
              "      <td>2</td>\n",
              "      <td>21</td>\n",
              "      <td>1660500769</td>\n",
              "      <td>42A</td>\n",
              "      <td>GALEAO X MADUREIRA (PARADOR)</td>\n",
              "      <td>ITI VOLTA - 42A GALEAO X MADUREIRA (PARADOR)</td>\n",
              "      <td>1660502999</td>\n",
              "      <td>2022-08-14 18:50:08.921896</td>\n",
              "    </tr>\n",
              "    <tr>\n",
              "      <th>41</th>\n",
              "      <td>-43.336362</td>\n",
              "      <td>-22.877838</td>\n",
              "      <td>27174</td>\n",
              "      <td>0</td>\n",
              "      <td>0</td>\n",
              "      <td>1660487968</td>\n",
              "      <td>42A</td>\n",
              "      <td>GALEAO X MADUREIRA (PARADOR)</td>\n",
              "      <td>ITI VOLTA - 42A GALEAO X MADUREIRA (PARADOR)</td>\n",
              "      <td>1660502971</td>\n",
              "      <td>2022-08-14 18:50:08.921896</td>\n",
              "    </tr>\n",
              "    <tr>\n",
              "      <th>42</th>\n",
              "      <td>-43.276623</td>\n",
              "      <td>-22.841473</td>\n",
              "      <td>44730</td>\n",
              "      <td>4</td>\n",
              "      <td>0</td>\n",
              "      <td>1660498919</td>\n",
              "      <td>46</td>\n",
              "      <td>PENHA X ALVORADA (EXPRESSO)</td>\n",
              "      <td>ITI VOLTA - 46 PENHA X ALVORADA (EXPRESSO)</td>\n",
              "      <td>1660502986</td>\n",
              "      <td>2022-08-14 18:50:08.921896</td>\n",
              "    </tr>\n",
              "    <tr>\n",
              "      <th>43</th>\n",
              "      <td>-43.312358</td>\n",
              "      <td>-23.006547</td>\n",
              "      <td>30533</td>\n",
              "      <td>6</td>\n",
              "      <td>0</td>\n",
              "      <td>1660502266</td>\n",
              "      <td>50</td>\n",
              "      <td>TERMINAL OLÍMPICO X TERMINAL JARDIM OCEÂNICO (...</td>\n",
              "      <td>ITI VOLTA - 50 TERMINAL OLÍMPICO X TERMINAL JA...</td>\n",
              "      <td>1660502996</td>\n",
              "      <td>2022-08-14 18:50:08.921896</td>\n",
              "    </tr>\n",
              "    <tr>\n",
              "      <th>44</th>\n",
              "      <td>-43.312032</td>\n",
              "      <td>-23.006995</td>\n",
              "      <td>30518</td>\n",
              "      <td>2</td>\n",
              "      <td>0</td>\n",
              "      <td>1660501734</td>\n",
              "      <td>22</td>\n",
              "      <td>TERMINAL ALVORADA X TERMINAL JARDIM OCEÂNICO (...</td>\n",
              "      <td>ITI IDA - 22 TERMINAL ALVORADA X TERMINAL JARD...</td>\n",
              "      <td>1660503001</td>\n",
              "      <td>2022-08-14 18:50:08.921896</td>\n",
              "    </tr>\n",
              "    <tr>\n",
              "      <th>45</th>\n",
              "      <td>-43.401747</td>\n",
              "      <td>-22.971753</td>\n",
              "      <td>13427</td>\n",
              "      <td>4</td>\n",
              "      <td>51</td>\n",
              "      <td>1660499071</td>\n",
              "      <td>51</td>\n",
              "      <td>VILA MILITAR X TERMINAL RECREIO (PARADOR)</td>\n",
              "      <td>ITI VOLTA - 51 VILA MILITAR X TERMINAL RECREIO...</td>\n",
              "      <td>1660502989</td>\n",
              "      <td>2022-08-14 18:50:08.921896</td>\n",
              "    </tr>\n",
              "    <tr>\n",
              "      <th>46</th>\n",
              "      <td>-43.365658</td>\n",
              "      <td>-23.000910</td>\n",
              "      <td>47011</td>\n",
              "      <td>5</td>\n",
              "      <td>5</td>\n",
              "      <td>1660491919</td>\n",
              "      <td>50</td>\n",
              "      <td>TERMINAL OLÍMPICO X TERMINAL JARDIM OCEÂNICO (...</td>\n",
              "      <td>ITI VOLTA - 50 TERMINAL OLÍMPICO X TERMINAL JA...</td>\n",
              "      <td>1660502978</td>\n",
              "      <td>2022-08-14 18:50:08.921896</td>\n",
              "    </tr>\n",
              "    <tr>\n",
              "      <th>47</th>\n",
              "      <td>-43.365703</td>\n",
              "      <td>-23.001265</td>\n",
              "      <td>12728</td>\n",
              "      <td>1</td>\n",
              "      <td>0</td>\n",
              "      <td>1660503268</td>\n",
              "      <td>46</td>\n",
              "      <td>PENHA X ALVORADA (EXPRESSO)</td>\n",
              "      <td>ITI IDA - 46 PENHA X ALVORADA (EXPRESSO)</td>\n",
              "      <td>1660503466</td>\n",
              "      <td>2022-08-14 18:58:09.159871</td>\n",
              "    </tr>\n",
              "  </tbody>\n",
              "</table>\n",
              "</div>\n",
              "      <button class=\"colab-df-convert\" onclick=\"convertToInteractive('df-87cc3642-dd2c-4b0e-bb30-227419d4d43c')\"\n",
              "              title=\"Convert this dataframe to an interactive table.\"\n",
              "              style=\"display:none;\">\n",
              "        \n",
              "  <svg xmlns=\"http://www.w3.org/2000/svg\" height=\"24px\"viewBox=\"0 0 24 24\"\n",
              "       width=\"24px\">\n",
              "    <path d=\"M0 0h24v24H0V0z\" fill=\"none\"/>\n",
              "    <path d=\"M18.56 5.44l.94 2.06.94-2.06 2.06-.94-2.06-.94-.94-2.06-.94 2.06-2.06.94zm-11 1L8.5 8.5l.94-2.06 2.06-.94-2.06-.94L8.5 2.5l-.94 2.06-2.06.94zm10 10l.94 2.06.94-2.06 2.06-.94-2.06-.94-.94-2.06-.94 2.06-2.06.94z\"/><path d=\"M17.41 7.96l-1.37-1.37c-.4-.4-.92-.59-1.43-.59-.52 0-1.04.2-1.43.59L10.3 9.45l-7.72 7.72c-.78.78-.78 2.05 0 2.83L4 21.41c.39.39.9.59 1.41.59.51 0 1.02-.2 1.41-.59l7.78-7.78 2.81-2.81c.8-.78.8-2.07 0-2.86zM5.41 20L4 18.59l7.72-7.72 1.47 1.35L5.41 20z\"/>\n",
              "  </svg>\n",
              "      </button>\n",
              "      \n",
              "  <style>\n",
              "    .colab-df-container {\n",
              "      display:flex;\n",
              "      flex-wrap:wrap;\n",
              "      gap: 12px;\n",
              "    }\n",
              "\n",
              "    .colab-df-convert {\n",
              "      background-color: #E8F0FE;\n",
              "      border: none;\n",
              "      border-radius: 50%;\n",
              "      cursor: pointer;\n",
              "      display: none;\n",
              "      fill: #1967D2;\n",
              "      height: 32px;\n",
              "      padding: 0 0 0 0;\n",
              "      width: 32px;\n",
              "    }\n",
              "\n",
              "    .colab-df-convert:hover {\n",
              "      background-color: #E2EBFA;\n",
              "      box-shadow: 0px 1px 2px rgba(60, 64, 67, 0.3), 0px 1px 3px 1px rgba(60, 64, 67, 0.15);\n",
              "      fill: #174EA6;\n",
              "    }\n",
              "\n",
              "    [theme=dark] .colab-df-convert {\n",
              "      background-color: #3B4455;\n",
              "      fill: #D2E3FC;\n",
              "    }\n",
              "\n",
              "    [theme=dark] .colab-df-convert:hover {\n",
              "      background-color: #434B5C;\n",
              "      box-shadow: 0px 1px 3px 1px rgba(0, 0, 0, 0.15);\n",
              "      filter: drop-shadow(0px 1px 2px rgba(0, 0, 0, 0.3));\n",
              "      fill: #FFFFFF;\n",
              "    }\n",
              "  </style>\n",
              "\n",
              "      <script>\n",
              "        const buttonEl =\n",
              "          document.querySelector('#df-87cc3642-dd2c-4b0e-bb30-227419d4d43c button.colab-df-convert');\n",
              "        buttonEl.style.display =\n",
              "          google.colab.kernel.accessAllowed ? 'block' : 'none';\n",
              "\n",
              "        async function convertToInteractive(key) {\n",
              "          const element = document.querySelector('#df-87cc3642-dd2c-4b0e-bb30-227419d4d43c');\n",
              "          const dataTable =\n",
              "            await google.colab.kernel.invokeFunction('convertToInteractive',\n",
              "                                                     [key], {});\n",
              "          if (!dataTable) return;\n",
              "\n",
              "          const docLinkHtml = 'Like what you see? Visit the ' +\n",
              "            '<a target=\"_blank\" href=https://colab.research.google.com/notebooks/data_table.ipynb>data table notebook</a>'\n",
              "            + ' to learn more about interactive tables.';\n",
              "          element.innerHTML = '';\n",
              "          dataTable['output_type'] = 'display_data';\n",
              "          await google.colab.output.renderOutput(dataTable, element);\n",
              "          const docLink = document.createElement('div');\n",
              "          docLink.innerHTML = docLinkHtml;\n",
              "          element.appendChild(docLink);\n",
              "        }\n",
              "      </script>\n",
              "    </div>\n",
              "  </div>\n",
              "  "
            ]
          },
          "metadata": {},
          "execution_count": 87
        }
      ]
    },
    {
      "cell_type": "code",
      "source": [
        "data2.shape"
      ],
      "metadata": {
        "id": "Jsnml04TEO9g",
        "colab": {
          "base_uri": "https://localhost:8080/"
        },
        "outputId": "24ad5a1b-c58b-4734-f29f-c5bb5c1e660f"
      },
      "execution_count": null,
      "outputs": [
        {
          "output_type": "execute_result",
          "data": {
            "text/plain": [
              "(45, 11)"
            ]
          },
          "metadata": {},
          "execution_count": 68
        }
      ]
    },
    {
      "cell_type": "code",
      "source": [
        "for veiculo in data2:\n",
        "  print(veiculo)\n",
        "  #if veiculo.vei_nro_gestor in data.vei_nro_gestor.values:\n",
        "  #  print(veiculo)"
      ],
      "metadata": {
        "colab": {
          "base_uri": "https://localhost:8080/"
        },
        "id": "1Q_ThwT63hCb",
        "outputId": "f0861f3f-d756-4444-d145-b3b6b0039eff"
      },
      "execution_count": null,
      "outputs": [
        {
          "output_type": "stream",
          "name": "stdout",
          "text": [
            "longitude\n",
            "latitude\n",
            "vei_nro_gestor\n",
            "direcao\n",
            "velocidade\n",
            "inicio_viagem\n",
            "linha\n",
            "nomeLinha\n",
            "nomeItinerario\n",
            "comunicacao\n",
            "coleta_atual\n"
          ]
        }
      ]
    },
    {
      "cell_type": "code",
      "source": [
        "veiculo in data2.vei_nro_gestor.values"
      ],
      "metadata": {
        "colab": {
          "base_uri": "https://localhost:8080/"
        },
        "id": "JIwiih8y4uYp",
        "outputId": "51ad4cc6-402d-45f7-8d63-72077030ae55"
      },
      "execution_count": null,
      "outputs": [
        {
          "output_type": "execute_result",
          "data": {
            "text/plain": [
              "True"
            ]
          },
          "metadata": {},
          "execution_count": 29
        }
      ]
    },
    {
      "cell_type": "code",
      "source": [
        "data2.head()"
      ],
      "metadata": {
        "colab": {
          "base_uri": "https://localhost:8080/",
          "height": 510
        },
        "id": "mhoWwwJV5QIx",
        "outputId": "381871e9-e30f-4329-de69-dda04bc0340a"
      },
      "execution_count": null,
      "outputs": [
        {
          "output_type": "execute_result",
          "data": {
            "text/plain": [
              "   longitude   latitude vei_nro_gestor  direcao  velocidade inicio_viagem  \\\n",
              "0 -43.372515 -22.948763          44709        0          25    1660483651   \n",
              "1 -43.323592 -22.855637          27174        1           0    1660487968   \n",
              "2 -43.365630 -22.985095          90005        0          53    1660488634   \n",
              "3 -43.312110 -23.006988          30533        2           0    1660485921   \n",
              "4 -43.412097 -23.000133          47008        1          41    1660474598   \n",
              "\n",
              "  linha                                          nomeLinha  \\\n",
              "0    35                     MADUREIRA X ALVORADA (PARADOR)   \n",
              "1   42A                       GALEAO X MADUREIRA (PARADOR)   \n",
              "2    35                     MADUREIRA X ALVORADA (PARADOR)   \n",
              "3    50  TERMINAL OLÍMPICO X TERMINAL JARDIM OCEÂNICO (...   \n",
              "4    10                   SANTA CRUZ X ALVORADA (EXPRESSO)   \n",
              "\n",
              "                                      nomeItinerario comunicacao  \\\n",
              "0        ITI IDA - 35 MADUREIRA X ALVORADA (PARADOR)  1660488945   \n",
              "1       ITI VOLTA - 42A GALEAO X MADUREIRA (PARADOR)  1660488934   \n",
              "2        ITI IDA - 35 MADUREIRA X ALVORADA (PARADOR)  1660488919   \n",
              "3  ITI IDA - 50 TERMINAL OLÍMPICO X TERMINAL JARD...  1660488946   \n",
              "4      ITI IDA - 10 SANTA CRUZ X ALVORADA (EXPRESSO)  1660488927   \n",
              "\n",
              "                coleta_atual  \n",
              "0 2022-08-14 14:55:50.749927  \n",
              "1 2022-08-14 14:55:50.749927  \n",
              "2 2022-08-14 14:55:50.749927  \n",
              "3 2022-08-14 14:55:50.749927  \n",
              "4 2022-08-14 14:55:50.749927  "
            ],
            "text/html": [
              "\n",
              "  <div id=\"df-c37e46cc-4c4e-4136-805b-ca610206b156\">\n",
              "    <div class=\"colab-df-container\">\n",
              "      <div>\n",
              "<style scoped>\n",
              "    .dataframe tbody tr th:only-of-type {\n",
              "        vertical-align: middle;\n",
              "    }\n",
              "\n",
              "    .dataframe tbody tr th {\n",
              "        vertical-align: top;\n",
              "    }\n",
              "\n",
              "    .dataframe thead th {\n",
              "        text-align: right;\n",
              "    }\n",
              "</style>\n",
              "<table border=\"1\" class=\"dataframe\">\n",
              "  <thead>\n",
              "    <tr style=\"text-align: right;\">\n",
              "      <th></th>\n",
              "      <th>longitude</th>\n",
              "      <th>latitude</th>\n",
              "      <th>vei_nro_gestor</th>\n",
              "      <th>direcao</th>\n",
              "      <th>velocidade</th>\n",
              "      <th>inicio_viagem</th>\n",
              "      <th>linha</th>\n",
              "      <th>nomeLinha</th>\n",
              "      <th>nomeItinerario</th>\n",
              "      <th>comunicacao</th>\n",
              "      <th>coleta_atual</th>\n",
              "    </tr>\n",
              "  </thead>\n",
              "  <tbody>\n",
              "    <tr>\n",
              "      <th>0</th>\n",
              "      <td>-43.372515</td>\n",
              "      <td>-22.948763</td>\n",
              "      <td>44709</td>\n",
              "      <td>0</td>\n",
              "      <td>25</td>\n",
              "      <td>1660483651</td>\n",
              "      <td>35</td>\n",
              "      <td>MADUREIRA X ALVORADA (PARADOR)</td>\n",
              "      <td>ITI IDA - 35 MADUREIRA X ALVORADA (PARADOR)</td>\n",
              "      <td>1660488945</td>\n",
              "      <td>2022-08-14 14:55:50.749927</td>\n",
              "    </tr>\n",
              "    <tr>\n",
              "      <th>1</th>\n",
              "      <td>-43.323592</td>\n",
              "      <td>-22.855637</td>\n",
              "      <td>27174</td>\n",
              "      <td>1</td>\n",
              "      <td>0</td>\n",
              "      <td>1660487968</td>\n",
              "      <td>42A</td>\n",
              "      <td>GALEAO X MADUREIRA (PARADOR)</td>\n",
              "      <td>ITI VOLTA - 42A GALEAO X MADUREIRA (PARADOR)</td>\n",
              "      <td>1660488934</td>\n",
              "      <td>2022-08-14 14:55:50.749927</td>\n",
              "    </tr>\n",
              "    <tr>\n",
              "      <th>2</th>\n",
              "      <td>-43.365630</td>\n",
              "      <td>-22.985095</td>\n",
              "      <td>90005</td>\n",
              "      <td>0</td>\n",
              "      <td>53</td>\n",
              "      <td>1660488634</td>\n",
              "      <td>35</td>\n",
              "      <td>MADUREIRA X ALVORADA (PARADOR)</td>\n",
              "      <td>ITI IDA - 35 MADUREIRA X ALVORADA (PARADOR)</td>\n",
              "      <td>1660488919</td>\n",
              "      <td>2022-08-14 14:55:50.749927</td>\n",
              "    </tr>\n",
              "    <tr>\n",
              "      <th>3</th>\n",
              "      <td>-43.312110</td>\n",
              "      <td>-23.006988</td>\n",
              "      <td>30533</td>\n",
              "      <td>2</td>\n",
              "      <td>0</td>\n",
              "      <td>1660485921</td>\n",
              "      <td>50</td>\n",
              "      <td>TERMINAL OLÍMPICO X TERMINAL JARDIM OCEÂNICO (...</td>\n",
              "      <td>ITI IDA - 50 TERMINAL OLÍMPICO X TERMINAL JARD...</td>\n",
              "      <td>1660488946</td>\n",
              "      <td>2022-08-14 14:55:50.749927</td>\n",
              "    </tr>\n",
              "    <tr>\n",
              "      <th>4</th>\n",
              "      <td>-43.412097</td>\n",
              "      <td>-23.000133</td>\n",
              "      <td>47008</td>\n",
              "      <td>1</td>\n",
              "      <td>41</td>\n",
              "      <td>1660474598</td>\n",
              "      <td>10</td>\n",
              "      <td>SANTA CRUZ X ALVORADA (EXPRESSO)</td>\n",
              "      <td>ITI IDA - 10 SANTA CRUZ X ALVORADA (EXPRESSO)</td>\n",
              "      <td>1660488927</td>\n",
              "      <td>2022-08-14 14:55:50.749927</td>\n",
              "    </tr>\n",
              "  </tbody>\n",
              "</table>\n",
              "</div>\n",
              "      <button class=\"colab-df-convert\" onclick=\"convertToInteractive('df-c37e46cc-4c4e-4136-805b-ca610206b156')\"\n",
              "              title=\"Convert this dataframe to an interactive table.\"\n",
              "              style=\"display:none;\">\n",
              "        \n",
              "  <svg xmlns=\"http://www.w3.org/2000/svg\" height=\"24px\"viewBox=\"0 0 24 24\"\n",
              "       width=\"24px\">\n",
              "    <path d=\"M0 0h24v24H0V0z\" fill=\"none\"/>\n",
              "    <path d=\"M18.56 5.44l.94 2.06.94-2.06 2.06-.94-2.06-.94-.94-2.06-.94 2.06-2.06.94zm-11 1L8.5 8.5l.94-2.06 2.06-.94-2.06-.94L8.5 2.5l-.94 2.06-2.06.94zm10 10l.94 2.06.94-2.06 2.06-.94-2.06-.94-.94-2.06-.94 2.06-2.06.94z\"/><path d=\"M17.41 7.96l-1.37-1.37c-.4-.4-.92-.59-1.43-.59-.52 0-1.04.2-1.43.59L10.3 9.45l-7.72 7.72c-.78.78-.78 2.05 0 2.83L4 21.41c.39.39.9.59 1.41.59.51 0 1.02-.2 1.41-.59l7.78-7.78 2.81-2.81c.8-.78.8-2.07 0-2.86zM5.41 20L4 18.59l7.72-7.72 1.47 1.35L5.41 20z\"/>\n",
              "  </svg>\n",
              "      </button>\n",
              "      \n",
              "  <style>\n",
              "    .colab-df-container {\n",
              "      display:flex;\n",
              "      flex-wrap:wrap;\n",
              "      gap: 12px;\n",
              "    }\n",
              "\n",
              "    .colab-df-convert {\n",
              "      background-color: #E8F0FE;\n",
              "      border: none;\n",
              "      border-radius: 50%;\n",
              "      cursor: pointer;\n",
              "      display: none;\n",
              "      fill: #1967D2;\n",
              "      height: 32px;\n",
              "      padding: 0 0 0 0;\n",
              "      width: 32px;\n",
              "    }\n",
              "\n",
              "    .colab-df-convert:hover {\n",
              "      background-color: #E2EBFA;\n",
              "      box-shadow: 0px 1px 2px rgba(60, 64, 67, 0.3), 0px 1px 3px 1px rgba(60, 64, 67, 0.15);\n",
              "      fill: #174EA6;\n",
              "    }\n",
              "\n",
              "    [theme=dark] .colab-df-convert {\n",
              "      background-color: #3B4455;\n",
              "      fill: #D2E3FC;\n",
              "    }\n",
              "\n",
              "    [theme=dark] .colab-df-convert:hover {\n",
              "      background-color: #434B5C;\n",
              "      box-shadow: 0px 1px 3px 1px rgba(0, 0, 0, 0.15);\n",
              "      filter: drop-shadow(0px 1px 2px rgba(0, 0, 0, 0.3));\n",
              "      fill: #FFFFFF;\n",
              "    }\n",
              "  </style>\n",
              "\n",
              "      <script>\n",
              "        const buttonEl =\n",
              "          document.querySelector('#df-c37e46cc-4c4e-4136-805b-ca610206b156 button.colab-df-convert');\n",
              "        buttonEl.style.display =\n",
              "          google.colab.kernel.accessAllowed ? 'block' : 'none';\n",
              "\n",
              "        async function convertToInteractive(key) {\n",
              "          const element = document.querySelector('#df-c37e46cc-4c4e-4136-805b-ca610206b156');\n",
              "          const dataTable =\n",
              "            await google.colab.kernel.invokeFunction('convertToInteractive',\n",
              "                                                     [key], {});\n",
              "          if (!dataTable) return;\n",
              "\n",
              "          const docLinkHtml = 'Like what you see? Visit the ' +\n",
              "            '<a target=\"_blank\" href=https://colab.research.google.com/notebooks/data_table.ipynb>data table notebook</a>'\n",
              "            + ' to learn more about interactive tables.';\n",
              "          element.innerHTML = '';\n",
              "          dataTable['output_type'] = 'display_data';\n",
              "          await google.colab.output.renderOutput(dataTable, element);\n",
              "          const docLink = document.createElement('div');\n",
              "          docLink.innerHTML = docLinkHtml;\n",
              "          element.appendChild(docLink);\n",
              "        }\n",
              "      </script>\n",
              "    </div>\n",
              "  </div>\n",
              "  "
            ]
          },
          "metadata": {},
          "execution_count": 35
        }
      ]
    },
    {
      "cell_type": "markdown",
      "source": [
        "Fazer\n",
        "\n",
        "\n",
        "- se veiculo não existe:\n",
        "\n",
        "  então:\n",
        "      add\n",
        "  senão \n",
        "\n",
        "  se ele foi atualizado a mais de um minuto\n",
        "  então: \n",
        "      atualiza\n",
        "      "
      ],
      "metadata": {
        "id": "xeauggWH0txN"
      }
    },
    {
      "cell_type": "code",
      "source": [
        "data.coleta_atual"
      ],
      "metadata": {
        "id": "hA0b4HI5y4Zh"
      },
      "execution_count": null,
      "outputs": []
    },
    {
      "cell_type": "code",
      "source": [
        "print('atualizando os dados')"
      ],
      "metadata": {
        "id": "IegVS37syowI"
      },
      "execution_count": null,
      "outputs": []
    },
    {
      "cell_type": "code",
      "source": [
        "'90002' in data.vei_nro_gestor.values "
      ],
      "metadata": {
        "colab": {
          "base_uri": "https://localhost:8080/"
        },
        "id": "y_Qd-f_5usyw",
        "outputId": "f4e408aa-e644-4d8d-a86d-9e14e6aedac2"
      },
      "execution_count": null,
      "outputs": [
        {
          "output_type": "execute_result",
          "data": {
            "text/plain": [
              "True"
            ]
          },
          "metadata": {},
          "execution_count": 43
        }
      ]
    },
    {
      "cell_type": "code",
      "source": [
        "data.vei_nro_gestor.values"
      ],
      "metadata": {
        "colab": {
          "base_uri": "https://localhost:8080/"
        },
        "id": "eO0DGDG1vgId",
        "outputId": "7240fc20-92bb-4754-ac0b-ce0aaa1aefcb"
      },
      "execution_count": null,
      "outputs": [
        {
          "output_type": "execute_result",
          "data": {
            "text/plain": [
              "array(['30525', '30514', '13422', '12701', '90002', '13406', '12737',\n",
              "       '44732', '30531', '13413', '90005', '47006', '13414', '47009',\n",
              "       '30510', '27173', '13423', '27202', '12728', '30520', '30542',\n",
              "       '86863', '30537', '47024', '44705', '12713', '27201', '86872',\n",
              "       '30519', '47001', '86809', '47008', '47023', '44704', '47005',\n",
              "       '30511', '12731', '12720', '13403', '12707', '12716', '12724',\n",
              "       '12705', '13408', '13418', '12712', '47007', '47030', '47021',\n",
              "       '30518'], dtype=object)"
            ]
          },
          "metadata": {},
          "execution_count": 42
        }
      ]
    },
    {
      "cell_type": "code",
      "source": [
        "!git clone --depth 1 https://github.com/PrefectHQ/prefect.git"
      ],
      "metadata": {
        "colab": {
          "base_uri": "https://localhost:8080/"
        },
        "id": "q5YRjcES1a-Y",
        "outputId": "611c1ed3-8aed-4298-a6d1-4b147d0e7710"
      },
      "execution_count": null,
      "outputs": [
        {
          "output_type": "stream",
          "name": "stdout",
          "text": [
            "Cloning into 'prefect'...\n",
            "remote: Enumerating objects: 933, done.\u001b[K\n",
            "remote: Counting objects: 100% (933/933), done.\u001b[K\n",
            "remote: Compressing objects: 100% (809/809), done.\u001b[K\n",
            "remote: Total 933 (delta 122), reused 460 (delta 77), pack-reused 0\u001b[K\n",
            "Receiving objects: 100% (933/933), 9.27 MiB | 30.62 MiB/s, done.\n",
            "Resolving deltas: 100% (122/122), done.\n"
          ]
        }
      ]
    },
    {
      "cell_type": "code",
      "source": [
        "%cd prefect/\n",
        "!ls"
      ],
      "metadata": {
        "colab": {
          "base_uri": "https://localhost:8080/"
        },
        "id": "JAKKceQv1gEL",
        "outputId": "94cbe42e-5c3f-4ddb-80f4-eef83df82dab"
      },
      "execution_count": null,
      "outputs": [
        {
          "output_type": "stream",
          "name": "stdout",
          "text": [
            "/content/prefect\n",
            "docker-compose.yml  mkdocs.insiders.yml  RELEASE-NOTES.md      setup.cfg\n",
            "Dockerfile\t    mkdocs.yml\t\t requirements-dev.txt  setup.py\n",
            "docs\t\t    netlify.toml\t requirements.txt      src\n",
            "LICENSE\t\t    orion-ui\t\t runtime.txt\t       tests\n",
            "MANIFEST.in\t    README.md\t\t scripts\t       versioneer.py\n"
          ]
        }
      ]
    },
    {
      "cell_type": "code",
      "source": [
        "import requests\n",
        "import json\n",
        "import pandas as pd\n",
        "import datetime\n",
        "import time\n",
        "\n",
        "instante = datetime.datetime.now()\n",
        "url_api = \"http://citgisbrj.tacom.srv.br:9977/gtfs-realtime-exporter/findAll/json\"\n",
        "r = requests.get(url_api)\n",
        "\n",
        "#json_request = json.loads(r.text)\n",
        "\n",
        "#data = pd.DataFrame.from_dict(json_request, orient='columns')\n",
        "#data['coleta_atual'] = instante\n",
        "\n",
        "#data.head(5)\n",
        "\n",
        "#response_list = []\n"
      ],
      "metadata": {
        "id": "UaX39sYTb492"
      },
      "execution_count": null,
      "outputs": []
    }
  ]
}