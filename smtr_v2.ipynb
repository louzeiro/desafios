{
  "nbformat": 4,
  "nbformat_minor": 0,
  "metadata": {
    "colab": {
      "name": "smtr_v2.ipynb",
      "provenance": [],
      "collapsed_sections": [],
      "authorship_tag": "ABX9TyNY8mP5z7q2iWcZlhjMd8fq",
      "include_colab_link": true
    },
    "kernelspec": {
      "name": "python3",
      "display_name": "Python 3"
    },
    "language_info": {
      "name": "python"
    }
  },
  "cells": [
    {
      "cell_type": "markdown",
      "metadata": {
        "id": "view-in-github",
        "colab_type": "text"
      },
      "source": [
        "<a href=\"https://colab.research.google.com/github/louzeiro/desafios/blob/main/smtr_v2.ipynb\" target=\"_parent\"><img src=\"https://colab.research.google.com/assets/colab-badge.svg\" alt=\"Open In Colab\"/></a>"
      ]
    },
    {
      "cell_type": "markdown",
      "source": [
        "# Prefect\n",
        "\n",
        "Tutorial seguido:<br>\n",
        "https://towardsdatascience.com/prefect-how-to-write-and-schedule-your-first-etl-pipeline-with-python-54005a34f10b"
      ],
      "metadata": {
        "id": "Y6Wuc6fzzqBd"
      }
    },
    {
      "cell_type": "code",
      "source": [
        "!pip3 install prefect==1.2.4"
      ],
      "metadata": {
        "id": "tSGVLqlmsgd3",
        "colab": {
          "base_uri": "https://localhost:8080/"
        },
        "outputId": "760e4f64-bc78-4652-a51e-ed4d012c3395"
      },
      "execution_count": 1,
      "outputs": [
        {
          "output_type": "stream",
          "name": "stdout",
          "text": [
            "Looking in indexes: https://pypi.org/simple, https://us-python.pkg.dev/colab-wheels/public/simple/\n",
            "Requirement already satisfied: prefect==1.2.4 in /usr/local/lib/python3.7/dist-packages (1.2.4)\n",
            "Requirement already satisfied: docker>=3.4.1 in /usr/local/lib/python3.7/dist-packages (from prefect==1.2.4) (5.0.3)\n",
            "Requirement already satisfied: python-box>=5.1.0 in /usr/local/lib/python3.7/dist-packages (from prefect==1.2.4) (6.0.2)\n",
            "Requirement already satisfied: pyyaml>=3.13 in /usr/local/lib/python3.7/dist-packages (from prefect==1.2.4) (6.0)\n",
            "Requirement already satisfied: mypy-extensions>=0.4.0 in /usr/local/lib/python3.7/dist-packages (from prefect==1.2.4) (0.4.3)\n",
            "Requirement already satisfied: importlib-resources>=3.0.0 in /usr/local/lib/python3.7/dist-packages (from prefect==1.2.4) (5.9.0)\n",
            "Requirement already satisfied: croniter>=0.3.24 in /usr/local/lib/python3.7/dist-packages (from prefect==1.2.4) (1.3.5)\n",
            "Requirement already satisfied: toml>=0.9.4 in /usr/local/lib/python3.7/dist-packages (from prefect==1.2.4) (0.10.2)\n",
            "Requirement already satisfied: marshmallow>=3.0.0b19 in /usr/local/lib/python3.7/dist-packages (from prefect==1.2.4) (3.17.0)\n",
            "Requirement already satisfied: click>=7.0 in /usr/local/lib/python3.7/dist-packages (from prefect==1.2.4) (8.1.3)\n",
            "Requirement already satisfied: pytz>=2018.7 in /usr/local/lib/python3.7/dist-packages (from prefect==1.2.4) (2022.1)\n",
            "Requirement already satisfied: dask>=2021.06.0 in /usr/local/lib/python3.7/dist-packages (from prefect==1.2.4) (2022.2.0)\n",
            "Requirement already satisfied: marshmallow-oneofschema>=2.0.0b2 in /usr/local/lib/python3.7/dist-packages (from prefect==1.2.4) (3.0.1)\n",
            "Requirement already satisfied: packaging>=20.0 in /usr/local/lib/python3.7/dist-packages (from prefect==1.2.4) (21.3)\n",
            "Requirement already satisfied: requests>=2.25 in /usr/local/lib/python3.7/dist-packages (from prefect==1.2.4) (2.28.1)\n",
            "Requirement already satisfied: pendulum>=2.0.4 in /usr/local/lib/python3.7/dist-packages (from prefect==1.2.4) (2.1.2)\n",
            "Requirement already satisfied: urllib3>=1.26.0 in /usr/local/lib/python3.7/dist-packages (from prefect==1.2.4) (1.26.11)\n",
            "Requirement already satisfied: distributed>=2.17.0 in /usr/local/lib/python3.7/dist-packages (from prefect==1.2.4) (2022.2.0)\n",
            "Requirement already satisfied: tabulate>=0.8.0 in /usr/local/lib/python3.7/dist-packages (from prefect==1.2.4) (0.8.10)\n",
            "Requirement already satisfied: msgpack>=0.6.0 in /usr/local/lib/python3.7/dist-packages (from prefect==1.2.4) (1.0.4)\n",
            "Requirement already satisfied: python-dateutil>=2.7.0 in /usr/local/lib/python3.7/dist-packages (from prefect==1.2.4) (2.8.2)\n",
            "Requirement already satisfied: cloudpickle>=1.3.0 in /usr/local/lib/python3.7/dist-packages (from prefect==1.2.4) (2.1.0)\n",
            "Requirement already satisfied: python-slugify>=1.2.6 in /usr/local/lib/python3.7/dist-packages (from prefect==1.2.4) (6.1.2)\n",
            "Requirement already satisfied: importlib-metadata in /usr/local/lib/python3.7/dist-packages (from click>=7.0->prefect==1.2.4) (4.12.0)\n",
            "Requirement already satisfied: toolz>=0.8.2 in /usr/local/lib/python3.7/dist-packages (from dask>=2021.06.0->prefect==1.2.4) (0.12.0)\n",
            "Requirement already satisfied: partd>=0.3.10 in /usr/local/lib/python3.7/dist-packages (from dask>=2021.06.0->prefect==1.2.4) (1.3.0)\n",
            "Requirement already satisfied: fsspec>=0.6.0 in /usr/local/lib/python3.7/dist-packages (from dask>=2021.06.0->prefect==1.2.4) (2022.7.1)\n",
            "Requirement already satisfied: psutil>=5.0 in /usr/local/lib/python3.7/dist-packages (from distributed>=2.17.0->prefect==1.2.4) (5.4.8)\n",
            "Requirement already satisfied: tornado>=5 in /usr/local/lib/python3.7/dist-packages (from distributed>=2.17.0->prefect==1.2.4) (5.1.1)\n",
            "Requirement already satisfied: setuptools in /usr/local/lib/python3.7/dist-packages (from distributed>=2.17.0->prefect==1.2.4) (57.4.0)\n",
            "Requirement already satisfied: tblib>=1.6.0 in /usr/local/lib/python3.7/dist-packages (from distributed>=2.17.0->prefect==1.2.4) (1.7.0)\n",
            "Requirement already satisfied: sortedcontainers!=2.0.0,!=2.0.1 in /usr/local/lib/python3.7/dist-packages (from distributed>=2.17.0->prefect==1.2.4) (2.4.0)\n",
            "Requirement already satisfied: zict>=0.1.3 in /usr/local/lib/python3.7/dist-packages (from distributed>=2.17.0->prefect==1.2.4) (2.2.0)\n",
            "Requirement already satisfied: jinja2 in /usr/local/lib/python3.7/dist-packages (from distributed>=2.17.0->prefect==1.2.4) (2.11.3)\n",
            "Requirement already satisfied: websocket-client>=0.32.0 in /usr/local/lib/python3.7/dist-packages (from docker>=3.4.1->prefect==1.2.4) (1.3.3)\n",
            "Requirement already satisfied: zipp>=3.1.0 in /usr/local/lib/python3.7/dist-packages (from importlib-resources>=3.0.0->prefect==1.2.4) (3.8.1)\n",
            "Requirement already satisfied: pyparsing!=3.0.5,>=2.0.2 in /usr/local/lib/python3.7/dist-packages (from packaging>=20.0->prefect==1.2.4) (3.0.9)\n",
            "Requirement already satisfied: locket in /usr/local/lib/python3.7/dist-packages (from partd>=0.3.10->dask>=2021.06.0->prefect==1.2.4) (1.0.0)\n",
            "Requirement already satisfied: pytzdata>=2020.1 in /usr/local/lib/python3.7/dist-packages (from pendulum>=2.0.4->prefect==1.2.4) (2020.1)\n",
            "Requirement already satisfied: six>=1.5 in /usr/local/lib/python3.7/dist-packages (from python-dateutil>=2.7.0->prefect==1.2.4) (1.15.0)\n",
            "Requirement already satisfied: text-unidecode>=1.3 in /usr/local/lib/python3.7/dist-packages (from python-slugify>=1.2.6->prefect==1.2.4) (1.3)\n",
            "Requirement already satisfied: idna<4,>=2.5 in /usr/local/lib/python3.7/dist-packages (from requests>=2.25->prefect==1.2.4) (2.10)\n",
            "Requirement already satisfied: charset-normalizer<3,>=2 in /usr/local/lib/python3.7/dist-packages (from requests>=2.25->prefect==1.2.4) (2.1.0)\n",
            "Requirement already satisfied: certifi>=2017.4.17 in /usr/local/lib/python3.7/dist-packages (from requests>=2.25->prefect==1.2.4) (2022.6.15)\n",
            "Requirement already satisfied: heapdict in /usr/local/lib/python3.7/dist-packages (from zict>=0.1.3->distributed>=2.17.0->prefect==1.2.4) (1.0.1)\n",
            "Requirement already satisfied: typing-extensions>=3.6.4 in /usr/local/lib/python3.7/dist-packages (from importlib-metadata->click>=7.0->prefect==1.2.4) (4.1.1)\n",
            "Requirement already satisfied: MarkupSafe>=0.23 in /usr/local/lib/python3.7/dist-packages (from jinja2->distributed>=2.17.0->prefect==1.2.4) (2.0.1)\n"
          ]
        }
      ]
    },
    {
      "cell_type": "code",
      "source": [
        "import json\n",
        "import requests\n",
        "import pandas as pd\n",
        "from datetime import datetime, timedelta\n",
        "import pytz\n",
        "import prefect\n",
        "from prefect import task, Flow, Parameter\n",
        "from prefect.schedules import IntervalSchedule\n",
        "\n",
        "\n",
        "tz = pytz.timezone('America/Sao_Paulo')\n",
        "\n",
        "scheduler = IntervalSchedule(\n",
        "    interval=timedelta(seconds=10)\n",
        ")\n",
        "var_downtime=60\n",
        "data_updated = pd.DataFrame()  # iniciando um df vazio"
      ],
      "metadata": {
        "id": "yj3EkPkqu1jb"
      },
      "execution_count": 11,
      "outputs": []
    },
    {
      "cell_type": "code",
      "source": [
        "@task(max_retries=10, retry_delay=timedelta(seconds=10)) # realizar tentativas em 10 segundos\n",
        "def extract(url: str) -> dict:\n",
        "    res = requests.get(url)\n",
        "    if not res:\n",
        "        raise Exception('Sem dados!')\n",
        "    return json.loads(res.content)"
      ],
      "metadata": {
        "id": "7R-cpCpuzlYM"
      },
      "execution_count": 3,
      "outputs": []
    },
    {
      "cell_type": "code",
      "source": [
        "@task\n",
        "def transform(data: dict) -> pd.DataFrame:\n",
        "    instante = datetime.now(tz=tz)\n",
        "    transformed = []\n",
        "    for veiculo in data:\n",
        "        transformed.append({\n",
        "            'longitude': veiculo['longitude'],\n",
        "            'latitude': veiculo['latitude'],\n",
        "            'vei_nro_gestor': veiculo['vei_nro_gestor'],\n",
        "            'direcao': veiculo['direcao'],\n",
        "            'velocidade': veiculo['velocidade'],\n",
        "            'inicio_viagem': veiculo['inicio_viagem'],\n",
        "            'linha': veiculo['linha'],\n",
        "            'nomeLinha': veiculo['nomeLinha'],\n",
        "            'nomeItinerario': veiculo['nomeItinerario'],\n",
        "            'comunicacao': veiculo['comunicacao'],\n",
        "             'info_coleta': instante\n",
        "        })\n",
        "    \n",
        "    return pd.DataFrame(transformed)"
      ],
      "metadata": {
        "id": "VNGlV7rizsJS"
      },
      "execution_count": 4,
      "outputs": []
    },
    {
      "cell_type": "code",
      "source": [
        "@task\n",
        "def clear_data(data_aux: pd.DataFrame,\n",
        "               data_updated: pd.DataFrame,\n",
        "               var_downtime: int) -> pd.DataFrame:\n",
        "  \n",
        "  if (data_updated.empty): # verificando se o dataframe foi alimentado\n",
        "    return data_aux        # retorna o dataframe auxiliar\n",
        "  \n",
        "  else:\n",
        "    #var_downtime = 60\n",
        "    for idx in data_aux.index:\n",
        "      # verificando se o veículo está no dataframe antigo\n",
        "      if not data_aux.vei_nro_gestor[idx] in data_updated.vei_nro_gestor.values:\n",
        "        new_vehicle = data_aux.loc[data_aux.vei_nro_gestor==data_aux.vei_nro_gestor[idx]]\n",
        "        data_updated = data_updated.append(new_vehicle, ignore_index=True)\n",
        "        #print(f'O veículo {str(new_vehicle.vei_nro_gestor.values)} foi adicionado ao dataframe')\n",
        "      \n",
        "      # O veiculo já está no dataframe atualizado\n",
        "      else:\n",
        "        # salvando a sua posição no dataframe anterior\n",
        "        idx_vehicle = data_updated[data_updated['vei_nro_gestor']==data_aux['vei_nro_gestor'][idx]].index.values\n",
        "\n",
        "        # verificando se houve atualização nas coordenadas do veículo\n",
        "        if(data_updated.loc[idx_vehicle].longitude.values !=data_aux.loc[idx].longitude or\n",
        "           data_updated.loc[idx_vehicle].latitude.values !=data_aux.loc[idx].latitude):\n",
        "          #atualizando no dataframe as infos do veiculo\n",
        "          data_updated.loc[idx_vehicle] = data_aux.loc[idx].values\n",
        "          #print(f'O veículo {str(data_updated.loc[idx_vehicle].vei_nro_gestor.values)} está em circulação e suas informações foram atualizadas')\n",
        "\n",
        "        # não houve atualização nas coordenadas, verificar o tempo parado           \n",
        "        else:\n",
        "          downtime = data_aux.loc[idx].info_coleta - data_updated.loc[idx_vehicle].info_coleta\n",
        "          if (float(downtime.dt.total_seconds()) > var_downtime):\n",
        "            print(f'O veículo {str(data_updated.loc[idx_vehicle].vei_nro_gestor.values)} está parado a {float(downtime.dt.total_seconds())} segundos, então foi removido do dataframe')\n",
        "            data_updated.drop(idx_vehicle, axis=0, inplace=True)\n",
        "    \n",
        "    return data_updated\n"
      ],
      "metadata": {
        "id": "ZTjs6V0gV4qo"
      },
      "execution_count": 5,
      "outputs": []
    },
    {
      "cell_type": "code",
      "source": [
        "@task\n",
        "def load(data: pd.DataFrame, path: str) -> None:\n",
        "    data.to_csv(path_or_buf=path, index=False)"
      ],
      "metadata": {
        "id": "92qqA7ha2qqH"
      },
      "execution_count": 6,
      "outputs": []
    },
    {
      "cell_type": "code",
      "source": [
        "def prefect_flow(data_updated: pd.DataFrame, var_downtime: int):\n",
        "    with Flow(name='smtr_veiculos_etl', schedule=scheduler) as flow:\n",
        "\n",
        "        veiculos = extract(url='http://citgisbrj.tacom.srv.br:9977/gtfs-realtime-exporter/findAll/json')\n",
        "        data_aux = transform(veiculos)\n",
        "\n",
        "        data_updated = clear_data(data_aux=data_aux,\n",
        "                                  data_updated = data_updated,\n",
        "                                  var_downtime = var_downtime)\n",
        "        \n",
        "        load(data=data_updated, path=f'veiculos_{datetime.now(tz=tz).strftime(\"%Y-%m-%d_%H:%M:%S.%f\")[:-3]}.csv')\n",
        "    \n",
        "    return flow"
      ],
      "metadata": {
        "id": "aHRlsSzd1H6r"
      },
      "execution_count": 9,
      "outputs": []
    },
    {
      "cell_type": "code",
      "source": [
        "if __name__ == '__main__':\n",
        "    flow = prefect_flow(data_updated=data_updated, var_downtime=var_downtime)\n",
        "    flow.run()"
      ],
      "metadata": {
        "colab": {
          "base_uri": "https://localhost:8080/"
        },
        "id": "46G3xeiK52nE",
        "outputId": "be2308b6-8046-4bd8-d184-667e31427f7d"
      },
      "execution_count": null,
      "outputs": [
        {
          "output_type": "stream",
          "name": "stdout",
          "text": [
            "[2022-08-16 23:21:52+0000] INFO - prefect.smtr_veiculos_etl | Waiting for next scheduled run at 2022-08-16T23:22:00+00:00\n"
          ]
        },
        {
          "output_type": "stream",
          "name": "stderr",
          "text": [
            "INFO:prefect.smtr_veiculos_etl:Waiting for next scheduled run at 2022-08-16T23:22:00+00:00\n"
          ]
        },
        {
          "output_type": "stream",
          "name": "stdout",
          "text": [
            "[2022-08-16 23:22:00+0000] INFO - prefect.FlowRunner | Beginning Flow run for 'smtr_veiculos_etl'\n"
          ]
        },
        {
          "output_type": "stream",
          "name": "stderr",
          "text": [
            "INFO:prefect.FlowRunner:Beginning Flow run for 'smtr_veiculos_etl'\n"
          ]
        },
        {
          "output_type": "stream",
          "name": "stdout",
          "text": [
            "[2022-08-16 23:22:00+0000] INFO - prefect.TaskRunner | Task 'extract': Starting task run...\n"
          ]
        },
        {
          "output_type": "stream",
          "name": "stderr",
          "text": [
            "INFO:prefect.TaskRunner:Task 'extract': Starting task run...\n"
          ]
        },
        {
          "output_type": "stream",
          "name": "stdout",
          "text": [
            "[2022-08-16 23:22:01+0000] INFO - prefect.TaskRunner | Task 'extract': Finished task run for task with final state: 'Success'\n"
          ]
        },
        {
          "output_type": "stream",
          "name": "stderr",
          "text": [
            "INFO:prefect.TaskRunner:Task 'extract': Finished task run for task with final state: 'Success'\n"
          ]
        },
        {
          "output_type": "stream",
          "name": "stdout",
          "text": [
            "[2022-08-16 23:22:01+0000] INFO - prefect.TaskRunner | Task 'transform': Starting task run...\n"
          ]
        },
        {
          "output_type": "stream",
          "name": "stderr",
          "text": [
            "INFO:prefect.TaskRunner:Task 'transform': Starting task run...\n"
          ]
        },
        {
          "output_type": "stream",
          "name": "stdout",
          "text": [
            "[2022-08-16 23:22:01+0000] INFO - prefect.TaskRunner | Task 'transform': Finished task run for task with final state: 'Success'\n"
          ]
        },
        {
          "output_type": "stream",
          "name": "stderr",
          "text": [
            "INFO:prefect.TaskRunner:Task 'transform': Finished task run for task with final state: 'Success'\n"
          ]
        },
        {
          "output_type": "stream",
          "name": "stdout",
          "text": [
            "[2022-08-16 23:22:01+0000] INFO - prefect.TaskRunner | Task 'clear_data': Starting task run...\n"
          ]
        },
        {
          "output_type": "stream",
          "name": "stderr",
          "text": [
            "INFO:prefect.TaskRunner:Task 'clear_data': Starting task run...\n"
          ]
        },
        {
          "output_type": "stream",
          "name": "stdout",
          "text": [
            "[2022-08-16 23:22:01+0000] INFO - prefect.TaskRunner | Task 'clear_data': Finished task run for task with final state: 'Success'\n"
          ]
        },
        {
          "output_type": "stream",
          "name": "stderr",
          "text": [
            "INFO:prefect.TaskRunner:Task 'clear_data': Finished task run for task with final state: 'Success'\n"
          ]
        },
        {
          "output_type": "stream",
          "name": "stdout",
          "text": [
            "[2022-08-16 23:22:01+0000] INFO - prefect.TaskRunner | Task 'load': Starting task run...\n"
          ]
        },
        {
          "output_type": "stream",
          "name": "stderr",
          "text": [
            "INFO:prefect.TaskRunner:Task 'load': Starting task run...\n"
          ]
        },
        {
          "output_type": "stream",
          "name": "stdout",
          "text": [
            "[2022-08-16 23:22:01+0000] INFO - prefect.TaskRunner | Task 'load': Finished task run for task with final state: 'Success'\n"
          ]
        },
        {
          "output_type": "stream",
          "name": "stderr",
          "text": [
            "INFO:prefect.TaskRunner:Task 'load': Finished task run for task with final state: 'Success'\n"
          ]
        },
        {
          "output_type": "stream",
          "name": "stdout",
          "text": [
            "[2022-08-16 23:22:01+0000] INFO - prefect.FlowRunner | Flow run SUCCESS: all reference tasks succeeded\n"
          ]
        },
        {
          "output_type": "stream",
          "name": "stderr",
          "text": [
            "INFO:prefect.FlowRunner:Flow run SUCCESS: all reference tasks succeeded\n"
          ]
        },
        {
          "output_type": "stream",
          "name": "stdout",
          "text": [
            "[2022-08-16 23:22:01+0000] INFO - prefect.smtr_veiculos_etl | Waiting for next scheduled run at 2022-08-16T23:22:10+00:00\n"
          ]
        },
        {
          "output_type": "stream",
          "name": "stderr",
          "text": [
            "INFO:prefect.smtr_veiculos_etl:Waiting for next scheduled run at 2022-08-16T23:22:10+00:00\n"
          ]
        },
        {
          "output_type": "stream",
          "name": "stdout",
          "text": [
            "[2022-08-16 23:22:10+0000] INFO - prefect.FlowRunner | Beginning Flow run for 'smtr_veiculos_etl'\n"
          ]
        },
        {
          "output_type": "stream",
          "name": "stderr",
          "text": [
            "INFO:prefect.FlowRunner:Beginning Flow run for 'smtr_veiculos_etl'\n"
          ]
        },
        {
          "output_type": "stream",
          "name": "stdout",
          "text": [
            "[2022-08-16 23:22:10+0000] INFO - prefect.TaskRunner | Task 'extract': Starting task run...\n"
          ]
        },
        {
          "output_type": "stream",
          "name": "stderr",
          "text": [
            "INFO:prefect.TaskRunner:Task 'extract': Starting task run...\n"
          ]
        },
        {
          "output_type": "stream",
          "name": "stdout",
          "text": [
            "[2022-08-16 23:22:10+0000] INFO - prefect.TaskRunner | Task 'extract': Finished task run for task with final state: 'Success'\n"
          ]
        },
        {
          "output_type": "stream",
          "name": "stderr",
          "text": [
            "INFO:prefect.TaskRunner:Task 'extract': Finished task run for task with final state: 'Success'\n"
          ]
        },
        {
          "output_type": "stream",
          "name": "stdout",
          "text": [
            "[2022-08-16 23:22:10+0000] INFO - prefect.TaskRunner | Task 'transform': Starting task run...\n"
          ]
        },
        {
          "output_type": "stream",
          "name": "stderr",
          "text": [
            "INFO:prefect.TaskRunner:Task 'transform': Starting task run...\n"
          ]
        },
        {
          "output_type": "stream",
          "name": "stdout",
          "text": [
            "[2022-08-16 23:22:10+0000] INFO - prefect.TaskRunner | Task 'transform': Finished task run for task with final state: 'Success'\n"
          ]
        },
        {
          "output_type": "stream",
          "name": "stderr",
          "text": [
            "INFO:prefect.TaskRunner:Task 'transform': Finished task run for task with final state: 'Success'\n"
          ]
        },
        {
          "output_type": "stream",
          "name": "stdout",
          "text": [
            "[2022-08-16 23:22:10+0000] INFO - prefect.TaskRunner | Task 'clear_data': Starting task run...\n"
          ]
        },
        {
          "output_type": "stream",
          "name": "stderr",
          "text": [
            "INFO:prefect.TaskRunner:Task 'clear_data': Starting task run...\n"
          ]
        },
        {
          "output_type": "stream",
          "name": "stdout",
          "text": [
            "[2022-08-16 23:22:10+0000] INFO - prefect.TaskRunner | Task 'clear_data': Finished task run for task with final state: 'Success'\n"
          ]
        },
        {
          "output_type": "stream",
          "name": "stderr",
          "text": [
            "INFO:prefect.TaskRunner:Task 'clear_data': Finished task run for task with final state: 'Success'\n"
          ]
        },
        {
          "output_type": "stream",
          "name": "stdout",
          "text": [
            "[2022-08-16 23:22:10+0000] INFO - prefect.TaskRunner | Task 'load': Starting task run...\n"
          ]
        },
        {
          "output_type": "stream",
          "name": "stderr",
          "text": [
            "INFO:prefect.TaskRunner:Task 'load': Starting task run...\n"
          ]
        },
        {
          "output_type": "stream",
          "name": "stdout",
          "text": [
            "[2022-08-16 23:22:10+0000] INFO - prefect.TaskRunner | Task 'load': Finished task run for task with final state: 'Success'\n"
          ]
        },
        {
          "output_type": "stream",
          "name": "stderr",
          "text": [
            "INFO:prefect.TaskRunner:Task 'load': Finished task run for task with final state: 'Success'\n"
          ]
        },
        {
          "output_type": "stream",
          "name": "stdout",
          "text": [
            "[2022-08-16 23:22:10+0000] INFO - prefect.FlowRunner | Flow run SUCCESS: all reference tasks succeeded\n"
          ]
        },
        {
          "output_type": "stream",
          "name": "stderr",
          "text": [
            "INFO:prefect.FlowRunner:Flow run SUCCESS: all reference tasks succeeded\n"
          ]
        },
        {
          "output_type": "stream",
          "name": "stdout",
          "text": [
            "[2022-08-16 23:22:10+0000] INFO - prefect.smtr_veiculos_etl | Waiting for next scheduled run at 2022-08-16T23:22:20+00:00\n"
          ]
        },
        {
          "output_type": "stream",
          "name": "stderr",
          "text": [
            "INFO:prefect.smtr_veiculos_etl:Waiting for next scheduled run at 2022-08-16T23:22:20+00:00\n"
          ]
        },
        {
          "output_type": "stream",
          "name": "stdout",
          "text": [
            "[2022-08-16 23:22:20+0000] INFO - prefect.FlowRunner | Beginning Flow run for 'smtr_veiculos_etl'\n"
          ]
        },
        {
          "output_type": "stream",
          "name": "stderr",
          "text": [
            "INFO:prefect.FlowRunner:Beginning Flow run for 'smtr_veiculos_etl'\n"
          ]
        },
        {
          "output_type": "stream",
          "name": "stdout",
          "text": [
            "[2022-08-16 23:22:20+0000] INFO - prefect.TaskRunner | Task 'extract': Starting task run...\n"
          ]
        },
        {
          "output_type": "stream",
          "name": "stderr",
          "text": [
            "INFO:prefect.TaskRunner:Task 'extract': Starting task run...\n"
          ]
        },
        {
          "output_type": "stream",
          "name": "stdout",
          "text": [
            "[2022-08-16 23:22:20+0000] INFO - prefect.TaskRunner | Task 'extract': Finished task run for task with final state: 'Success'\n"
          ]
        },
        {
          "output_type": "stream",
          "name": "stderr",
          "text": [
            "INFO:prefect.TaskRunner:Task 'extract': Finished task run for task with final state: 'Success'\n"
          ]
        },
        {
          "output_type": "stream",
          "name": "stdout",
          "text": [
            "[2022-08-16 23:22:20+0000] INFO - prefect.TaskRunner | Task 'transform': Starting task run...\n"
          ]
        },
        {
          "output_type": "stream",
          "name": "stderr",
          "text": [
            "INFO:prefect.TaskRunner:Task 'transform': Starting task run...\n"
          ]
        },
        {
          "output_type": "stream",
          "name": "stdout",
          "text": [
            "[2022-08-16 23:22:20+0000] INFO - prefect.TaskRunner | Task 'transform': Finished task run for task with final state: 'Success'\n"
          ]
        },
        {
          "output_type": "stream",
          "name": "stderr",
          "text": [
            "INFO:prefect.TaskRunner:Task 'transform': Finished task run for task with final state: 'Success'\n"
          ]
        },
        {
          "output_type": "stream",
          "name": "stdout",
          "text": [
            "[2022-08-16 23:22:20+0000] INFO - prefect.TaskRunner | Task 'clear_data': Starting task run...\n"
          ]
        },
        {
          "output_type": "stream",
          "name": "stderr",
          "text": [
            "INFO:prefect.TaskRunner:Task 'clear_data': Starting task run...\n"
          ]
        },
        {
          "output_type": "stream",
          "name": "stdout",
          "text": [
            "[2022-08-16 23:22:20+0000] INFO - prefect.TaskRunner | Task 'clear_data': Finished task run for task with final state: 'Success'\n"
          ]
        },
        {
          "output_type": "stream",
          "name": "stderr",
          "text": [
            "INFO:prefect.TaskRunner:Task 'clear_data': Finished task run for task with final state: 'Success'\n"
          ]
        },
        {
          "output_type": "stream",
          "name": "stdout",
          "text": [
            "[2022-08-16 23:22:20+0000] INFO - prefect.TaskRunner | Task 'load': Starting task run...\n"
          ]
        },
        {
          "output_type": "stream",
          "name": "stderr",
          "text": [
            "INFO:prefect.TaskRunner:Task 'load': Starting task run...\n"
          ]
        },
        {
          "output_type": "stream",
          "name": "stdout",
          "text": [
            "[2022-08-16 23:22:20+0000] INFO - prefect.TaskRunner | Task 'load': Finished task run for task with final state: 'Success'\n"
          ]
        },
        {
          "output_type": "stream",
          "name": "stderr",
          "text": [
            "INFO:prefect.TaskRunner:Task 'load': Finished task run for task with final state: 'Success'\n"
          ]
        },
        {
          "output_type": "stream",
          "name": "stdout",
          "text": [
            "[2022-08-16 23:22:20+0000] INFO - prefect.FlowRunner | Flow run SUCCESS: all reference tasks succeeded\n"
          ]
        },
        {
          "output_type": "stream",
          "name": "stderr",
          "text": [
            "INFO:prefect.FlowRunner:Flow run SUCCESS: all reference tasks succeeded\n"
          ]
        },
        {
          "output_type": "stream",
          "name": "stdout",
          "text": [
            "[2022-08-16 23:22:20+0000] INFO - prefect.smtr_veiculos_etl | Waiting for next scheduled run at 2022-08-16T23:22:30+00:00\n"
          ]
        },
        {
          "output_type": "stream",
          "name": "stderr",
          "text": [
            "INFO:prefect.smtr_veiculos_etl:Waiting for next scheduled run at 2022-08-16T23:22:30+00:00\n"
          ]
        },
        {
          "output_type": "stream",
          "name": "stdout",
          "text": [
            "[2022-08-16 23:22:30+0000] INFO - prefect.FlowRunner | Beginning Flow run for 'smtr_veiculos_etl'\n"
          ]
        },
        {
          "output_type": "stream",
          "name": "stderr",
          "text": [
            "INFO:prefect.FlowRunner:Beginning Flow run for 'smtr_veiculos_etl'\n"
          ]
        },
        {
          "output_type": "stream",
          "name": "stdout",
          "text": [
            "[2022-08-16 23:22:30+0000] INFO - prefect.TaskRunner | Task 'extract': Starting task run...\n"
          ]
        },
        {
          "output_type": "stream",
          "name": "stderr",
          "text": [
            "INFO:prefect.TaskRunner:Task 'extract': Starting task run...\n"
          ]
        },
        {
          "output_type": "stream",
          "name": "stdout",
          "text": [
            "[2022-08-16 23:22:30+0000] INFO - prefect.TaskRunner | Task 'extract': Finished task run for task with final state: 'Success'\n"
          ]
        },
        {
          "output_type": "stream",
          "name": "stderr",
          "text": [
            "INFO:prefect.TaskRunner:Task 'extract': Finished task run for task with final state: 'Success'\n"
          ]
        },
        {
          "output_type": "stream",
          "name": "stdout",
          "text": [
            "[2022-08-16 23:22:30+0000] INFO - prefect.TaskRunner | Task 'transform': Starting task run...\n"
          ]
        },
        {
          "output_type": "stream",
          "name": "stderr",
          "text": [
            "INFO:prefect.TaskRunner:Task 'transform': Starting task run...\n"
          ]
        },
        {
          "output_type": "stream",
          "name": "stdout",
          "text": [
            "[2022-08-16 23:22:30+0000] INFO - prefect.TaskRunner | Task 'transform': Finished task run for task with final state: 'Success'\n"
          ]
        },
        {
          "output_type": "stream",
          "name": "stderr",
          "text": [
            "INFO:prefect.TaskRunner:Task 'transform': Finished task run for task with final state: 'Success'\n"
          ]
        },
        {
          "output_type": "stream",
          "name": "stdout",
          "text": [
            "[2022-08-16 23:22:30+0000] INFO - prefect.TaskRunner | Task 'clear_data': Starting task run...\n"
          ]
        },
        {
          "output_type": "stream",
          "name": "stderr",
          "text": [
            "INFO:prefect.TaskRunner:Task 'clear_data': Starting task run...\n"
          ]
        },
        {
          "output_type": "stream",
          "name": "stdout",
          "text": [
            "[2022-08-16 23:22:30+0000] INFO - prefect.TaskRunner | Task 'clear_data': Finished task run for task with final state: 'Success'\n"
          ]
        },
        {
          "output_type": "stream",
          "name": "stderr",
          "text": [
            "INFO:prefect.TaskRunner:Task 'clear_data': Finished task run for task with final state: 'Success'\n"
          ]
        },
        {
          "output_type": "stream",
          "name": "stdout",
          "text": [
            "[2022-08-16 23:22:30+0000] INFO - prefect.TaskRunner | Task 'load': Starting task run...\n"
          ]
        },
        {
          "output_type": "stream",
          "name": "stderr",
          "text": [
            "INFO:prefect.TaskRunner:Task 'load': Starting task run...\n"
          ]
        },
        {
          "output_type": "stream",
          "name": "stdout",
          "text": [
            "[2022-08-16 23:22:30+0000] INFO - prefect.TaskRunner | Task 'load': Finished task run for task with final state: 'Success'\n"
          ]
        },
        {
          "output_type": "stream",
          "name": "stderr",
          "text": [
            "INFO:prefect.TaskRunner:Task 'load': Finished task run for task with final state: 'Success'\n"
          ]
        },
        {
          "output_type": "stream",
          "name": "stdout",
          "text": [
            "[2022-08-16 23:22:30+0000] INFO - prefect.FlowRunner | Flow run SUCCESS: all reference tasks succeeded\n"
          ]
        },
        {
          "output_type": "stream",
          "name": "stderr",
          "text": [
            "INFO:prefect.FlowRunner:Flow run SUCCESS: all reference tasks succeeded\n"
          ]
        },
        {
          "output_type": "stream",
          "name": "stdout",
          "text": [
            "[2022-08-16 23:22:30+0000] INFO - prefect.smtr_veiculos_etl | Waiting for next scheduled run at 2022-08-16T23:22:40+00:00\n"
          ]
        },
        {
          "output_type": "stream",
          "name": "stderr",
          "text": [
            "INFO:prefect.smtr_veiculos_etl:Waiting for next scheduled run at 2022-08-16T23:22:40+00:00\n"
          ]
        },
        {
          "output_type": "stream",
          "name": "stdout",
          "text": [
            "[2022-08-16 23:22:40+0000] INFO - prefect.FlowRunner | Beginning Flow run for 'smtr_veiculos_etl'\n"
          ]
        },
        {
          "output_type": "stream",
          "name": "stderr",
          "text": [
            "INFO:prefect.FlowRunner:Beginning Flow run for 'smtr_veiculos_etl'\n"
          ]
        },
        {
          "output_type": "stream",
          "name": "stdout",
          "text": [
            "[2022-08-16 23:22:40+0000] INFO - prefect.TaskRunner | Task 'extract': Starting task run...\n"
          ]
        },
        {
          "output_type": "stream",
          "name": "stderr",
          "text": [
            "INFO:prefect.TaskRunner:Task 'extract': Starting task run...\n"
          ]
        },
        {
          "output_type": "stream",
          "name": "stdout",
          "text": [
            "[2022-08-16 23:22:41+0000] INFO - prefect.TaskRunner | Task 'extract': Finished task run for task with final state: 'Success'\n"
          ]
        },
        {
          "output_type": "stream",
          "name": "stderr",
          "text": [
            "INFO:prefect.TaskRunner:Task 'extract': Finished task run for task with final state: 'Success'\n"
          ]
        },
        {
          "output_type": "stream",
          "name": "stdout",
          "text": [
            "[2022-08-16 23:22:41+0000] INFO - prefect.TaskRunner | Task 'transform': Starting task run...\n"
          ]
        },
        {
          "output_type": "stream",
          "name": "stderr",
          "text": [
            "INFO:prefect.TaskRunner:Task 'transform': Starting task run...\n"
          ]
        },
        {
          "output_type": "stream",
          "name": "stdout",
          "text": [
            "[2022-08-16 23:22:41+0000] INFO - prefect.TaskRunner | Task 'transform': Finished task run for task with final state: 'Success'\n"
          ]
        },
        {
          "output_type": "stream",
          "name": "stderr",
          "text": [
            "INFO:prefect.TaskRunner:Task 'transform': Finished task run for task with final state: 'Success'\n"
          ]
        },
        {
          "output_type": "stream",
          "name": "stdout",
          "text": [
            "[2022-08-16 23:22:41+0000] INFO - prefect.TaskRunner | Task 'clear_data': Starting task run...\n"
          ]
        },
        {
          "output_type": "stream",
          "name": "stderr",
          "text": [
            "INFO:prefect.TaskRunner:Task 'clear_data': Starting task run...\n"
          ]
        },
        {
          "output_type": "stream",
          "name": "stdout",
          "text": [
            "[2022-08-16 23:22:41+0000] INFO - prefect.TaskRunner | Task 'clear_data': Finished task run for task with final state: 'Success'\n"
          ]
        },
        {
          "output_type": "stream",
          "name": "stderr",
          "text": [
            "INFO:prefect.TaskRunner:Task 'clear_data': Finished task run for task with final state: 'Success'\n"
          ]
        },
        {
          "output_type": "stream",
          "name": "stdout",
          "text": [
            "[2022-08-16 23:22:41+0000] INFO - prefect.TaskRunner | Task 'load': Starting task run...\n"
          ]
        },
        {
          "output_type": "stream",
          "name": "stderr",
          "text": [
            "INFO:prefect.TaskRunner:Task 'load': Starting task run...\n"
          ]
        },
        {
          "output_type": "stream",
          "name": "stdout",
          "text": [
            "[2022-08-16 23:22:41+0000] INFO - prefect.TaskRunner | Task 'load': Finished task run for task with final state: 'Success'\n"
          ]
        },
        {
          "output_type": "stream",
          "name": "stderr",
          "text": [
            "INFO:prefect.TaskRunner:Task 'load': Finished task run for task with final state: 'Success'\n"
          ]
        },
        {
          "output_type": "stream",
          "name": "stdout",
          "text": [
            "[2022-08-16 23:22:41+0000] INFO - prefect.FlowRunner | Flow run SUCCESS: all reference tasks succeeded\n"
          ]
        },
        {
          "output_type": "stream",
          "name": "stderr",
          "text": [
            "INFO:prefect.FlowRunner:Flow run SUCCESS: all reference tasks succeeded\n"
          ]
        },
        {
          "output_type": "stream",
          "name": "stdout",
          "text": [
            "[2022-08-16 23:22:41+0000] INFO - prefect.smtr_veiculos_etl | Waiting for next scheduled run at 2022-08-16T23:22:50+00:00\n"
          ]
        },
        {
          "output_type": "stream",
          "name": "stderr",
          "text": [
            "INFO:prefect.smtr_veiculos_etl:Waiting for next scheduled run at 2022-08-16T23:22:50+00:00\n"
          ]
        }
      ]
    },
    {
      "cell_type": "code",
      "source": [
        "flow.visualize()"
      ],
      "metadata": {
        "id": "qHobUDeRVDJA"
      },
      "execution_count": null,
      "outputs": []
    },
    {
      "cell_type": "code",
      "source": [
        "%rm *.csv"
      ],
      "metadata": {
        "colab": {
          "base_uri": "https://localhost:8080/"
        },
        "id": "eu7IJbsRJTVS",
        "outputId": "2c946c4c-4aee-4eb7-8736-b6e5dfd60a4a"
      },
      "execution_count": 210,
      "outputs": [
        {
          "output_type": "stream",
          "name": "stdout",
          "text": [
            "rm: cannot remove '*.csv': No such file or directory\n"
          ]
        }
      ]
    },
    {
      "cell_type": "markdown",
      "source": [
        "# aprendendo"
      ],
      "metadata": {
        "id": "bcxW4DtGzXTD"
      }
    },
    {
      "cell_type": "code",
      "source": [
        "import time\n",
        "veiculos = extract(url='http://citgisbrj.tacom.srv.br:9977/gtfs-realtime-exporter/findAll/json')\n",
        "data_updated = transform(veiculos)\n",
        "time.sleep(65)\n",
        "veiculos = extract(url='http://citgisbrj.tacom.srv.br:9977/gtfs-realtime-exporter/findAll/json')\n",
        "data_aux = transform(veiculos)\n",
        "\n",
        "var_downtime = 60\n",
        "df = clear_data(data_updated = data_updated, \n",
        "                data_aux=data_aux, \n",
        "                var_downtime=var_downtime)\n",
        "df.head(3)"
      ],
      "metadata": {
        "id": "6238qHKZzWM6"
      },
      "execution_count": null,
      "outputs": []
    },
    {
      "cell_type": "code",
      "source": [
        "import time\n",
        "veiculos = extract(url='http://citgisbrj.tacom.srv.br:9977/gtfs-realtime-exporter/findAll/json')\n",
        "data_updated = transform(veiculos)\n",
        "time.sleep(65)\n",
        "veiculos = extract(url='http://citgisbrj.tacom.srv.br:9977/gtfs-realtime-exporter/findAll/json')\n",
        "data_aux = transform(veiculos)\n",
        "\n",
        "var_downtime = 60\n",
        "for idx in data_aux.index:\n",
        "  # verificando se o veículo está no dataframe antigo\n",
        "  if not data_aux.vei_nro_gestor[idx] in data_updated.vei_nro_gestor.values:\n",
        "    new_vehicle = data_aux.loc[data_aux.vei_nro_gestor==data_aux.vei_nro_gestor[idx]]\n",
        "    data_updated = data_updated.append(new_vehicle, ignore_index=True)\n",
        "    print(f'O veículo {str(new_vehicle.vei_nro_gestor.values)} foi adicionado ao dataframe')\n",
        "  \n",
        "  # O veiculo já está no dataframe atualizado\n",
        "  else:\n",
        "    idx_vehicle = data_updated[data_updated['vei_nro_gestor']==data_aux['vei_nro_gestor'][idx]].index.values\n",
        "\n",
        "    # verificando se houve atualização nas coordenadas do veículo\n",
        "    if(data_updated.loc[idx_vehicle].longitude.values !=data_aux.loc[idx].longitude or\n",
        "           data_updated.loc[idx_vehicle].latitude.values !=data_aux.loc[idx].latitude):\n",
        "        \n",
        "      #atualizando no dataframe as infos do veiculo\n",
        "      data_updated.loc[idx_vehicle] = data_aux.loc[idx].values\n",
        "      print(f'O veículo {str(data_updated.loc[idx_vehicle].vei_nro_gestor.values)} está em circulação e suas informações foram atualizadas')\n",
        "\n",
        "    # não houve atualização nas coordenadas, verificar o tempo parado           \n",
        "    else:\n",
        "      downtime = data_aux.loc[idx].info_coleta - data_updated.loc[idx_vehicle].info_coleta\n",
        "      if (float(downtime.dt.total_seconds()) > var_downtime):\n",
        "        print(f'O veículo {str(data_updated.loc[idx_vehicle].vei_nro_gestor.values)} está parado a {float(downtime.dt.total_seconds())} segundos, então foi removido do dataframe')\n",
        "        data_updated.drop(idx_vehicle, axis=0, inplace=True)\n",
        "        "
      ],
      "metadata": {
        "id": "NFh2B6cXdcjA"
      },
      "execution_count": null,
      "outputs": []
    }
  ]
}